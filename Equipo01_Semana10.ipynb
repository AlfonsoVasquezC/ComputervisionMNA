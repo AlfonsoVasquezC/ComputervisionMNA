{
  "cells": [
    {
      "cell_type": "markdown",
      "metadata": {
        "id": "view-in-github",
        "colab_type": "text"
      },
      "source": [
        "<a href=\"https://colab.research.google.com/github/AlfonsoVasquezC/ComputervisionMNA/blob/main/Equipo01_Semana10.ipynb\" target=\"_parent\"><img src=\"https://colab.research.google.com/assets/colab-badge.svg\" alt=\"Open In Colab\"/></a>"
      ]
    },
    {
      "cell_type": "markdown",
      "metadata": {
        "id": "Wc7DNxrExF3g"
      },
      "source": [
        "![image.png](data:image/png;base64,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)"
      ]
    },
    {
      "cell_type": "markdown",
      "metadata": {
        "id": "WyzHh4QkD52j"
      },
      "source": [
        "**Maestría en Inteligencia Artificial Aplicada / MNA / Tecnológico de Monterrey**\n",
        "\n",
        "**Escuela de Ingeniería y Ciencias**\n",
        "\n",
        "**Actividad en Equipos - Semanas 10: Transformer GPT & Web-Scraping**\n",
        "\n",
        "**ITESM Campus Guadalajara Dr. Luis Eduardo Falcón Morales**\n",
        "\n",
        "Nombre(s): RODRIGO RODRIGUEZ RODRIGUEZ, RIGOBERTO VEGA ESCUDERO, ALEXIS HERNANDEZ MARTINEZ, JUAN ALFONSO VASQUEZ CHAPOI, GERARDO AARON CASTAÑEDA JARAMILLO\n",
        "\n",
        "Matrícula(s): A01183284 , A01793132 , A01016308 , A00820656 , A01137646\n"
      ]
    },
    {
      "cell_type": "markdown",
      "source": [
        "## **Introducción**"
      ],
      "metadata": {
        "id": "k2bAAINNjXEE"
      }
    },
    {
      "cell_type": "markdown",
      "metadata": {
        "id": "f3aRXd3okt5N"
      },
      "source": [
        "En la actividad de esta semana trabajarás en equipos mediante el uso del Transformer GPT y comentarios de usuarios obtenidos mediante WebScraping en Tripadvisor.\n",
        "\n",
        "\n",
        "A través de Tripadvisor ( https://www.tripadvisor.es/ ) en español obtendremos los comentarios de usuarios sobre su experiencia en un hotel en particular. En esta plataforma se evalúa la experiencia mediante puntos de 1 a 5, que corresponden de manera ascendente a “Pésimo”, “Malo”, “Normal”, “Muy bueno” y “Excelente”.\n",
        "\n",
        "\n",
        "Una de las formas en que se han venido utilizando los generadores de texto como el GPT, es para generar datos sintéticos de texto que no tengan problemas de privacidad. En particular en esta actividad los usaremos para generar datos sintéticos sobre comentarios positivos y negativos de usuarios y posteriormente los usaremos para ver si ayudan a mejor el desempeño de un modelo de clasificación.\n",
        "\n",
        "\n",
        "De la siguiente liga de Tripadvisor selecciona un hotel en la zona de la ciudad de Monterrey, México, que consideres adecuado para extraer los comentarios de español y evaluaciones de usuarios:\n",
        "https://www.tripadvisor.es/Hotels-g150782-Monterrey_Northern_Mexico-Hotels.html\n",
        "\n",
        "\n",
        "En particular trata de seleccionar algún hotel cuyas calificaciones consideres desbalanceadas, al verlo como un problema binario: Positivo (4, 5) y Negativo (1, 2 3)."
      ]
    },
    {
      "cell_type": "markdown",
      "source": [
        "## **Pregunta 1**"
      ],
      "metadata": {
        "id": "RkxDv9xIjYI7"
      }
    },
    {
      "cell_type": "markdown",
      "metadata": {
        "id": "V131l46vkt5N"
      },
      "source": [
        "Mediante web scraping realiza una extracción de los comentarios y calificaciones a dicho hotel. Recuerda que Tripadvisor representa las calificaciones mediante círculos verdes. Los comentarios deben ser de usuarios que los redactaron en idioma en español. Indica la cantidad de comentarios y sus calificaciones que extrajiste."
      ]
    },
    {
      "cell_type": "markdown",
      "source": [
        "En esta sección, nos basamos en el código del Dr Falcón en los ejercicios complementarios de la semana 10, seleccionamos el hotel Live Aqua de Monterrey y con base al mismo generamos la extracción de información."
      ],
      "metadata": {
        "id": "p4MeZyDljevz"
      }
    },
    {
      "cell_type": "code",
      "execution_count": 1,
      "metadata": {
        "id": "9rzeC3DcoCxv"
      },
      "outputs": [],
      "source": [
        "import requests\n",
        "from bs4 import BeautifulSoup as soup\n",
        "from random import randint\n",
        "from time import sleep\n",
        "import re\n",
        "import pandas as pd"
      ]
    },
    {
      "cell_type": "code",
      "source": [
        "#!pip install SentencePiece\n",
        "#!pip install datasets transformers[sentencepiece]"
      ],
      "metadata": {
        "id": "y7CjO8mJouf2"
      },
      "execution_count": 2,
      "outputs": []
    },
    {
      "cell_type": "markdown",
      "metadata": {
        "id": "QvrVPhM5CC_j"
      },
      "source": [
        "Seleccionamos el hotel y comentarios en español:"
      ]
    },
    {
      "cell_type": "code",
      "execution_count": 3,
      "metadata": {
        "colab": {
          "base_uri": "https://localhost:8080/"
        },
        "id": "qGfSug1coFZ0",
        "outputId": "e45dda4c-a450-44c2-9819-3c361ec6e561"
      },
      "outputs": [
        {
          "output_type": "stream",
          "name": "stdout",
          "text": [
            "200\n"
          ]
        }
      ],
      "source": [
        "# Selecciones este hotel en particular como ejercicio de prueba:\n",
        "\n",
        "url = 'https://www.tripadvisor.es/Hotel_Review-g1154799-d9092664-Reviews-Live_Aqua_Urban_Resort_Monterrey-San_Pedro_Garza_Garcia_Monterrey_Northern_Mexico.html#REVIEWS'\n",
        "\n",
        "html = requests.get(url,\n",
        "                    headers={\"User-Agent\": \"Mozilla/5.0 (X11; CrOS x86_64 12871.102.0) AppleWebKit/537.36 (KHTML, like Gecko) Chrome/81.0.4044.141 Safari/537.36\"}\n",
        "                    )\n",
        "\n",
        "print(html.status_code)     # la salida \"200\" solo es el status de que hubo respuesta con la página indicada."
      ]
    },
    {
      "cell_type": "markdown",
      "metadata": {
        "id": "_96XX3xsPeeW"
      },
      "source": [
        "Primero recopilemos todos los links de las opiniones:"
      ]
    },
    {
      "cell_type": "code",
      "execution_count": 4,
      "metadata": {
        "colab": {
          "base_uri": "https://localhost:8080/"
        },
        "id": "w1yDocdDuCeq",
        "outputId": "622dad05-7d60-4769-e738-4fcf18469c3b"
      },
      "outputs": [
        {
          "output_type": "execute_result",
          "data": {
            "text/plain": [
              "['https://www.tripadvisor.es/Hotel_Review-g1154799-d9092664-Reviews-or{}-Live_Aqua_Urban_Resort_Monterrey-San_Pedro_Garza_Garcia_Monterrey_Northern_Mexico.html#REVIEWS',\n",
              " 'https://www.tripadvisor.es/Hotel_Review-g1154799-d9092664-Reviews-or5-Live_Aqua_Urban_Resort_Monterrey-San_Pedro_Garza_Garcia_Monterrey_Northern_Mexico.html#REVIEWS',\n",
              " 'https://www.tripadvisor.es/Hotel_Review-g1154799-d9092664-Reviews-or10-Live_Aqua_Urban_Resort_Monterrey-San_Pedro_Garza_Garcia_Monterrey_Northern_Mexico.html#REVIEWS',\n",
              " 'https://www.tripadvisor.es/Hotel_Review-g1154799-d9092664-Reviews-or15-Live_Aqua_Urban_Resort_Monterrey-San_Pedro_Garza_Garcia_Monterrey_Northern_Mexico.html#REVIEWS',\n",
              " 'https://www.tripadvisor.es/Hotel_Review-g1154799-d9092664-Reviews-or20-Live_Aqua_Urban_Resort_Monterrey-San_Pedro_Garza_Garcia_Monterrey_Northern_Mexico.html#REVIEWS',\n",
              " 'https://www.tripadvisor.es/Hotel_Review-g1154799-d9092664-Reviews-or25-Live_Aqua_Urban_Resort_Monterrey-San_Pedro_Garza_Garcia_Monterrey_Northern_Mexico.html#REVIEWS',\n",
              " 'https://www.tripadvisor.es/Hotel_Review-g1154799-d9092664-Reviews-or30-Live_Aqua_Urban_Resort_Monterrey-San_Pedro_Garza_Garcia_Monterrey_Northern_Mexico.html#REVIEWS',\n",
              " 'https://www.tripadvisor.es/Hotel_Review-g1154799-d9092664-Reviews-or35-Live_Aqua_Urban_Resort_Monterrey-San_Pedro_Garza_Garcia_Monterrey_Northern_Mexico.html#REVIEWS',\n",
              " 'https://www.tripadvisor.es/Hotel_Review-g1154799-d9092664-Reviews-or40-Live_Aqua_Urban_Resort_Monterrey-San_Pedro_Garza_Garcia_Monterrey_Northern_Mexico.html#REVIEWS',\n",
              " 'https://www.tripadvisor.es/Hotel_Review-g1154799-d9092664-Reviews-or45-Live_Aqua_Urban_Resort_Monterrey-San_Pedro_Garza_Garcia_Monterrey_Northern_Mexico.html#REVIEWS',\n",
              " 'https://www.tripadvisor.es/Hotel_Review-g1154799-d9092664-Reviews-or50-Live_Aqua_Urban_Resort_Monterrey-San_Pedro_Garza_Garcia_Monterrey_Northern_Mexico.html#REVIEWS',\n",
              " 'https://www.tripadvisor.es/Hotel_Review-g1154799-d9092664-Reviews-or55-Live_Aqua_Urban_Resort_Monterrey-San_Pedro_Garza_Garcia_Monterrey_Northern_Mexico.html#REVIEWS',\n",
              " 'https://www.tripadvisor.es/Hotel_Review-g1154799-d9092664-Reviews-or60-Live_Aqua_Urban_Resort_Monterrey-San_Pedro_Garza_Garcia_Monterrey_Northern_Mexico.html#REVIEWS',\n",
              " 'https://www.tripadvisor.es/Hotel_Review-g1154799-d9092664-Reviews-or65-Live_Aqua_Urban_Resort_Monterrey-San_Pedro_Garza_Garcia_Monterrey_Northern_Mexico.html#REVIEWS',\n",
              " 'https://www.tripadvisor.es/Hotel_Review-g1154799-d9092664-Reviews-or70-Live_Aqua_Urban_Resort_Monterrey-San_Pedro_Garza_Garcia_Monterrey_Northern_Mexico.html#REVIEWS',\n",
              " 'https://www.tripadvisor.es/Hotel_Review-g1154799-d9092664-Reviews-or75-Live_Aqua_Urban_Resort_Monterrey-San_Pedro_Garza_Garcia_Monterrey_Northern_Mexico.html#REVIEWS',\n",
              " 'https://www.tripadvisor.es/Hotel_Review-g1154799-d9092664-Reviews-or80-Live_Aqua_Urban_Resort_Monterrey-San_Pedro_Garza_Garcia_Monterrey_Northern_Mexico.html#REVIEWS',\n",
              " 'https://www.tripadvisor.es/Hotel_Review-g1154799-d9092664-Reviews-or85-Live_Aqua_Urban_Resort_Monterrey-San_Pedro_Garza_Garcia_Monterrey_Northern_Mexico.html#REVIEWS',\n",
              " 'https://www.tripadvisor.es/Hotel_Review-g1154799-d9092664-Reviews-or90-Live_Aqua_Urban_Resort_Monterrey-San_Pedro_Garza_Garcia_Monterrey_Northern_Mexico.html#REVIEWS',\n",
              " 'https://www.tripadvisor.es/Hotel_Review-g1154799-d9092664-Reviews-or95-Live_Aqua_Urban_Resort_Monterrey-San_Pedro_Garza_Garcia_Monterrey_Northern_Mexico.html#REVIEWS',\n",
              " 'https://www.tripadvisor.es/Hotel_Review-g1154799-d9092664-Reviews-or100-Live_Aqua_Urban_Resort_Monterrey-San_Pedro_Garza_Garcia_Monterrey_Northern_Mexico.html#REVIEWS',\n",
              " 'https://www.tripadvisor.es/Hotel_Review-g1154799-d9092664-Reviews-or105-Live_Aqua_Urban_Resort_Monterrey-San_Pedro_Garza_Garcia_Monterrey_Northern_Mexico.html#REVIEWS',\n",
              " 'https://www.tripadvisor.es/Hotel_Review-g1154799-d9092664-Reviews-or110-Live_Aqua_Urban_Resort_Monterrey-San_Pedro_Garza_Garcia_Monterrey_Northern_Mexico.html#REVIEWS',\n",
              " 'https://www.tripadvisor.es/Hotel_Review-g1154799-d9092664-Reviews-or115-Live_Aqua_Urban_Resort_Monterrey-San_Pedro_Garza_Garcia_Monterrey_Northern_Mexico.html#REVIEWS',\n",
              " 'https://www.tripadvisor.es/Hotel_Review-g1154799-d9092664-Reviews-or120-Live_Aqua_Urban_Resort_Monterrey-San_Pedro_Garza_Garcia_Monterrey_Northern_Mexico.html#REVIEWS',\n",
              " 'https://www.tripadvisor.es/Hotel_Review-g1154799-d9092664-Reviews-or125-Live_Aqua_Urban_Resort_Monterrey-San_Pedro_Garza_Garcia_Monterrey_Northern_Mexico.html#REVIEWS',\n",
              " 'https://www.tripadvisor.es/Hotel_Review-g1154799-d9092664-Reviews-or130-Live_Aqua_Urban_Resort_Monterrey-San_Pedro_Garza_Garcia_Monterrey_Northern_Mexico.html#REVIEWS',\n",
              " 'https://www.tripadvisor.es/Hotel_Review-g1154799-d9092664-Reviews-or135-Live_Aqua_Urban_Resort_Monterrey-San_Pedro_Garza_Garcia_Monterrey_Northern_Mexico.html#REVIEWS',\n",
              " 'https://www.tripadvisor.es/Hotel_Review-g1154799-d9092664-Reviews-or140-Live_Aqua_Urban_Resort_Monterrey-San_Pedro_Garza_Garcia_Monterrey_Northern_Mexico.html#REVIEWS',\n",
              " 'https://www.tripadvisor.es/Hotel_Review-g1154799-d9092664-Reviews-or145-Live_Aqua_Urban_Resort_Monterrey-San_Pedro_Garza_Garcia_Monterrey_Northern_Mexico.html#REVIEWS',\n",
              " 'https://www.tripadvisor.es/Hotel_Review-g1154799-d9092664-Reviews-or150-Live_Aqua_Urban_Resort_Monterrey-San_Pedro_Garza_Garcia_Monterrey_Northern_Mexico.html#REVIEWS',\n",
              " 'https://www.tripadvisor.es/Hotel_Review-g1154799-d9092664-Reviews-or155-Live_Aqua_Urban_Resort_Monterrey-San_Pedro_Garza_Garcia_Monterrey_Northern_Mexico.html#REVIEWS',\n",
              " 'https://www.tripadvisor.es/Hotel_Review-g1154799-d9092664-Reviews-or160-Live_Aqua_Urban_Resort_Monterrey-San_Pedro_Garza_Garcia_Monterrey_Northern_Mexico.html#REVIEWS',\n",
              " 'https://www.tripadvisor.es/Hotel_Review-g1154799-d9092664-Reviews-or165-Live_Aqua_Urban_Resort_Monterrey-San_Pedro_Garza_Garcia_Monterrey_Northern_Mexico.html#REVIEWS',\n",
              " 'https://www.tripadvisor.es/Hotel_Review-g1154799-d9092664-Reviews-or170-Live_Aqua_Urban_Resort_Monterrey-San_Pedro_Garza_Garcia_Monterrey_Northern_Mexico.html#REVIEWS',\n",
              " 'https://www.tripadvisor.es/Hotel_Review-g1154799-d9092664-Reviews-or175-Live_Aqua_Urban_Resort_Monterrey-San_Pedro_Garza_Garcia_Monterrey_Northern_Mexico.html#REVIEWS',\n",
              " 'https://www.tripadvisor.es/Hotel_Review-g1154799-d9092664-Reviews-or180-Live_Aqua_Urban_Resort_Monterrey-San_Pedro_Garza_Garcia_Monterrey_Northern_Mexico.html#REVIEWS',\n",
              " 'https://www.tripadvisor.es/Hotel_Review-g1154799-d9092664-Reviews-or185-Live_Aqua_Urban_Resort_Monterrey-San_Pedro_Garza_Garcia_Monterrey_Northern_Mexico.html#REVIEWS',\n",
              " 'https://www.tripadvisor.es/Hotel_Review-g1154799-d9092664-Reviews-or190-Live_Aqua_Urban_Resort_Monterrey-San_Pedro_Garza_Garcia_Monterrey_Northern_Mexico.html#REVIEWS',\n",
              " 'https://www.tripadvisor.es/Hotel_Review-g1154799-d9092664-Reviews-or195-Live_Aqua_Urban_Resort_Monterrey-San_Pedro_Garza_Garcia_Monterrey_Northern_Mexico.html#REVIEWS',\n",
              " 'https://www.tripadvisor.es/Hotel_Review-g1154799-d9092664-Reviews-or200-Live_Aqua_Urban_Resort_Monterrey-San_Pedro_Garza_Garcia_Monterrey_Northern_Mexico.html#REVIEWS',\n",
              " 'https://www.tripadvisor.es/Hotel_Review-g1154799-d9092664-Reviews-or205-Live_Aqua_Urban_Resort_Monterrey-San_Pedro_Garza_Garcia_Monterrey_Northern_Mexico.html#REVIEWS',\n",
              " 'https://www.tripadvisor.es/Hotel_Review-g1154799-d9092664-Reviews-or210-Live_Aqua_Urban_Resort_Monterrey-San_Pedro_Garza_Garcia_Monterrey_Northern_Mexico.html#REVIEWS',\n",
              " 'https://www.tripadvisor.es/Hotel_Review-g1154799-d9092664-Reviews-or215-Live_Aqua_Urban_Resort_Monterrey-San_Pedro_Garza_Garcia_Monterrey_Northern_Mexico.html#REVIEWS',\n",
              " 'https://www.tripadvisor.es/Hotel_Review-g1154799-d9092664-Reviews-or220-Live_Aqua_Urban_Resort_Monterrey-San_Pedro_Garza_Garcia_Monterrey_Northern_Mexico.html#REVIEWS']"
            ]
          },
          "metadata": {},
          "execution_count": 4
        }
      ],
      "source": [
        "links = []\n",
        "\n",
        "max_or_num = 225  # El valor de max_or_num es el mayor múltiplo de 5 menor al total de reseñas en español.\n",
        "                 # Como en este caso, al momento de hacer el web-scraping se tenían 53 comentarios en español,\n",
        "                 # el valor de max_or_num sería 50.\n",
        "\n",
        "\n",
        "reviews_x_pages = 5    # tienes que verificar si van de 10 en 10, o 5 en 5 las reseñas en cada página, porque cada caso es diferente....\n",
        "\n",
        "for k in range(0, max_or_num, reviews_x_pages):\n",
        "  a = url\n",
        "  if k == 0:\n",
        "    ss = '{}'     # Para la primera página es el -or con valor vacío.\n",
        "  else:\n",
        "    ss = str(k)  # convertimos a string el valor numérico.\n",
        "  a = a[:(a.find('Reviews')+7)] + '-or' + ss + a[(a.find('Reviews')+7):]  # Los índices de \"Reviews\" van de 0 a 6, ya que tiene 7 letras.\n",
        "  links.append(a)\n",
        "\n",
        "\n",
        "links"
      ]
    },
    {
      "cell_type": "markdown",
      "metadata": {
        "id": "yXbgTWok4hth"
      },
      "source": [
        "Ya tenemos los links de cada página de los comentarios, ahora procedemos a extraer los reviews que tiene cada página:"
      ]
    },
    {
      "cell_type": "code",
      "execution_count": 5,
      "metadata": {
        "colab": {
          "base_uri": "https://localhost:8080/"
        },
        "id": "y4RTmgtlw7Lj",
        "outputId": "db8099ff-8e3f-490c-d788-32db6424b13e"
      },
      "outputs": [
        {
          "output_type": "stream",
          "name": "stdout",
          "text": [
            "https://www.tripadvisor.es/Hotel_Review-g1154799-d9092664-Reviews-or{}-Live_Aqua_Urban_Resort_Monterrey-San_Pedro_Garza_Garcia_Monterrey_Northern_Mexico.html#REVIEWS\n",
            "Primeramente, les puedo compartir que mi esposa y yo consideramos Live Aqua como nuestra casa en San Pedro.  La ubicación, las instalaciones y la amabilidad del personal hacen que nuestra estancia SIEMPRE sea placentera. Lo que encontramos mas impresionante, es la regadera y como cuenta con su tina aislada con vista al exterior. La comida del restaurant es fenomenal.  Recomiendo los chilaquiles negros.  Simplemente los mejores!\n",
            "Para disfrutar de la ciudad de Monterrey, con excelente ubicación, modernas instalaciones y el olor característico de los Aqua, delicioso. Sin embargo, me disgustó que no cuenta con alberca para llegar y refrescarse después de tanto calor. \n",
            "Siempre procuro quedarme en este hotel ya sea el Grans Fiesta o el Aqua, en verdad muy recomendable, servicio de primera, cuartos muy cómodos y bien decorados , el personal de primera , el buffet es delicioso, buen room service \n",
            "Fue una experiencia de lujo, el staff siempre estuvo pendiente de nosotros y se aseguro que no nos faltara nada, nos encantó la experiencia  y la calidad del servicio que nos brindaron.  Definitivamente el mejor hotel\n",
            "La calidad de los servicios, la variedad del menú y vinos, las instalaciones y amenidades no se recuperaron y han deteriorado progresivamente.  Para el costo recomiendo otro hotel. Este antes era excelente pero ya no. \n",
            "<div class=\"Hlmiy F1\" data-test-target=\"review-rating\"><span class=\"ui_bubble_rating bubble_50\"></span></div>\n",
            "<div class=\"Hlmiy F1\" data-test-target=\"review-rating\"><span class=\"ui_bubble_rating bubble_50\"></span></div>\n",
            "<div class=\"Hlmiy F1\" data-test-target=\"review-rating\"><span class=\"ui_bubble_rating bubble_50\"></span></div>\n",
            "<div class=\"Hlmiy F1\" data-test-target=\"review-rating\"><span class=\"ui_bubble_rating bubble_50\"></span></div>\n",
            "<div class=\"Hlmiy F1\" data-test-target=\"review-rating\"><span class=\"ui_bubble_rating bubble_30\"></span></div>\n",
            "https://www.tripadvisor.es/Hotel_Review-g1154799-d9092664-Reviews-or5-Live_Aqua_Urban_Resort_Monterrey-San_Pedro_Garza_Garcia_Monterrey_Northern_Mexico.html#REVIEWS\n",
            "muy buen servicio. continuen así. es garantia de amabilidad. todo de lujo. recomiendo ampliamente el desayuno. todo muy bien. espero sigan manteniendo la calidad y el servicio, es garantia de los hoteles live aqua\n",
            "La verdad es uno de los hoteles con mejor atención que me he quedado, siempre son muy amables su ubicación es perfecta para viajes de negocios y de placer y la comida es extraordinaria.  Sin duda el mejor hotel de Monterrey \n",
            "El lugar está 10/10, la atención del personal es excelente, un lugar muy nice para hospedarse en San Pedro, el area es de las mejores con restaurantes de alta calidad y centros comerciales. Sin duda alguna regreso!\n",
            "El servicio no fue malo, sin embargo las habitaciones dejan mucho que desear, aunque el diseño del cuarto está padre, los aires acondicionados gotean o suenan mucho, esta fue la segunda vez que me quedaba en el hotel y en ambas ocasiones tuve problemas con los aires. En la segunda estadía nos ofrecieron cambiarnos de cuarto y al cuarto que nos pasaron las mesas y burós estaban sucios. La verdad el personal no fue malo, pero esto me deja mucho que desear si vas a descansar ya que si tienes sueño ligero no ayuda y si esperas que este sanitizado el cuarto pues no aparenta estarlo por la limpieza. Que les digo se que seguro el hotel tomara cartas en el asunto, pero por el momento no me volveré a quedar ahí.\n",
            "Mala experiencia, no es nada barato, de echo es de los mas costosos y en lo particular me sucedio esto  1. No habia agua caliente (llame y 1 hora despues la habilitaron)  2. Nunca hizieron el aseo a la habitación   3. Solicite una cuna y jamas la llevaron 4. No habia Valen Parking  5. No hay pscina en el Hotel \"Aqua\"  6. Me cobraron extras en el desayuno apesar de estar supuestamente incluido \n",
            "<div class=\"Hlmiy F1\" data-test-target=\"review-rating\"><span class=\"ui_bubble_rating bubble_50\"></span></div>\n",
            "<div class=\"Hlmiy F1\" data-test-target=\"review-rating\"><span class=\"ui_bubble_rating bubble_50\"></span></div>\n",
            "<div class=\"Hlmiy F1\" data-test-target=\"review-rating\"><span class=\"ui_bubble_rating bubble_50\"></span></div>\n",
            "<div class=\"Hlmiy F1\" data-test-target=\"review-rating\"><span class=\"ui_bubble_rating bubble_10\"></span></div>\n",
            "<div class=\"Hlmiy F1\" data-test-target=\"review-rating\"><span class=\"ui_bubble_rating bubble_10\"></span></div>\n",
            "https://www.tripadvisor.es/Hotel_Review-g1154799-d9092664-Reviews-or10-Live_Aqua_Urban_Resort_Monterrey-San_Pedro_Garza_Garcia_Monterrey_Northern_Mexico.html#REVIEWS\n",
            "Excelente servicio y atención a clientes los empleados muy atentos, las instalaciones muy cómodas ,  la camarista Mary Zapata hizo nuestra estancia muy placentera al igual que el bell boy Alejandro (el chiquilin). gracias por su atención.\n",
            "Un lugar muy lindo, con lujos y comodidades necesarias para hacer negocios y descansar, súper ubicado y fácil de acceder a todos los lugares en San Pedro y Monterrey. La tina es mi favorita con la vista a la ciudad. \n",
            "de verdad que demasiado cool el hotel en si esta super super padrisimo lo que hace que sobre salga es la atencion al huesped. Otro nivel todos te saludan te atienden de inmediato y la pasas de lujo bien bien relajado mega recomendado \n",
            "El hotel destaca por su diseño y comodidad. Esos son los puntos a resaltar. Sin embargo, el servicio deja mucho que desear. Mi reservación incluía una botella de vino cómo cortesía. Tuve que pedirla varias veces y la respuesta del recepcionista era “estamos confirmando”. Dos horas después llegó una minúscula botella de vino tinto. Y para colmo, sin copas para beber!!! El servicio de alimentos a la habitación también con una demora inexplicable para una pizza y ensalada. Noté una falta de capacitación en el personal y una actitud inapropiada para un hotel 5 estrellas. Definitivamente el Live Aqua en Monterrey está muy por debajo de la calidad y servicio ofrecidos por el hotel del mismo nombre, en San Miguel de Allende.\n",
            "Conocemos el hotel desde que abrio sus puertas, sin duda una categoria superior de hotel a lo que veniamos teniendo en la ciudad de Monterrey, lo hemos utilizado  para alojar clientes de negocios y para visitas personales y disfrutar de la tina de baño y las espectaculares vistas desde los pisos superiores del hotel  Pero en esta ultima visita, notamos inmediatamente un cambio radical en las amenidades de la habitacion del hotel , en primera instancia , donde esta el reloj despertador en un hotel para ejecutivos? no hay nisiquiera un enjuague bucal disponible  , las amenidades de bañera desaparecieron, y obviamente el menu de servicio a cuarto ahora es digital y totalmente impractico, hay que escanear el codigo QR desde la pantalla de la television. Entiendo perfectamente el…\n",
            "<div class=\"Hlmiy F1\" data-test-target=\"review-rating\"><span class=\"ui_bubble_rating bubble_50\"></span></div>\n",
            "<div class=\"Hlmiy F1\" data-test-target=\"review-rating\"><span class=\"ui_bubble_rating bubble_50\"></span></div>\n",
            "<div class=\"Hlmiy F1\" data-test-target=\"review-rating\"><span class=\"ui_bubble_rating bubble_50\"></span></div>\n",
            "<div class=\"Hlmiy F1\" data-test-target=\"review-rating\"><span class=\"ui_bubble_rating bubble_30\"></span></div>\n",
            "<div class=\"Hlmiy F1\" data-test-target=\"review-rating\"><span class=\"ui_bubble_rating bubble_40\"></span></div>\n",
            "https://www.tripadvisor.es/Hotel_Review-g1154799-d9092664-Reviews-or15-Live_Aqua_Urban_Resort_Monterrey-San_Pedro_Garza_Garcia_Monterrey_Northern_Mexico.html#REVIEWS\n",
            "Estoy bastante agusto, con el grupo posadas, su hotel Live Aqua Monterrey, mis respetos excelente atención, lugar, hubicacion, el personal es excepcional, sus habitaciones son una muestra de lujo y calidez, lujo, limpieza, hermosura, literal increíble hotel, los felicito Live Aqua por Tanto!\n",
            "La atención que recibimos desde el bell boy al bajarnos del taxi, personal de recepción, restaurante, spa y concierge TODOS de 5 Estrellas.    Son amables, profesionales, pro activos, y con una excelente presentación. \n",
            "La cena que tuvimos el día de hoy estuvo buenísima !  El capitán Salvador y todo su staff  muy atentos. Muy agradecido con su servicio de primera y de calidad.   Grupo posadas siempre dando lo mejor.  Felicidades a todo el equipo Live Aqua y Grand Fiesta Americana Monterrey.\n",
            "De todos los hoteles de la misma gama q he visitado, es el peor. No tiene ballet parking, nadie te ayuda con el equipaje, te hacen esperar mucho en recepcion. La atención telefónica es aún peor. Malos señalamientos, personal poco capacitado o muy poco atentos. Y para acabarla, algo en el cuarto me dio alergia y amanecí con ronchas y mucha irritación en la piel. El baño incluso tenia manchas de jabón y agua en todo el piso y paredes, no tienen buena higiene. Hasta los hoteles más básicos te incluyen el desayuno, aquí cero atenciones. Pésima experiencia. Espero lean esto y pongan más atención para los futuros clientes. Yo por mi parte no volvería y no podría recomendar un lugar así.  \n",
            "Muy bonito hotel, las habitaciones amplias con muy buenas vistas y  un toque muy moderno, el servicio en restaurante también fue bueno. La ubicación inmejorable frente a Fashion Drive con mucha opción de lugares para comer y comprar. El estacionamiento y el acceso al hotel desde el mismo es complicado\n",
            "<div class=\"Hlmiy F1\" data-test-target=\"review-rating\"><span class=\"ui_bubble_rating bubble_50\"></span></div>\n",
            "<div class=\"Hlmiy F1\" data-test-target=\"review-rating\"><span class=\"ui_bubble_rating bubble_50\"></span></div>\n",
            "<div class=\"Hlmiy F1\" data-test-target=\"review-rating\"><span class=\"ui_bubble_rating bubble_50\"></span></div>\n",
            "<div class=\"Hlmiy F1\" data-test-target=\"review-rating\"><span class=\"ui_bubble_rating bubble_20\"></span></div>\n",
            "<div class=\"Hlmiy F1\" data-test-target=\"review-rating\"><span class=\"ui_bubble_rating bubble_50\"></span></div>\n",
            "https://www.tripadvisor.es/Hotel_Review-g1154799-d9092664-Reviews-or20-Live_Aqua_Urban_Resort_Monterrey-San_Pedro_Garza_Garcia_Monterrey_Northern_Mexico.html#REVIEWS\n",
            "Me quedé el Live Aqua por 3 noches y tanto el cuarto como el servicio fue excelente. Los cuartos son amplios y limpios. Disfruté mucho la vista del gimnasio que está en un piso alto. En el restaurante aunque la carta es limitada la calidad de los alimentos ex excelente, creo que mi única recomendación es que el servicio en el restaurante no es de lo mejor, es difícil llamar la atención del personal además de que son suficientes empleados.\n",
            "Cm siempre excelentes habitaciones súper limpias y amplias un diseño moderno y hermoso el area de baño súper iluminada la vista desde la tina es muy linda y el personal muy amable esta es una muy zona puedes salir caminado a varios restaurantes \n",
            "No hay medidas significativas de seguridad sanitaria, y el Gym sin higiene sanitaria, el personal siempre dando escusas y responsabilizando al de menos categoría. Solo escusas ni una solución, precio muy caro para el servicio que dan \n",
            "Para supuestamente ser un hotel de alto perfil el live aqua monterrey urban no tiene ni siquiera el servicio de un hotel de dos estrellas. El estacionamiento del edificio está pésimamente señalizado por lo que el auto no queda cerca del ascensor del hotel y tienes que caminar bastante con tu equipaje. Al llegar al hotel el equipaje no lo sanitizan ni te lo recibe nadie y tampoco te proporcionan gel antibacterial al llegar. En recepción son muy cortantes y poco cálidos. Soy discapacitado y mi protesis de pierna estaba a plena vista porque tenía bermudas, pregunté si podían ayudarnos con las maletas y ni así alguien se ofrece a ayudarte con las maletas (como si sucede en otros hoteles de la competencia o de menor categoría). Nosotros tuvimos que subir las 4 piezas de equipaje. Al…\n",
            "Todos los años salimos a festejar nuestro aniversario de bodas, usualmente lo hacemos en el Quinta Real, Camino Real o el SAFI en Monterrey, ahora quisimos probar el Fiesta Americana AQUA por ser mas nuevo, sin embargo no fué lo que esperabamos. El estacionamiento es un caso, muy complicado y mal señalado, en el piso que nos toco, habia hasta material de construcción para accesar a los elevadores. Apesar de tener nuestra reservación pre pagada el registro tomo casi 30 minutos, por fin llegamos a nuestra habitación de estilo minimalista, muy bonita pero con una vista al cerro y a casas de posesionarios, el mini bar estaba vacio y ni siquiera habia vasos para el agua. Durante nuestra estancia nos toco el cambio de horario en donde perdimos una hora y el hotel solo nos compenso esa…\n",
            "<div class=\"Hlmiy F1\" data-test-target=\"review-rating\"><span class=\"ui_bubble_rating bubble_50\"></span></div>\n",
            "<div class=\"Hlmiy F1\" data-test-target=\"review-rating\"><span class=\"ui_bubble_rating bubble_50\"></span></div>\n",
            "<div class=\"Hlmiy F1\" data-test-target=\"review-rating\"><span class=\"ui_bubble_rating bubble_10\"></span></div>\n",
            "<div class=\"Hlmiy F1\" data-test-target=\"review-rating\"><span class=\"ui_bubble_rating bubble_20\"></span></div>\n",
            "<div class=\"Hlmiy F1\" data-test-target=\"review-rating\"><span class=\"ui_bubble_rating bubble_20\"></span></div>\n",
            "https://www.tripadvisor.es/Hotel_Review-g1154799-d9092664-Reviews-or25-Live_Aqua_Urban_Resort_Monterrey-San_Pedro_Garza_Garcia_Monterrey_Northern_Mexico.html#REVIEWS\n",
            "Excelente lugar! Las habitaciones muy bonitas, modernas y con vista increíble a la ciudad. Excelente atención y muy amable el personal. Definitivamente me volvería a hospedar ahí! La comida riquísima.\n",
            "Primero, el aseo lo hacen 8am y no tocan en las habitaciones, en ambas noches entraron sin tocar y estábamos dormidos aun.  Me hospede en el Live Aqua MTY donde me recibió Brianda, para el puente de marzo, donde fui a la ciudad a visitarla a unos amigos pero principalmente a descansar.  Hasta ahí todo bien, lo único que no me gustó es que mi habitación está en piso 23 y no en el piso Fiesta rewards donde me prometen que me quedaría siempre que reservo por ese medio admsa sde que amenidades típicas de aqua como los patitos de hule o las batas no haya en la habitación.  Hace 45 días que hice la resevacion, hable al spa para conocer sus servicios y me dijieorn que no era necesario reservar , así que a mí llegada y ya sabiendo los costos, subí a reserva y no había espacio y me llevo…\n",
            "Me hospedé a finales de febrero del 2021 en este hotel. el hotel en general es bonito y los empleados fueron muy enfáticos en quitar todo lo que tuviera pluma de ganso dentro de las habitaciones ya que les avisé que soy alérgico. lo que no me gustó fue que el cuarto tenía algunos detalles de limpieza, había polvo detrás del sillón, y entre la cortina, además de polvo sobre la base de la cama. Dicen que en Monterrey son codos, y se notó en las amenidades, durante las dos noches que me hospedé, sólo dejaron un jabón  para lavarse las manos que no cambiaron, no hay pantuflas ni bata de baño (a pesar de que la página dice que incluye). en la tina no hay nada ni un jabón ni nada, sólo en la regadera y se equivocaron y pusieron dos veces jabón y no pusieron champú. La cafetera no hay…\n",
            "En mi opinión lo mejor es la atención de las habitaciones, la limpieza y desinfección. También el trato al cliente, puesto que tuve algún problema con mi caja de seguridad, la cerradura de mi habitación y con internet pero fueron resueltas con diligencia y profesionalidad. Quizá la de la cerradura se demoró mucho si bien es cierto que no era un problema de rápida solución.\n",
            "Me hospedé en el hotel el día 11 de febrero, el sensor de movimiento del cuarto hacia un ruido como un click cada 30 segundos y no pude dormir, me dijeron que no lo podían desactivar y que si me cambiaban de cuarto sería lo mismo en todos los cuartos. Era un ruido como de una gotera!!! Increíble que en un hotel de esa categoría pase eso!! *Me dijeron que me mandarían un email para disculparse y hablar de la situación, cosa que nunca sucedió.\n",
            "<div class=\"Hlmiy F1\" data-test-target=\"review-rating\"><span class=\"ui_bubble_rating bubble_50\"></span></div>\n",
            "<div class=\"Hlmiy F1\" data-test-target=\"review-rating\"><span class=\"ui_bubble_rating bubble_10\"></span></div>\n",
            "<div class=\"Hlmiy F1\" data-test-target=\"review-rating\"><span class=\"ui_bubble_rating bubble_30\"></span></div>\n",
            "<div class=\"Hlmiy F1\" data-test-target=\"review-rating\"><span class=\"ui_bubble_rating bubble_50\"></span></div>\n",
            "<div class=\"Hlmiy F1\" data-test-target=\"review-rating\"><span class=\"ui_bubble_rating bubble_20\"></span></div>\n",
            "https://www.tripadvisor.es/Hotel_Review-g1154799-d9092664-Reviews-or30-Live_Aqua_Urban_Resort_Monterrey-San_Pedro_Garza_Garcia_Monterrey_Northern_Mexico.html#REVIEWS\n",
            "Excelente servicio, habitaciones cómodas, limpias y en perfecto estado, personal amable. Tiene varias áreas comunes y salones ideales para reuniones, internet y otros servicios de muy buena calidad. Muy recomendado \n",
            "En pocas palabras nos dejaron sin cena de año nuevo, a las 12 de la noche estaba en un uber regresando con algo de comer para mi familia por la incapacidad y falta de interés del personal de brindar un servicio de cena.\n",
            "Me dieron la habitación que tenia disponible siendo que hice una reservación con una semana y media de anticipación. La habitación solo tenia una botella de agua, papel en el baño y jabon. Todos los kits de limpieza, agua, pantuflas, ni una hoja de papel o pluma que siempre hay no había \"por la contingencia\" siendo que te cobran como dia normal.\n",
            "Una experiencia muy unica,  Super buena atencion , la habitacion muy comoda y limpia lo recomiendo ampliamente, los alimentos en perfecto estado , loa detalles de la habitacion y visita espectaculares .. \n",
            "Desde su ambiente sofisticado, hasta un servicio personalizado, Live Aqua Monterrey es una experiencia de lujo para los sentidos. Cuenta con 74 lujosas habitaciones ambientadas con aromaterapia. Su restaurante Zoi y Feel Urban Day Spa by Aqua valen la pena.\n",
            "<div class=\"Hlmiy F1\" data-test-target=\"review-rating\"><span class=\"ui_bubble_rating bubble_50\"></span></div>\n",
            "<div class=\"Hlmiy F1\" data-test-target=\"review-rating\"><span class=\"ui_bubble_rating bubble_10\"></span></div>\n",
            "<div class=\"Hlmiy F1\" data-test-target=\"review-rating\"><span class=\"ui_bubble_rating bubble_10\"></span></div>\n",
            "<div class=\"Hlmiy F1\" data-test-target=\"review-rating\"><span class=\"ui_bubble_rating bubble_50\"></span></div>\n",
            "<div class=\"Hlmiy F1\" data-test-target=\"review-rating\"><span class=\"ui_bubble_rating bubble_50\"></span></div>\n",
            "https://www.tripadvisor.es/Hotel_Review-g1154799-d9092664-Reviews-or35-Live_Aqua_Urban_Resort_Monterrey-San_Pedro_Garza_Garcia_Monterrey_Northern_Mexico.html#REVIEWS\n",
            "Piso del Baño sucio asi como la alfombra de los pasillos. ademas tenian varios dispensadores de Gel y etaban vacios o no funcionaban, no  todo el personal traia careta, nadie toma temperatura  a la entrada, \n",
            "Les encantará tanto la atención del personal como el diseño fino y minimalista del hotel. El gimnasio tiene excelente vista. El cuarto tiene una distribución excelente y el colchón está Mega a gusto | una muestra mas de nuestro México 🇲🇽 De PRIMERmundo\n",
            "El mejor servicio lo brindan con personas altamente capacitadas y sensibles a las necesidades de cada huésped. Instalaciones totalmente adecuadas para ofrecer un servicio personalizado y de calidad profesional. Enhorabuena a la dirección del hotel. Muchas gracias por todo y muchas felicidades!.\n",
            "Fue una experiencia muy agradable. Regresaré la próxima vez que venga a Monterrey. Desde el recibimiento, durante la estancia y al finalizar la estancia. Puntos de interés cercanos. Excelente servicio.\n",
            "Por lo que cobran no vale la pena. Hay hoteles que cuestan la mitad y dan mucho mejor servicio. Espero esta reseña les ayude a mejorar. No me dieron lo que prometía la reserva. El lugar no tiene nada especial es un fiesta americana con algunos detalles de lujo. El servicio es de fiesta inn\n",
            "<div class=\"Hlmiy F1\" data-test-target=\"review-rating\"><span class=\"ui_bubble_rating bubble_30\"></span></div>\n",
            "<div class=\"Hlmiy F1\" data-test-target=\"review-rating\"><span class=\"ui_bubble_rating bubble_50\"></span></div>\n",
            "<div class=\"Hlmiy F1\" data-test-target=\"review-rating\"><span class=\"ui_bubble_rating bubble_50\"></span></div>\n",
            "<div class=\"Hlmiy F1\" data-test-target=\"review-rating\"><span class=\"ui_bubble_rating bubble_50\"></span></div>\n",
            "<div class=\"Hlmiy F1\" data-test-target=\"review-rating\"><span class=\"ui_bubble_rating bubble_20\"></span></div>\n",
            "https://www.tripadvisor.es/Hotel_Review-g1154799-d9092664-Reviews-or40-Live_Aqua_Urban_Resort_Monterrey-San_Pedro_Garza_Garcia_Monterrey_Northern_Mexico.html#REVIEWS\n",
            "Excelente servicio! El restaurante muy rico y el mesero Eduardo muy atento y amable. Los cuarto del hotel están limpios y muy bonitos. Sin duda el mejor hotel en monterrey. Tiene un aroma delicioso.  Muy recomendado!\n",
            "Ha sido un desencuentro tras otro. Cancelé mi reservación con mas de 24 horas de anticipación como lo marcan sus politicas. Recibí mi correo de confirmación de mi cancelación sin cargo alguno. Para mi sorpresa dos días después recibo una factura por la noche de hotel y un cargo en mi American Express. Desde el mismo jueves establecí contacto con el hotel y les hice llegar mi correo con la clave de cancelación. Tuve que darle seguimiento el jueves, viernes, sabado y finalmente el lunes los Señores Luis Guesca y Fernando Saldaña validaron mi cancelación (Gracias!). Mas sin embargo mi odisea no terminó ahí. Aun y cuando este fue un error de ellos, LIve Aqua solicita que sea yo el que llame a AMEX para hacer el tramite de cargo no reconocido. Les hago saber mi disgusto, pues ya he…\n",
            "de los mejores hoteles para los que vamos a trabajar y aprovechar fines de semana, y debido que es un hotel en el que se puede pasar buena parte del dia y compartir la privacidad que el ambiente que se tiene en el lugar\n",
            "He viajado 3 veces a Monterrey a diferentes hoteles para conocer cual es el mejor y este es definitivamente el mejor en el que me he hospedado. La habitación no es grande pero muy elegante y el baño es hermoso. La calidad del personal impecable. A la habitación le falta un poco de espacio para guardar la ropa si estás por muchos días.\n",
            "Yo creo que los alimentos los cobran muy bien, pero la cantidad y sabor, le hace falta atender esos puntos y ofrecer cosas diferentes, esos puntos son fundamentales y también tener un bar abierto con un horario más amplio\n",
            "<div class=\"Hlmiy F1\" data-test-target=\"review-rating\"><span class=\"ui_bubble_rating bubble_50\"></span></div>\n",
            "<div class=\"Hlmiy F1\" data-test-target=\"review-rating\"><span class=\"ui_bubble_rating bubble_10\"></span></div>\n",
            "<div class=\"Hlmiy F1\" data-test-target=\"review-rating\"><span class=\"ui_bubble_rating bubble_40\"></span></div>\n",
            "<div class=\"Hlmiy F1\" data-test-target=\"review-rating\"><span class=\"ui_bubble_rating bubble_50\"></span></div>\n",
            "<div class=\"Hlmiy F1\" data-test-target=\"review-rating\"><span class=\"ui_bubble_rating bubble_50\"></span></div>\n",
            "https://www.tripadvisor.es/Hotel_Review-g1154799-d9092664-Reviews-or45-Live_Aqua_Urban_Resort_Monterrey-San_Pedro_Garza_Garcia_Monterrey_Northern_Mexico.html#REVIEWS\n",
            "excelente servicio al cliente, un agradecimiento muy especial a Luis Huesca, a Carolina Erazo y a Alejandro uno de los botones que en general son todos muy amables, Gracias por toda la ayuda y la buena onda\n",
            "Mi novia y yo tuvimos un gran fin de semana en el hotel Live Aqua, las instalaciones son de primera la igual que el servicio y la atención de cada persona del hotel empezando por el Gerente y todo su equipo. Vale la pena visitar el Spa!\n",
            "De las mejores opciones en Monterrey, que no hay buena infraestructura hotelera, para la relevancia de la ciudad. Ubicación y servicio excelente. La comida es muy buena. Lo único es que comienza a notarse que le falta mantenimiento a las habitaciones.\n",
            "Todo perfecto, solo detalles con la cama, no esta fija y se mueve demasiado, inclusive al sentarte en la cama esta se mueve hacia todos lados! y la comunicación del cuarto,el teléfono para llamar a recepción no funciono, use mi celular, el personal de recepción pudiera ser un poco mas eficiente en resolver problemas urgentes.\n",
            "A las 3am me levanté asustada después de escuchar una pareja gritándose majaderías golpeándose y  aventándose  cosas a un lado de mi cuarto; antes no la mató. En vdd de terror. Esto duró 3 hrs ya no me puede dormir. Y el hotel no supo actuar las veces q lo reporté solo fueron a tocarles la puerta y al irse seguían con los golpes. El personal del hotel no pensó en sacarlos o hablarle a la Policia. Yo tuve miedo de lo q pudiera pasar no me sentí segura ni protegida en el mismo. Decepción total del personal muy desagradable experiencia tanto q no volveremos. \n",
            "<div class=\"Hlmiy F1\" data-test-target=\"review-rating\"><span class=\"ui_bubble_rating bubble_50\"></span></div>\n",
            "<div class=\"Hlmiy F1\" data-test-target=\"review-rating\"><span class=\"ui_bubble_rating bubble_50\"></span></div>\n",
            "<div class=\"Hlmiy F1\" data-test-target=\"review-rating\"><span class=\"ui_bubble_rating bubble_40\"></span></div>\n",
            "<div class=\"Hlmiy F1\" data-test-target=\"review-rating\"><span class=\"ui_bubble_rating bubble_50\"></span></div>\n",
            "<div class=\"Hlmiy F1\" data-test-target=\"review-rating\"><span class=\"ui_bubble_rating bubble_10\"></span></div>\n",
            "https://www.tripadvisor.es/Hotel_Review-g1154799-d9092664-Reviews-or50-Live_Aqua_Urban_Resort_Monterrey-San_Pedro_Garza_Garcia_Monterrey_Northern_Mexico.html#REVIEWS\n",
            "El hotel es impecabable, el personal es muy atento y hacen todo lo que este en sus manos para ayudar.  Tenemos una oficina en Monterrey y es el segundo año que hacemos la cena de fin de año con el personal. Reservamos en zoi para 10 personas, fuimos atendidos por Eduardo, tanto el como sus compañeros,y el chef fueron muy amables y estuvieron al pendiente durante toda la velada.  Pedimos varios filetes de res, diferentes terminos, todos exquisiotos, la entrada de atun y sandia esta fuera de este mundo.. bueniisima... todo todo exquisito.  Muchisimas gracias!  Definitivamente seguire organizando las cenas empresariales ahi.  Todos los desayunos y comidas fueron riquisimos.\n",
            "Recomiendo ampliamente este hotel, excede todos los servicios que puede ofrecer un hotel. Ideal para hospedarte en familia o de trabajo, excelente ubicación en Monterrey.  La habitación tiene una cama excelente y una tina de lujo para descansar y relajar.\n",
            "De los mejores hoteles que he llegado.. perfectas condiciones. El cuarto súper bueno, todo nuevo moderno,etc. Muy buen hotel.la gente muy amable, personal súper atento,  amenities perfectos, instalaciones ,etc\n",
            "Un increíble hotel con staff sobre acogedor, con muy buena infraestructura.  El servicio de restaurante excelente, para la memoria. Los alimentos muy buenos.   Un MUST en la ciudad para tomar un buen descanso. \n",
            "This hotel is crazy mediocre if not crappy , the staff is not trained well and overall just a meh hotel for a Live Aqua. Last night in the room, there was whole broken glass Panel, which I thought was the design until I started stepping on Small glass pieces. We had to change rooms which took forever and it was already midnight. Then I forgot my pants in the last room which they said they never found until I asked for the security videos, they mysteriously “turned up”. ——————- Este hotel, está de lo más mediocre si no bastante malo para un Live Aqua. el personal también está de lo más equisss, se ve que no están entrenados al 100%. Anoche Había un panel de vidrio roto en mi cuarto, lo cual pensé que era “diseño” hasta que empecé a pisar Descalza Pedazos de vidrio en el piso de…\n",
            "<div class=\"Hlmiy F1\" data-test-target=\"review-rating\"><span class=\"ui_bubble_rating bubble_50\"></span></div>\n",
            "<div class=\"Hlmiy F1\" data-test-target=\"review-rating\"><span class=\"ui_bubble_rating bubble_50\"></span></div>\n",
            "<div class=\"Hlmiy F1\" data-test-target=\"review-rating\"><span class=\"ui_bubble_rating bubble_50\"></span></div>\n",
            "<div class=\"Hlmiy F1\" data-test-target=\"review-rating\"><span class=\"ui_bubble_rating bubble_50\"></span></div>\n",
            "<div class=\"Hlmiy F1\" data-test-target=\"review-rating\"><span class=\"ui_bubble_rating bubble_20\"></span></div>\n",
            "https://www.tripadvisor.es/Hotel_Review-g1154799-d9092664-Reviews-or55-Live_Aqua_Urban_Resort_Monterrey-San_Pedro_Garza_Garcia_Monterrey_Northern_Mexico.html#REVIEWS\n",
            "Super moderno, instalaciones en perfectas condiciones, Limpio, confortable, agradable, super bonito, muy buena atención de su personal, son muy serviciales y atentos, el hotel esta en una zona muy bonita en San Pedro Garza Garcia! Lo super recomiendo.  \n",
            "Sin agua caliente en la regadera. El staff no sabe cómo resolver, aunque son muy amables. El hotel está más preocupado por otros temas...aromaterapía, cobrar 100% al ingreso, etc... deberían concentrarse en lo básico de un cuarto de hotel...agua caliente.\n",
            "Todo excelente muy bonito el hotel nos encantaron los cuartos, el recibimiento fue muy amable y ágil...y el servicio fue espectacular en el desayuno bastante bien y en la cena no estaba tan bien pero el chef sumamente amble \n",
            "Recibí un trato excelente de todo el personal, que estuvo muy pendiente de atenderme sin ser molestos. La vista del hotel es increible y la habitacion es comoda funcional y diferente de lo tradicional\n",
            "El hotel es hermoso en diseño, atención a cliente a detalle, tiene las amenidades personalizadas y puedes elegir el aroma de tu habitación, el personal es muy amable y la comida del restaurante es deliciosa. \n",
            "<div class=\"Hlmiy F1\" data-test-target=\"review-rating\"><span class=\"ui_bubble_rating bubble_50\"></span></div>\n",
            "<div class=\"Hlmiy F1\" data-test-target=\"review-rating\"><span class=\"ui_bubble_rating bubble_10\"></span></div>\n",
            "<div class=\"Hlmiy F1\" data-test-target=\"review-rating\"><span class=\"ui_bubble_rating bubble_50\"></span></div>\n",
            "<div class=\"Hlmiy F1\" data-test-target=\"review-rating\"><span class=\"ui_bubble_rating bubble_50\"></span></div>\n",
            "<div class=\"Hlmiy F1\" data-test-target=\"review-rating\"><span class=\"ui_bubble_rating bubble_50\"></span></div>\n",
            "https://www.tripadvisor.es/Hotel_Review-g1154799-d9092664-Reviews-or60-Live_Aqua_Urban_Resort_Monterrey-San_Pedro_Garza_Garcia_Monterrey_Northern_Mexico.html#REVIEWS\n",
            "Buenas instalaciones, el cuarto es agradable y bien decorado, pero el room service no está a la altura y las opciones de entretenimiento son malas. Sólo ofrecen pocos canales de películas dobladas al español, y casi no hay canales mexicanos para ver noticias o programación local. \n",
            "Instalaciones comodas y modernas. Ambiente agradable y discreto. Se sinte uno realmente como en casa. El servicio, el menú y la comida son variados y de muy buena calidad. Siempre que viajo a Monterrey regreso a este hotel\n",
            "El personal es muy amable y servicial.  el personal te orienta sobre las ubicaciones en el hotel.  Es un hotel muy moderno y vanguardista. La aromaterapia se ofrece gratis en la habitacion.  La vista es increible.\n",
            " Lo mejor en Monterrey. Una súper experiencia en San Pedro, la vista, ubicación, la aromaterapia y las instalaciones. La pasamos increíble mi esposo y yo durante nuestra estancia. Ubicado cerca de restaurantes y vida nocturna. \n",
            "muy buena ubicacion , la decoracion del hotel muy bonita,  las amenidades en cada piso muy buen detalle, el perosonal del hotel muy amables , acomedidos en cuanto a que si nos hacia falta algo, el desayuno en rest aqua excelente , las habitaciones de muy buen tamano ,la cama muy comoda nomas las almohadas nos parecieron demasiado duras. El hotel lo recomiendo al100 \n",
            "<div class=\"Hlmiy F1\" data-test-target=\"review-rating\"><span class=\"ui_bubble_rating bubble_40\"></span></div>\n",
            "<div class=\"Hlmiy F1\" data-test-target=\"review-rating\"><span class=\"ui_bubble_rating bubble_50\"></span></div>\n",
            "<div class=\"Hlmiy F1\" data-test-target=\"review-rating\"><span class=\"ui_bubble_rating bubble_50\"></span></div>\n",
            "<div class=\"Hlmiy F1\" data-test-target=\"review-rating\"><span class=\"ui_bubble_rating bubble_50\"></span></div>\n",
            "<div class=\"Hlmiy F1\" data-test-target=\"review-rating\"><span class=\"ui_bubble_rating bubble_50\"></span></div>\n",
            "https://www.tripadvisor.es/Hotel_Review-g1154799-d9092664-Reviews-or65-Live_Aqua_Urban_Resort_Monterrey-San_Pedro_Garza_Garcia_Monterrey_Northern_Mexico.html#REVIEWS\n",
            "Excelente servicio y muy rica la comida! Me gusto mucho el trato que me dieron, siempre estuvieron atentos y al pendiente, no tardo mucho en llegar la comida que ordenamos, muy bien presentada y rica.\n",
            "Excelente atención  De parte todo el personal , ubicación privilegiada plazas etc y  desde tu llegada  te ofrecen lo que te apetezca para tomar , una habitación con vista espectacular y   aroma delicioso,  la comida riquísima , room service 24 hrs , Spa muy agusto muy privado mi estancia fue corta pero sin duda regresare\n",
            "Tapar pasillos de agua. Cambiar baños detras del front desk. Poner algo NO resbaloso en la regadera y poner cales eléctricos lejos! Poner manijas a la puerta del WC en el cuarto. Hacer el motor lobby mas grande.\n",
            "este hotel es extraordinario.  Es una experiencia unica que invita al descanso profundo dentro de un ambiente motivante para todos los sentidos.  definitivamente el mejor de Monterrey.  Todo el personal ayuda a hacer de la estancia una experiencia que claramente quiero repetir\n",
            "El hotel esta convenientemente localizado en Monterrey con acceso a restaurantes de primer nivel. El personal en todo momento atento a las necesidades del huesped. El servicio de aromaterapia es un extra que se agradece.\n",
            "<div class=\"Hlmiy F1\" data-test-target=\"review-rating\"><span class=\"ui_bubble_rating bubble_50\"></span></div>\n",
            "<div class=\"Hlmiy F1\" data-test-target=\"review-rating\"><span class=\"ui_bubble_rating bubble_50\"></span></div>\n",
            "<div class=\"Hlmiy F1\" data-test-target=\"review-rating\"><span class=\"ui_bubble_rating bubble_10\"></span></div>\n",
            "<div class=\"Hlmiy F1\" data-test-target=\"review-rating\"><span class=\"ui_bubble_rating bubble_50\"></span></div>\n",
            "<div class=\"Hlmiy F1\" data-test-target=\"review-rating\"><span class=\"ui_bubble_rating bubble_50\"></span></div>\n",
            "https://www.tripadvisor.es/Hotel_Review-g1154799-d9092664-Reviews-or70-Live_Aqua_Urban_Resort_Monterrey-San_Pedro_Garza_Garcia_Monterrey_Northern_Mexico.html#REVIEWS\n",
            "Si vas en pareja es recomendable, no apto para niños; el spa es regular. La atención y trato muy buena. La ubicación es muy buena para ir a los centros comerciales; hay tres o cuatro muy cercanos. Variedad de restaurantes de calidad alrededor y la comida del hotel es muy buena; en cada piso te dan algún tipo de amenidad (café, agua o mezcal). Cuidan mucho la percepción de los sentidos, olores, vista, tacto, gusto y sonido; por eso la música ambiente, las amenidades, los aromas, en fin; buena experiencia aunque si de costo\n",
            "Una excelente opción de hospedaje en la ciudad de Monterrey,  te permite estar en la zona más tranquila y mejor de San Pedro Garza.   Hay dos opciones para comer, y en ambas, los restaurantes cuentan con una gran calidad de alimentos y bebidas.  El gimnasio es pequeño, pero cuenta con lo necesario para poder hacer tu rutina.   Una noche al llegar tarde y cansado, pedí un sándwich,  y estaba delicioso...   Los detalles enamoran y el pato de hule,  es un toque sensacional...  Es raro ver a una chica en el puesto de bellboys, pero Brenda, fue una grata sorpresa y ayuda. El personal en restaurante también está dispuesto a hacer una grata experiencia....\n",
            "Muy buen hotel, aunque no siempre tiene disponibilidad y tiene precio alto, contra lo que realmente esperaba muy confortable y el personal es muy amable y el servicio al cuarto en ocasiones se tarda En ocasiones las amenidades de las habitación varian o no las supervisan porque un dia ponen algo y al siguiente no lo completan\n",
            "el personal muy amable . instalaciones excelentes y un buen SPA, me parece que en el area de spa las masajistas son exclentes y las insyalaciones muy buenas, un poco de ,as atencion se requiere en la reception del spa\n",
            "Nuestra habitación la 2004 con muy buena vista hacia Fashion Drive, todas las amenidades como luces cortinas persianas automáticas la aromaterapia, muy buena atención en el lobby de parte de Ernesto gracias \n",
            "<div class=\"Hlmiy F1\" data-test-target=\"review-rating\"><span class=\"ui_bubble_rating bubble_40\"></span></div>\n",
            "<div class=\"Hlmiy F1\" data-test-target=\"review-rating\"><span class=\"ui_bubble_rating bubble_50\"></span></div>\n",
            "<div class=\"Hlmiy F1\" data-test-target=\"review-rating\"><span class=\"ui_bubble_rating bubble_40\"></span></div>\n",
            "<div class=\"Hlmiy F1\" data-test-target=\"review-rating\"><span class=\"ui_bubble_rating bubble_40\"></span></div>\n",
            "<div class=\"Hlmiy F1\" data-test-target=\"review-rating\"><span class=\"ui_bubble_rating bubble_50\"></span></div>\n",
            "https://www.tripadvisor.es/Hotel_Review-g1154799-d9092664-Reviews-or75-Live_Aqua_Urban_Resort_Monterrey-San_Pedro_Garza_Garcia_Monterrey_Northern_Mexico.html#REVIEWS\n",
            "Excelente hotel con unas habitaciones amplias, bonitas, limpias y una vista a la montaña preciosa. Muy Bueno para parejas o viaje de negocios. El SPA es excelente pero no cuenta con una Piscina que lo haria mucho mas atractivo para los huespedes que disfrutan nadar.\n",
            "El trato del personal fue excelente, las instalaciones impecables, modernas y con gran estilo. Te hacen sentir en casa, con el el valor agregado que el personal hace todo lo posible para que sea una experiencia relajante, definitivamente lo recomiendo.\n",
            "Hotel maravilloso, perfecta ubicación, gran servicio y gran amabilidad de todo el personal. Buena calidad de los alimentos y buena limpieza de los cuartos! Perfecto para un hotel de esta categoría! Lo recomiendo ampliamente\n",
            "El SPA bien, a secas, mucho ruido en la habitación tanto de la calle como una música de ambientación que me levanto a las 7 am, la comida del restaurante ZOI muy promedio, no tenían carta de vinos! Lo venden como un 5 Estrellas y nada que ver ahora.\n",
            "Live Aqua Urban Spa me hizo salir de un ajetreado día, para convertirse en uno de total relajación, el recepcionista Pepe, muy amable, tuve la oportunidad de conocer al supervisor Omar Vázquez quien personalmente me dio un tour por las instalaciones, fui sólo para utilizar las áreas húmedas por cuestiones de tiempo, pero quedé con ganas de un servicio, con seguridad volveré. Ángel el spa butler súper atento y servicial en todo momento, gracias por la experiencia!!\n",
            "<div class=\"Hlmiy F1\" data-test-target=\"review-rating\"><span class=\"ui_bubble_rating bubble_50\"></span></div>\n",
            "<div class=\"Hlmiy F1\" data-test-target=\"review-rating\"><span class=\"ui_bubble_rating bubble_50\"></span></div>\n",
            "<div class=\"Hlmiy F1\" data-test-target=\"review-rating\"><span class=\"ui_bubble_rating bubble_50\"></span></div>\n",
            "<div class=\"Hlmiy F1\" data-test-target=\"review-rating\"><span class=\"ui_bubble_rating bubble_20\"></span></div>\n",
            "<div class=\"Hlmiy F1\" data-test-target=\"review-rating\"><span class=\"ui_bubble_rating bubble_50\"></span></div>\n",
            "https://www.tripadvisor.es/Hotel_Review-g1154799-d9092664-Reviews-or80-Live_Aqua_Urban_Resort_Monterrey-San_Pedro_Garza_Garcia_Monterrey_Northern_Mexico.html#REVIEWS\n",
            "Es un hotel que se desea distinguir por el servicio e instalaciones y me experiencia no fue agradable, no ponen atención a detalles, no tienen hoja para ordenar el desayuno en la habitación, no me dejaron pantuflas, no me aplicaron un descuento que ellos mismos me otorgaron.\n",
            "Muy buen servicio en todos los aspectos desde las instalaciones hasta  el kinimo detalle mas ke super bien Volvería a ir mil veces me encanta este hotel. Todo esta muy muy bien.  Sin palabras me falto temps\n",
            "El hotel se encuentra ubicado en la zona moderna y rodeado de grandes edificios  Es nuevo, con habitaciones confortables y muy moderna la decoración   Solo que no es posible que el lobby no tenga aire acondicionado Hace muchísimo calor, El servicio es malo tanto en recepción como en el restaurante  La comida deja mucho que desear  Deben prestar más atención al servicio pues es un hotel muy caro  \n",
            "Mi gusta el panorama , bonito design, flexibilidad  e excellente servicio! La limpieza no está al alcance del nivel de lo hotel... falta mas precision e cuidado con los detailles. La puerta de mi baño non tenía cerradura !!\n",
            "La calidad del restaurante es genial, todo el personal es super amable al pendiente de tus necesidades. La comida es super rica! ubicado en una zona super padre y con vistas geniales de la ciudad . Sin duda el mejor hotel en Monterrey \n",
            "<div class=\"Hlmiy F1\" data-test-target=\"review-rating\"><span class=\"ui_bubble_rating bubble_20\"></span></div>\n",
            "<div class=\"Hlmiy F1\" data-test-target=\"review-rating\"><span class=\"ui_bubble_rating bubble_50\"></span></div>\n",
            "<div class=\"Hlmiy F1\" data-test-target=\"review-rating\"><span class=\"ui_bubble_rating bubble_40\"></span></div>\n",
            "<div class=\"Hlmiy F1\" data-test-target=\"review-rating\"><span class=\"ui_bubble_rating bubble_50\"></span></div>\n",
            "<div class=\"Hlmiy F1\" data-test-target=\"review-rating\"><span class=\"ui_bubble_rating bubble_50\"></span></div>\n",
            "https://www.tripadvisor.es/Hotel_Review-g1154799-d9092664-Reviews-or85-Live_Aqua_Urban_Resort_Monterrey-San_Pedro_Garza_Garcia_Monterrey_Northern_Mexico.html#REVIEWS\n",
            " el hotel es una estupenda experiencia desde el check in hasta el check out, la calidez del personal y los detalles en el piso, habitacion, de primer nivel. el servicio en el restaurante y bar superior al promedio de hoteles GT  \n",
            "Es un hotel con excelente ubicación, atención e instalaciones. Pasamos un fin de semana muy agradable, cenamos en el restaurante y podemos decir que espectacular! Recibimos la atención del Chef Antonio y quedamos encantados. Definitivamente para regresar.\n",
            "En total tuvimos 10 cuartos incluyendo la suite luna, una cena contratada para 25 personas y diversos servicios de catering a lo largo de los días, en los cuales nos demostraron un servicio bastante deficiente, que no consideramos está a la altura de Live Aqua.  Nadie nos recibió a nuestra llegada al Hotel ni se presentó algún responsable del área de grupos durante nuestra estancia, y la comunicación entre las áreas parecía inexistente, En los centros de consumo la atención era bastante lenta, con mi equipo estuvimos sentados 15 minutos sin que se acercara nadie a ofrecernos la carta del restaurante siendo la única mesa en todo el lugar.  No había un capitán ni maitre presente;  para todo había una excusa, que si el señor había tenido un problema personal y se había tenido que…\n",
            "Excelente servicio, la comida muy buena, los cuartos muy bien decorados. Todos muy amables, nos encanta hospedarnos ahí y nos sentimos en casa. Seguiremos yendo. Les sugiero que cambien los menús del Room Service\n",
            "Excelente Hotel y Excelente comida  Total comfort, ambiente discreto, tranquilo  amigable,  agradable a todos los sentidos  Una estadia 100% disfrutable y con muy buenos desayunos y cenas  Falta -urge!- variedad de botanas en el bar, tanto de cortesía como de menu. No hay \"botana\" son más bien platillos  Gran sorpresa me lleve con la Hamburguesa. Una agradable delicia que no esperaba  Feliz estancia y Provecho!!   \n",
            "<div class=\"Hlmiy F1\" data-test-target=\"review-rating\"><span class=\"ui_bubble_rating bubble_50\"></span></div>\n",
            "<div class=\"Hlmiy F1\" data-test-target=\"review-rating\"><span class=\"ui_bubble_rating bubble_50\"></span></div>\n",
            "<div class=\"Hlmiy F1\" data-test-target=\"review-rating\"><span class=\"ui_bubble_rating bubble_10\"></span></div>\n",
            "<div class=\"Hlmiy F1\" data-test-target=\"review-rating\"><span class=\"ui_bubble_rating bubble_50\"></span></div>\n",
            "<div class=\"Hlmiy F1\" data-test-target=\"review-rating\"><span class=\"ui_bubble_rating bubble_50\"></span></div>\n",
            "https://www.tripadvisor.es/Hotel_Review-g1154799-d9092664-Reviews-or90-Live_Aqua_Urban_Resort_Monterrey-San_Pedro_Garza_Garcia_Monterrey_Northern_Mexico.html#REVIEWS\n",
            "No tengo quejas el hotel es hermoso , el staff se siente mejor capacitado que el año pasado que fuimos a conocer, y la comida y el precio de los alimentos nos parecio muy bueno. Yo cuidaria la limpieza de los blancos en general de la habitacion , la luz entra por medio del ventanal , y el edredon es muy grueso para no poder controlar el aire acondicionado. Pero disfrutamos mucho la estancia , sin duda volveremos. \n",
            "Recomiendo Live Aqua 100%, personal del hotel muy amables y eficaces, instalaciones muy limpias y nuevas, restaurantes limpios y excelente servicio.  Definitivamente recomiendo este hotel no solo para ir en pareja si no como familia también. \n",
            "Excelente hotel en una buena zona de la ciudad. Personal es amable y eficiente. Los cuartos amplios, muy comodos, con gran vistas a la ciudad y con buena relacion precio calidad. Recomendado el masaje sueco!\n",
            "Un hotel con todos los servicios de primera y con un personal amable, profesional y atento.  Además las habitaciones son modernas y muy cómodas.  Mi opción #1 en Monterrey y lo recomiendo ampliamente para viajes de negocios.\n",
            "El ambiente de este Hotel es unico.  es realmente reencontarte contigo mismo. Cada aroma y cada rincon de este Hotel tienen una razon de ser y lo hacen muy especial y disfrutable para nuestros sentidos. Sin duda el mejor Hotel de Monterrey\n",
            "<div class=\"Hlmiy F1\" data-test-target=\"review-rating\"><span class=\"ui_bubble_rating bubble_40\"></span></div>\n",
            "<div class=\"Hlmiy F1\" data-test-target=\"review-rating\"><span class=\"ui_bubble_rating bubble_50\"></span></div>\n",
            "<div class=\"Hlmiy F1\" data-test-target=\"review-rating\"><span class=\"ui_bubble_rating bubble_50\"></span></div>\n",
            "<div class=\"Hlmiy F1\" data-test-target=\"review-rating\"><span class=\"ui_bubble_rating bubble_50\"></span></div>\n",
            "<div class=\"Hlmiy F1\" data-test-target=\"review-rating\"><span class=\"ui_bubble_rating bubble_50\"></span></div>\n",
            "https://www.tripadvisor.es/Hotel_Review-g1154799-d9092664-Reviews-or95-Live_Aqua_Urban_Resort_Monterrey-San_Pedro_Garza_Garcia_Monterrey_Northern_Mexico.html#REVIEWS\n",
            "Realmete creo que aqua es uno de los mejores hoteles en monterrer ya habicado en una de las mejores zonas y cerca y de los mejores restaurant. yo recomindo este hotel por que es limpio tiene buenas y comodas habitaciones \n",
            "Magnífica oportunidad de comer en el mejor restaurante de Monterrey, sin duda alguna, punto. Pidan que les acompañe el chef Tony Ibarra, toda una experiencia. No dejen de pedir el short rib, pork belly y pulpo a las brasas.  \n",
            "Muy buen hotel, excelente servicio, muy buen cuarto, el detalle de la aroma terapia muy bueno, el Romo service como servicio muy bueno, la comida buena solamente, muy buena experiencia de cliente y recomendable\n",
            "Personal sumamente amable. Dedicado a hacerte sentir en casa. Hotel nuevo. Ideal para viaje de negocios. Magníficas vistas de la ciudad. Muy buena ublicación. Gym con estupenda vista. La comida no es tan buena, pero suficientemente buena. \n",
            "Hotel modernista con amplias instalaciones en muy buenas condiciones. Aun que me parece que el precio por noche de $700 dolares, mejoraría la oferta si incluyera desayuno. El personal es muy servicial y agradable.\n",
            "<div class=\"Hlmiy F1\" data-test-target=\"review-rating\"><span class=\"ui_bubble_rating bubble_50\"></span></div>\n",
            "<div class=\"Hlmiy F1\" data-test-target=\"review-rating\"><span class=\"ui_bubble_rating bubble_50\"></span></div>\n",
            "<div class=\"Hlmiy F1\" data-test-target=\"review-rating\"><span class=\"ui_bubble_rating bubble_50\"></span></div>\n",
            "<div class=\"Hlmiy F1\" data-test-target=\"review-rating\"><span class=\"ui_bubble_rating bubble_50\"></span></div>\n",
            "<div class=\"Hlmiy F1\" data-test-target=\"review-rating\"><span class=\"ui_bubble_rating bubble_40\"></span></div>\n",
            "https://www.tripadvisor.es/Hotel_Review-g1154799-d9092664-Reviews-or100-Live_Aqua_Urban_Resort_Monterrey-San_Pedro_Garza_Garcia_Monterrey_Northern_Mexico.html#REVIEWS\n",
            "Hotel en san pedro, cerca de plazas comerciales y muchos restaurantes, en general el hotel esta muy comodo y con habitaciones en excelente concidicones y muy bonitas, la ba;era es espectacular. La comida es muy buena.\n",
            "Realmente espectacular el Concepto de este hotel. En mi opinión contiene todo lo que uno puede desear en servicio y diseño. Es de las mejores habitaciones que Henry podido disfrutar. Más que recomendable \n",
            "El hotel es bastante lindo y bien ubicado, para mi gusto les falta un poco mas de calidez con sus huéspedes, pero en relación a la estancia todo muy cómodo y agradable. Sin duda lo recomiendo, bastante limpio. \n",
            "No he experimentado mejor estancia en otro hotel. Maravilloso. La habitación, las vistas y, el patito de la bañera. Una experiencia unica. Lo recomiendo a todos los que viajen a Monterrey. Además está situado estratégicamente para poder acceder a cualquier lugar de la ciudad\n",
            "Destaco la calidez humana del personal, cenamos el 14 de febrero en el restaurante de lujo. Todo el hotel es impecable , habitaciones muy grandes y super lindas. tiene cafetera nespresso y dan las cápsulas en forma diaria , en los pasillos de los pisos sirven de todo\n",
            "<div class=\"Hlmiy F1\" data-test-target=\"review-rating\"><span class=\"ui_bubble_rating bubble_50\"></span></div>\n",
            "<div class=\"Hlmiy F1\" data-test-target=\"review-rating\"><span class=\"ui_bubble_rating bubble_50\"></span></div>\n",
            "<div class=\"Hlmiy F1\" data-test-target=\"review-rating\"><span class=\"ui_bubble_rating bubble_40\"></span></div>\n",
            "<div class=\"Hlmiy F1\" data-test-target=\"review-rating\"><span class=\"ui_bubble_rating bubble_50\"></span></div>\n",
            "<div class=\"Hlmiy F1\" data-test-target=\"review-rating\"><span class=\"ui_bubble_rating bubble_50\"></span></div>\n",
            "https://www.tripadvisor.es/Hotel_Review-g1154799-d9092664-Reviews-or105-Live_Aqua_Urban_Resort_Monterrey-San_Pedro_Garza_Garcia_Monterrey_Northern_Mexico.html#REVIEWS\n",
            " El hotel cuenta con una excelente ubicación y una vista espectacular al famoso Cerro de la Silla. Las habitaciones están muy bonitas con diferentes aromas a escoger, la ropa de cama y la comodidad  permite un gran descanso.\n",
            "Busco preferentemente hospedarme en este hotel primero que nada por la excelente atencion que recibo del personal que labora en las instalaciones; la ubicacion del hotel es excelente para despazarme a cualquier cita de negocios y las instalaciones buenas. \n",
            "Me encanto el spa y todo el circuito fue una grata experiencia además de una excelente atención. Por parte de ángel García integrante que nos explico todo el proceso de spa en el circuito de vapor, sauna, jacuzzi, ducha suiza y sensorial \n",
            "Definitivamente el mejor Hotel en Monterrey , instalaciones impecables , todo su oeeonal sumamente amable y muy bien capacitado , servicio y calidad de los alimentos inmejorable , áreas comunes y su decoración muy bonitas , limpieza impecable en todo el Hotel , sus habitaciones con una vista increíble, simplente todo excelente \n",
            "El hotel tiene una vista privegiada, está cerca de dos plazas comerciales en donde encuentras una oferta grande de restaurantes y tiendas.El hotel tiene un excelente diseño y estilo en interiores. El personal es amable.\n",
            "<div class=\"Hlmiy F1\" data-test-target=\"review-rating\"><span class=\"ui_bubble_rating bubble_50\"></span></div>\n",
            "<div class=\"Hlmiy F1\" data-test-target=\"review-rating\"><span class=\"ui_bubble_rating bubble_50\"></span></div>\n",
            "<div class=\"Hlmiy F1\" data-test-target=\"review-rating\"><span class=\"ui_bubble_rating bubble_50\"></span></div>\n",
            "<div class=\"Hlmiy F1\" data-test-target=\"review-rating\"><span class=\"ui_bubble_rating bubble_50\"></span></div>\n",
            "<div class=\"Hlmiy F1\" data-test-target=\"review-rating\"><span class=\"ui_bubble_rating bubble_50\"></span></div>\n",
            "https://www.tripadvisor.es/Hotel_Review-g1154799-d9092664-Reviews-or110-Live_Aqua_Urban_Resort_Monterrey-San_Pedro_Garza_Garcia_Monterrey_Northern_Mexico.html#REVIEWS\n",
            "Spa increíble, precios geniales, ubicación, instalaciones, todo increíble, un lugar para consentirse, relajarse aún si sea por motivos de trabajo, encuentras ese punto de relax que uno busca, la mejor opción en SPGG\n",
            "Nos quedamos por primera vez y ha sido algo muy bueno nos ha encantado la vista del cuarto y su diseño, mi familia estuvo siempre muy segura hospedada y frente al hotel hay centros comerciales, anteriormente nos quedabamos en el hotel quinta real pero es algo con un estilo diferente al actual\n",
            "En general es muy buen hotel: el trato del personal, las habitaciones, las instalaciones, etc.        Hubo un detalle con la regadera (en una esquina goteaba agua de la regadera de arriba, guácala).    Y el jacuzzi del spa estaba tibio, osea que era una alberca pequeña en lugar de un jacuzzi.\n",
            "Muy lindo hotel , con excelente atención de su personal desde que llegas te atienden de maravilla Las habitaciones excelentes Restaurante excelenteUbicación perfecta Te hace sentir como si estuvieras en casa \n",
            "Excelente el hotel, el restaurant Zoi  excelente la Comida de lo mejor , El Room Service también super bien, el personal de lo mejor! Todos con una súper buena actitud, muy amables e interesados en el cliente! Súper recomendable!!!\n",
            "<div class=\"Hlmiy F1\" data-test-target=\"review-rating\"><span class=\"ui_bubble_rating bubble_50\"></span></div>\n",
            "<div class=\"Hlmiy F1\" data-test-target=\"review-rating\"><span class=\"ui_bubble_rating bubble_50\"></span></div>\n",
            "<div class=\"Hlmiy F1\" data-test-target=\"review-rating\"><span class=\"ui_bubble_rating bubble_40\"></span></div>\n",
            "<div class=\"Hlmiy F1\" data-test-target=\"review-rating\"><span class=\"ui_bubble_rating bubble_50\"></span></div>\n",
            "<div class=\"Hlmiy F1\" data-test-target=\"review-rating\"><span class=\"ui_bubble_rating bubble_50\"></span></div>\n",
            "https://www.tripadvisor.es/Hotel_Review-g1154799-d9092664-Reviews-or115-Live_Aqua_Urban_Resort_Monterrey-San_Pedro_Garza_Garcia_Monterrey_Northern_Mexico.html#REVIEWS\n",
            "Muy superior en detalles a la competencia. Todos sus detalles sin lis que marcan la diferencia. Su decoración, su distribución de la habitación, su comodidad de la cama, sabanas y almohadas. Sus detalles de mezcal, manzanas y cafe en los pasillos. Su aromaterapia. Su servicio del personal. Sus detalles probablemente poco perceptible por los clientes como sus accesorios Morton Brown. Espectaculares dentro del cuarto como en todos los baños del hotel. Felicidades! \n",
            "Muchas felicidades al equipo de cocina, capitán Hector, Hostess Abigail y al mesero Eduardo.  Excelente atención y servicio que recibimos toda la noche. Gracias y felicitaciones al Hotel Live Acqua Monterrey. ⭐️⭐️⭐️⭐️⭐️😀\n",
            "Terrible experiencia con la higiene de ropa de cama manchada de sangre! Aún más desconcertante cuando se me pregunta que si quiero que me cambien todo o solamente el cobertor con sangre. No se trató de un error, sino que se manifestó su necesidad por economizar la estadía de los clientes. Increíble!  No esperaba esto de este hotel que aparenta tener estándares de calidad más altos que los demás. Definitivamente esperaba más. \n",
            "Gran sorpresa me llevé de la sofisticación que reúne Live Aqua Urban Resort MTY, cuidaron del más  mínimo detalle para hacerme sentir como un verdadero rey. Desde la atención personalizada de su personal, su calidez, los detalles como la aromaterapia en mi habitación logran una experiencia extraordinaria, su diseño de interiores, su menú de almohadas, lo hacen único en su categoría. \n",
            "Precioso hotel, sin temor a equivocarme el mejor de la ciudad,  Servicio excelente Room service sobresaliente Toiletries de buena calidad Brunch dominical imperdible El Baño es una obra de arte Me dejaron hacer late check out sin cargo adicional. El gerente me recibió para despedirme personalmente.  He probado todos, nh, habita, quinta real, safi, este es lo mejor de la CIUDAD\n",
            "<div class=\"Hlmiy F1\" data-test-target=\"review-rating\"><span class=\"ui_bubble_rating bubble_50\"></span></div>\n",
            "<div class=\"Hlmiy F1\" data-test-target=\"review-rating\"><span class=\"ui_bubble_rating bubble_50\"></span></div>\n",
            "<div class=\"Hlmiy F1\" data-test-target=\"review-rating\"><span class=\"ui_bubble_rating bubble_20\"></span></div>\n",
            "<div class=\"Hlmiy F1\" data-test-target=\"review-rating\"><span class=\"ui_bubble_rating bubble_50\"></span></div>\n",
            "<div class=\"Hlmiy F1\" data-test-target=\"review-rating\"><span class=\"ui_bubble_rating bubble_50\"></span></div>\n",
            "https://www.tripadvisor.es/Hotel_Review-g1154799-d9092664-Reviews-or120-Live_Aqua_Urban_Resort_Monterrey-San_Pedro_Garza_Garcia_Monterrey_Northern_Mexico.html#REVIEWS\n",
            "El personal hizo todo lo,posible para que nuestra estancia fuera muy comoda, las habitaciones son muy cómodas y el hotel está muy bien ubicado.hay muchas alternativas para comer muy cerca. El tener agua fresca fuera de los elevadores me parece un buen toque.\n",
            "Desde que llegamos todo fue excelente, atención, apoyo con las maletas,  nos dejaron entrar a la habitación antes de lo habitual , el cuarto era perfecto, toda la atmósfera, definitivamente regresaría sin pensarlo dos veces \n",
            "Muy buena opción en esa zona de la ciudad, muy bien ubicado con muchos restaurantes, tiendas y cines a distancia de pie. Muy buenas vistas al estar en los pisos superiores. Personal muy amable y capacitado, buena opción para adultos.  \n",
            "Había conocido el hotel de CDM antes (excelente!) y por eso decidí alojar en su hotel en Monterrey. Gran decisión. Excelente decoración y ambientación, piezas modernas y de calidad, amable y eficiente servicio. Puntuación perfecta. \n",
            "Aunque es el mismo edifico del GFA, las instalaciones son diferentes, hay detalles aunque mínimos que no te dejan esa sensación de decir que sensacional hotel, alguno de esos detalles, la TV no se veía bien, el aire acondicionado no funcionaba de un lado de la habitación, el agua caliente no salía de la regadera pero si de la tina, el burro para planchar no se podía plegar y el ama de llaves prefirió dejarlo y si quitar la plancha, la aromaterapia según todas las tardes la ponen y a mi solo me la pusieron el día que llegue. \n",
            "<div class=\"Hlmiy F1\" data-test-target=\"review-rating\"><span class=\"ui_bubble_rating bubble_50\"></span></div>\n",
            "<div class=\"Hlmiy F1\" data-test-target=\"review-rating\"><span class=\"ui_bubble_rating bubble_50\"></span></div>\n",
            "<div class=\"Hlmiy F1\" data-test-target=\"review-rating\"><span class=\"ui_bubble_rating bubble_50\"></span></div>\n",
            "<div class=\"Hlmiy F1\" data-test-target=\"review-rating\"><span class=\"ui_bubble_rating bubble_50\"></span></div>\n",
            "<div class=\"Hlmiy F1\" data-test-target=\"review-rating\"><span class=\"ui_bubble_rating bubble_40\"></span></div>\n",
            "https://www.tripadvisor.es/Hotel_Review-g1154799-d9092664-Reviews-or125-Live_Aqua_Urban_Resort_Monterrey-San_Pedro_Garza_Garcia_Monterrey_Northern_Mexico.html#REVIEWS\n",
            "Excelente diseño de la habilitación. El aroma en los pasillos muy agradable. El check in maravillosamente eficiente y la actitud general del personal muy enfocada al servicio y a resolver cualquier inconveniente. Definitivamente volvería. \n",
            "Muy buena opción, centrico, vista inigualable y el desayuno bufette super bueno.Las habitaciones muy comodas, con opción de desayuno rapido para sair temprano y room service disponible 24hrs. Excelente para viaje de negocios o placer... \n",
            "Un buen hotel en San Pedro y sobretodo lo que me encantó fue la cama y el edredón tan reconfortable para un día de trabajo. La atención del personal es muy buena. Definitivamente un hotel que  recomiendo\n",
            "Excelente servicio, ambientación, instalaciones.  Excelentes detalles. Los servicios complementarios, spa, gimnasio, restaurantes, todos de primer nivel. La habitación con demasiados detalles para sentirse cómodos.\n",
            "Un excelente hotel, el perdonal muy amable, muy céntrico con 2 centros comerciales justo en frente, los cuartos espacios esta muy bien distribuido vale la pena un servicio unico...y su restaurantes sin palabras. 100% recomendable\n",
            "<div class=\"Hlmiy F1\" data-test-target=\"review-rating\"><span class=\"ui_bubble_rating bubble_50\"></span></div>\n",
            "<div class=\"Hlmiy F1\" data-test-target=\"review-rating\"><span class=\"ui_bubble_rating bubble_50\"></span></div>\n",
            "<div class=\"Hlmiy F1\" data-test-target=\"review-rating\"><span class=\"ui_bubble_rating bubble_50\"></span></div>\n",
            "<div class=\"Hlmiy F1\" data-test-target=\"review-rating\"><span class=\"ui_bubble_rating bubble_50\"></span></div>\n",
            "<div class=\"Hlmiy F1\" data-test-target=\"review-rating\"><span class=\"ui_bubble_rating bubble_50\"></span></div>\n",
            "https://www.tripadvisor.es/Hotel_Review-g1154799-d9092664-Reviews-or130-Live_Aqua_Urban_Resort_Monterrey-San_Pedro_Garza_Garcia_Monterrey_Northern_Mexico.html#REVIEWS\n",
            "Excelente hotel, perfecta ubicación y amabilidad del staff. Hubo un problema en el baño y enseguida mandaron gente para remediarlo. De igual forma, dejé unos zapatos en la habitación y al día siguiente que reporté los localizaron sin problema, sabiendo que eran de alto valor.\n",
            "Sin duda una de las mejores opciones de hospedaje en Monterrey. El hotel sin duda es de lujo, cuenta con vistas espectaculares. La atención del personal es excelente. Importante preguntar por opciones de habitación ya que los costos de algunas de ellas a pesar de ser suites no aumentan mucho.\n",
            "Un lugar muy bien cuidado en cada uno de sus detalles, descanso total, instalaciones de primera y gran sabor en sus platillos. Cubren todas tus necesidades con prestancia y amabilidad. Una excelente opción muy disfrutable en pareja por el ambiente que proporcionan.\n",
            "La estancia que tuve en Live Aqua fue muy placentera para mi esposo y para mi. Fue algo romántico celebrar su cumpleaños. Solicitar la decoración, y el spa fue grandioso, una experiencia inolvidable que queremos volver a repetir. Gracias por consentirnos.   \n",
            "Por segunda ves me quedé en este hotel la primera todo muy bien la segunda me metí a bañar y salía agua tibia, terminé fui a la redención para decirles y la respuesta fue que no sabia como mover las llaves como si fuera la primera ves que salgo de viaje a un hotel, no tuve ningún tipo de compensación me dieron una disculpa estoy bastante molesto por haber cambiado de hotel, siempre he llegado al QUINTA REAL super hotel y servicio SEGUNDA Y ÚLTIMA ves que me hospedó en ese lugar llamado hotel de 5 estrellas \n",
            "<div class=\"Hlmiy F1\" data-test-target=\"review-rating\"><span class=\"ui_bubble_rating bubble_50\"></span></div>\n",
            "<div class=\"Hlmiy F1\" data-test-target=\"review-rating\"><span class=\"ui_bubble_rating bubble_50\"></span></div>\n",
            "<div class=\"Hlmiy F1\" data-test-target=\"review-rating\"><span class=\"ui_bubble_rating bubble_50\"></span></div>\n",
            "<div class=\"Hlmiy F1\" data-test-target=\"review-rating\"><span class=\"ui_bubble_rating bubble_50\"></span></div>\n",
            "<div class=\"Hlmiy F1\" data-test-target=\"review-rating\"><span class=\"ui_bubble_rating bubble_10\"></span></div>\n",
            "https://www.tripadvisor.es/Hotel_Review-g1154799-d9092664-Reviews-or135-Live_Aqua_Urban_Resort_Monterrey-San_Pedro_Garza_Garcia_Monterrey_Northern_Mexico.html#REVIEWS\n",
            "El mejor hotel para hospedarse en Monterrey, super bonito, elegante, comodo y ameno, los espacio muy bonitos, el soa de lujo, el trato del personal siempre muy atento en cada momento, tienen todo, aunque seas de Monterrey vale la pena dejarte consentir un fin de semana en el LiveAqua.\n",
            "Es un hotel muy adecuado para viajes de negocios.  el servicio es de primera y esta muy bien ubicado.  el personal es muy amable y servicial.   la comida esta riquisima y hat room service 24 hrs, lo cual me gusto mucho ya que despues de un muy largo dia de trabajo pude cenar en mi cama.\n",
            "Todo estuvo perfecto en nuestra estancia. Un servicio de primera, y el servicio que te da el concierge Antonio Arellanos es estupenda. Es altamente recomendable pasar una estancia en este hotel. Vale lo que cuesta.\n",
            "Si buscan un hotel con excelente servicio, increíbles vistas, Buena comida e increible SPA, esté es el lugar correcto.  Ubicado en un excelente lugar en San Pedro Garza García, frente a las plazas mas nuevas de toda la ciudad, se encuentra este exclusivo hotel de la línea de grupo Posadas. Se encuentra en el mismo edificio que el Fiesta Americana Grand, solo que el Aqua son los útlimos pisos de esta torre.  Cuenta con habitaciones de muy buen tamaño especiales para un buen descanso, el sistema de amaromaterapia en cada habitación, ayuda mucho para una buena relajacion.  Su SPA cuenta con un servicio de hidroterapia bastante bueno, y no se diga de sus masajes a precios accesibles.  Este Hotel tiene muy poco de haber abierto sus puertas, ya la ciudad necesitaba algo de esta…\n",
            "El hotel es nuevo en el area y eso se nota , todas las facilidades son nuevas y estan en perfectas condiciones. El area de check in tiene un hermoso ventanal con vista a la ciudad, el personal fue muy amable , gracias especialmente a las camareras que se preocuparon por tener todo limpio y siempre tenian una sonrisa  La habitacion muy comoda , a nuestra llegada con recibieron con unos pequeños postres en la habitacion , que estuvieron deliciosos, se aprecia mucho el detalle. La vista de la habitacion , desde el piso 23 excelente , sobre todo en la noche , vista directa a Fashion Drive. Hicimos un viaje en pareja y el espacio de la regadera y la tina de baño , es excelente , con vistas a a ciudad y un espejo de cuerpo completo al lado de la regadera , Mucho muy romantico,…\n",
            "<div class=\"Hlmiy F1\" data-test-target=\"review-rating\"><span class=\"ui_bubble_rating bubble_50\"></span></div>\n",
            "<div class=\"Hlmiy F1\" data-test-target=\"review-rating\"><span class=\"ui_bubble_rating bubble_50\"></span></div>\n",
            "<div class=\"Hlmiy F1\" data-test-target=\"review-rating\"><span class=\"ui_bubble_rating bubble_50\"></span></div>\n",
            "<div class=\"Hlmiy F1\" data-test-target=\"review-rating\"><span class=\"ui_bubble_rating bubble_50\"></span></div>\n",
            "<div class=\"Hlmiy F1\" data-test-target=\"review-rating\"><span class=\"ui_bubble_rating bubble_40\"></span></div>\n",
            "https://www.tripadvisor.es/Hotel_Review-g1154799-d9092664-Reviews-or140-Live_Aqua_Urban_Resort_Monterrey-San_Pedro_Garza_Garcia_Monterrey_Northern_Mexico.html#REVIEWS\n",
            "El Staff es excelente, la habitación impecable, cómoda y en excelente estado. las mejores vistas de Monterrey. Mis únicos 2 puntos a mejorar son: el burro para planchar muy pequeño y no hay descorchador en el servibar.\n",
            "Me recomendaron este hotel para mi estancia en Monterrey, yo siempre me hospedaba en uno que está enfrente de este nuevo hotel, iba escéptico por ser un hotel moderno, pero para mi agradable sorpresa, resultó ser una grata sorpresa al encontrarme con las comodidades de casa, el cuarto de muy buen tamaño, moderno, confortable y hasta la comida es muy buena, no puedo más que decir que me quedaré en Aqua para mi siguiente visita a Monterrey!\n",
            "Uno de los mejores hoteles ubicados en excelente zona tanto para comercios, plazas, lugares para comer y excelentes vías de comunicación a los puntos turísticos de la ciudad.   Los cuartos son amplios y excelente servicio en restaurant y bar.\n",
            "Encontrarás un espacio adecuado para poder disfrutar de una buena comida, darte un espacio personal con deporte o en el spa, convivir en forma privada con tus amigos y descansar hasta que tu persona diga PERFECTO. El personal en servicio es atento, preocupado por el detalle y dispuesto a dar el punto extra por que las cosas salgan de lo mejor.\n",
            "Un súper moderno y cómodo , con el servicio y la calidad que solo el grupo posadas ofrece , ideal para parejas ,o familia ,tiene una vista espectacular al cerro de la silla y esta ubicado frente al centro comercial fashion drive !\n",
            "<div class=\"Hlmiy F1\" data-test-target=\"review-rating\"><span class=\"ui_bubble_rating bubble_50\"></span></div>\n",
            "<div class=\"Hlmiy F1\" data-test-target=\"review-rating\"><span class=\"ui_bubble_rating bubble_50\"></span></div>\n",
            "<div class=\"Hlmiy F1\" data-test-target=\"review-rating\"><span class=\"ui_bubble_rating bubble_40\"></span></div>\n",
            "<div class=\"Hlmiy F1\" data-test-target=\"review-rating\"><span class=\"ui_bubble_rating bubble_50\"></span></div>\n",
            "<div class=\"Hlmiy F1\" data-test-target=\"review-rating\"><span class=\"ui_bubble_rating bubble_50\"></span></div>\n",
            "https://www.tripadvisor.es/Hotel_Review-g1154799-d9092664-Reviews-or145-Live_Aqua_Urban_Resort_Monterrey-San_Pedro_Garza_Garcia_Monterrey_Northern_Mexico.html#REVIEWS\n",
            "En general la experiencia en el hotel fue muy buena, el cuarto de buen espacio, el baño muy amplio y muy limpio todo. Los artículos que se dan son de muy buena calidad  En lo que se refiera al Bar, la vista es increíble pero podrían mejorar los cocktails no em parecieron espectaculares para lo que cuestan.   Me parece buen detalle el mezcal que dejan en los pisos o las cápsulas de café que dejan en la mañana.\n",
            "Fuimos mi esposo  y yo a una tarde de a a darnos un masaje el cual resultó espectacular ; las instalaciones y los masajistas de primera .... de ahí mis fuimos a cenar al restaurante de especialidades el cual resultò ser maravilloso de principio a fin ... sin duda los recomiendo para una velada especial ... el servicio de primera y los alimentos exquisitos !!! Mi sugerencia es que cobren descorche para poder llevar la botella de vino de nuestra preferencia ....  el personal sumamente amable..... Un día increíble en este lugar .\n",
            "Excelente servicio, instalaciones, el personal nos hace sentir especiales, apoyan en todo lo necesario, les felicito, siempre Live Aqua es sensacional. Totalmente recomendable para todo tipo de ocasión.\n",
            "Es un hotel muy comodo, muy bien ubicado en una zona comercial con muchos restaurantes, bares y lugares de esparcimiento muy cerca. Tiene una vista espectacular. Las camas y habitaciones muy comodas. Sin embargo el servicio deja mucho que desear.\n",
            "En verdad el hotel esta increíble. Excelente vista. Pero el Internet lento y la calidad de la comida es pésima recomiendo coman en cualquier otro lugar cerca del hotel y el desayuno buffete en verdad muy malo también. Ni hablar de los tragos...\n",
            "<div class=\"Hlmiy F1\" data-test-target=\"review-rating\"><span class=\"ui_bubble_rating bubble_50\"></span></div>\n",
            "<div class=\"Hlmiy F1\" data-test-target=\"review-rating\"><span class=\"ui_bubble_rating bubble_50\"></span></div>\n",
            "<div class=\"Hlmiy F1\" data-test-target=\"review-rating\"><span class=\"ui_bubble_rating bubble_50\"></span></div>\n",
            "<div class=\"Hlmiy F1\" data-test-target=\"review-rating\"><span class=\"ui_bubble_rating bubble_40\"></span></div>\n",
            "<div class=\"Hlmiy F1\" data-test-target=\"review-rating\"><span class=\"ui_bubble_rating bubble_40\"></span></div>\n",
            "https://www.tripadvisor.es/Hotel_Review-g1154799-d9092664-Reviews-or150-Live_Aqua_Urban_Resort_Monterrey-San_Pedro_Garza_Garcia_Monterrey_Northern_Mexico.html#REVIEWS\n",
            "Excelente hotel muy moderno vistas muy bellas todo perfecto para una buena estancia  Solo el tráfico de entrada y el estacionamiento dejan mucho q desear esta muy complicado estacionarse y cambiar de un elevador a otro \n",
            "Excelente lugar para relajarse y pasar un fin de semana tranquilo en pareja o en familia. El desayuno fue regular, pero la cena estuvo increíble. Las instalaciones están de lujo, todo en orden y excelente limpieza.\n",
            "Muy cómodo, muy buena opción en la ciudad, la comida es excelente y el trato de todo el personal excedió mis expectativas, una de las personas que venia en el grupo quemo su vestido con la plancha por descuido y de inmediato el host del restaurant solicito que la costurera se presentara para que le resolvieran el problema\n",
            "Excelente lugar, bien ubicado, un servicio extraordinario y gadgets muy útiles en la habitación.  Hotel excelente para negocios y para descanso en una colonia bien ubicada en Monterrey.   Me atendieron increible desde mi llegada y el restaurante tiene una oferta gastronómica de buen nivel\n",
            "Excelente hotel con una muy linda vista de San Pedro. Las instalaciones y la atención de primera. El staff tambien muy amable. Cada que regrese a Monterrey sin duda regresare a Live Aqua. Lo recomiendo ampliamente.\n",
            "<div class=\"Hlmiy F1\" data-test-target=\"review-rating\"><span class=\"ui_bubble_rating bubble_40\"></span></div>\n",
            "<div class=\"Hlmiy F1\" data-test-target=\"review-rating\"><span class=\"ui_bubble_rating bubble_40\"></span></div>\n",
            "<div class=\"Hlmiy F1\" data-test-target=\"review-rating\"><span class=\"ui_bubble_rating bubble_50\"></span></div>\n",
            "<div class=\"Hlmiy F1\" data-test-target=\"review-rating\"><span class=\"ui_bubble_rating bubble_50\"></span></div>\n",
            "<div class=\"Hlmiy F1\" data-test-target=\"review-rating\"><span class=\"ui_bubble_rating bubble_40\"></span></div>\n",
            "https://www.tripadvisor.es/Hotel_Review-g1154799-d9092664-Reviews-or155-Live_Aqua_Urban_Resort_Monterrey-San_Pedro_Garza_Garcia_Monterrey_Northern_Mexico.html#REVIEWS\n",
            "Fuimos a este hotel para conocer su bar. Nos encantó la vista y el servicio. Es precioso. La decoración es fantástica. Se siente una atmósfera de tranquilidad y de buen gusto. Es un lugar excelente para pasarla bien.\n",
            "Para visita de negocios el Hotel es increíble. La decoración y detalles de muebles es impecable. El servicio es muy bueno. Hay detalles como una consola de acetatos y mezcal gratis en cada piso que hacen de este hotel algo único.\n",
            "Infraestructura muy trendy, lleno de detalles que lo hacen ver fascinante. Los cuartos de muy buen tamaño y muy bien distribuidos con una buena tina y regadera. Muy como. Volvere! El servicio impecable \n",
            "Solo me quedé una noche pero todo estuvo muy bien, super bonita vista y el desayuno buffet vale la pena se me hizo caro pero todo estuvo muy rico.  Lo mejor la tina de baño del cuarto con la vista hacia San Pedro\n",
            "Muy recomendable, muy bien ubicado pero el estacionamiento es demasiado angosto y puede ser complicado si se llega en un vehículo grande. La calidad de los cuartos es muy buena y el registro fue bastante rápido.\n",
            "<div class=\"Hlmiy F1\" data-test-target=\"review-rating\"><span class=\"ui_bubble_rating bubble_50\"></span></div>\n",
            "<div class=\"Hlmiy F1\" data-test-target=\"review-rating\"><span class=\"ui_bubble_rating bubble_50\"></span></div>\n",
            "<div class=\"Hlmiy F1\" data-test-target=\"review-rating\"><span class=\"ui_bubble_rating bubble_50\"></span></div>\n",
            "<div class=\"Hlmiy F1\" data-test-target=\"review-rating\"><span class=\"ui_bubble_rating bubble_50\"></span></div>\n",
            "<div class=\"Hlmiy F1\" data-test-target=\"review-rating\"><span class=\"ui_bubble_rating bubble_50\"></span></div>\n",
            "https://www.tripadvisor.es/Hotel_Review-g1154799-d9092664-Reviews-or160-Live_Aqua_Urban_Resort_Monterrey-San_Pedro_Garza_Garcia_Monterrey_Northern_Mexico.html#REVIEWS\n",
            "Excelente sabor de los alimentos en el restaurante del Top Floor, muy buen servicio y ambiente! los baños y ambientación espectaculares!!! El chef visitó nuestra mesa y nos preguntó por nuestro platillos, el postre delicioso también!\n",
            "Éste sí es un verdadero 5 estrellas. Las habitaciones son armoniosas y destaca su categoría. El restaurante mediterráneo es fenomenal, rara vez toca un buen restaurante dentro de un hotel, pero aquí sucede. El servicio es muy bueno, todos muy amables. La conjugación de servicio e instalaciones lo hacen una gran opción en tu viaje de placer o negocios. Está frente a dos malls, uno con restaurantes. Disfrútalo. \n",
            "Excelentes instalaciones pero muy mal servicio.  No vuelvo. Me he quedado tres veces en Live Aqua de Cdmx y Monterrey en los últimos meses. Primeras dos visitas bastante bueno sin embargo ésta última estancia mala la comida y el servicio pésimo.\n",
            "Increíblemente bello y nuevo con la calidad y el servicio que solo los hoteles fiesta americana tienen ! Ubicado en una zona muy bonita y cerca de centros comerciales y restaurantes . Me encanto la decoración y por supuesto la atención ,si se puede viajar con niños ,realmente les encantará !\n",
            "me hospedé hace un par de semanas por trabajo, el hotel es muy nuevo, tiene muy buenas vistas, los cuartos muy cómodos y todo esta excelente. Pero sin duda lo que pone a este hotel como mi mejor opción en todo el norte de México, es la calidez y atención que tuvo todo el personal que me atendió, en especial el área de alimentos y bebidas y el restaurante del piso 18.   además de que el sabor y la preparación de los alimentos es de primera, todo el personal de cocina es sumamente atento y siempre están preocupados en atenderte con lo que necesitas.   Yo tengo que llevar una dieta especial, y siempre me apoyaron en tenerme mis comidas listas y como las solicité. Muchas gracias y felicitaciones al Chef Ejecutivo, Jorge Muñoz y a todo su equipo de trabajo, son excelentes en lo…\n",
            "<div class=\"Hlmiy F1\" data-test-target=\"review-rating\"><span class=\"ui_bubble_rating bubble_50\"></span></div>\n",
            "<div class=\"Hlmiy F1\" data-test-target=\"review-rating\"><span class=\"ui_bubble_rating bubble_40\"></span></div>\n",
            "<div class=\"Hlmiy F1\" data-test-target=\"review-rating\"><span class=\"ui_bubble_rating bubble_20\"></span></div>\n",
            "<div class=\"Hlmiy F1\" data-test-target=\"review-rating\"><span class=\"ui_bubble_rating bubble_50\"></span></div>\n",
            "<div class=\"Hlmiy F1\" data-test-target=\"review-rating\"><span class=\"ui_bubble_rating bubble_50\"></span></div>\n",
            "https://www.tripadvisor.es/Hotel_Review-g1154799-d9092664-Reviews-or165-Live_Aqua_Urban_Resort_Monterrey-San_Pedro_Garza_Garcia_Monterrey_Northern_Mexico.html#REVIEWS\n",
            "El cuarto que me asignaron estaba sucio. Es muy desagradable llegar a un hotel de esa calidad y encontrar las sábanas con maquillaje y la mesa con huellas de manos y vasos marcados. Por lo demás, las habitaciones muy bonitas, las instalaciones de primera y la vista espectacular. Una muy buena ubicación.\n",
            "El hotel esta increíble, la atención del personal es absolutamente fantástica. Lo único malo es que las puertas de los cuartos cierran durísimo y te levantas a la hora que tu vecino decida salir de su cuarto. De ahi en fuera todo esta genial.\n",
            "Es de lo mejor de la ciudad de monterrey,  sin duda la calidad de las instalaciones y la calidad de su personas lo hace increible, alimentos de la mejor calidad, habitaciones hermosas, spa de lujo,  muy buena ubicacion, es para relajarse y disfrutar, la habitacion tiene una tina preciosa, el Art Brunch del restaurant Zoi fue increible, comida riquisima\n",
            "El hotel esta hermoso! La ambientación y la decoración esta impecable. El servicio estuvo excelente desde el momento en que llegue. La habitación esta hermosa y perfectamente decorada siendo lo mejor la bañera con vista a la ciudad. Aunque la habitación estaba amplia, sentí que la cama y la tv estaban demasiado juntas.  No es económico pero creo que vale la pena para una ocasión especial.\n",
            "Me encanta el Hotel Aqua de Mty, es una experiencia de lujo y servicio increíble! LLeno de detalles espectaculares y muy cuidados, la mejor vista, la cocina increíble, los acabados, el servicio. De mis favoritos en el país.\n",
            "<div class=\"Hlmiy F1\" data-test-target=\"review-rating\"><span class=\"ui_bubble_rating bubble_30\"></span></div>\n",
            "<div class=\"Hlmiy F1\" data-test-target=\"review-rating\"><span class=\"ui_bubble_rating bubble_40\"></span></div>\n",
            "<div class=\"Hlmiy F1\" data-test-target=\"review-rating\"><span class=\"ui_bubble_rating bubble_50\"></span></div>\n",
            "<div class=\"Hlmiy F1\" data-test-target=\"review-rating\"><span class=\"ui_bubble_rating bubble_50\"></span></div>\n",
            "<div class=\"Hlmiy F1\" data-test-target=\"review-rating\"><span class=\"ui_bubble_rating bubble_50\"></span></div>\n",
            "https://www.tripadvisor.es/Hotel_Review-g1154799-d9092664-Reviews-or170-Live_Aqua_Urban_Resort_Monterrey-San_Pedro_Garza_Garcia_Monterrey_Northern_Mexico.html#REVIEWS\n",
            "Hace poco estuvimos en Monterrey por negocios, el hotel es precioso, las habitaciones medianas con baños muy bonitos, el problema es que en room Servi e y restaurante tienen un servicio muy deficiente y muy lento. Vale la pena la ubicación en la zona más bonita de Monterrey.\n",
            "El Hotel Live Aqua se encuentra en los pisos 18-23 del número 2424 de la Avenida Lazaro Cárdenas. Esta altura lo aísla del ruido de la calle. Todo el concepto del hotel es moderno y pensado para relajar la mente con diferentes fuentes de agua. Los baños de las habitaciones tienen una espectacular tina para sumergirte en un baño relajante. Todo el mobiliario de los baños es de primerísimas marca. El servicio a veces puede ser un poco lento, quizás porque el relax lo invade todo.\n",
            "Es un hotel con excelente servicio, amenidades y gran atención a los detalles. El mejor hotel actualmente en Monterrey. La comida está muy rica y por si quieren probar algo diferente, está muy bien ubicado, así que pueden visitar restaurantes vecinos.\n",
            "Todo espectacular ! Servicio, cuidado en los detalles, calidez. Máximo lujo. La mejor vista de la ciudad. Impresionante. Cafetera Nespresso, Villeroy & Boch, maderas, juego de luces en habitación, detalles que no acaban.... de la más recomendable no solo en Mty, también en Mexico. Pronto regreso !!! \n",
            "Hermoso hotel con impresionantes vistas,  cada detalle esta meticulosamente cuidado. Quiero hacer hincapié en el ART BRUNCH (Domingos) de su restaurante ZOI , deliciosa comida, todo en su punto, muy buen ambiente con música en vivo y los postres Oh La la!! El servicio excelente,  cálido y muy atento. Toda una experiencia! Mis felicitaciones a su Chef Ejecutivo Jorge Muñoz y Sous Chef Ejecutivo Tony Ibarra, así como para su Director General  y su gran equipo.\n",
            "<div class=\"Hlmiy F1\" data-test-target=\"review-rating\"><span class=\"ui_bubble_rating bubble_30\"></span></div>\n",
            "<div class=\"Hlmiy F1\" data-test-target=\"review-rating\"><span class=\"ui_bubble_rating bubble_40\"></span></div>\n",
            "<div class=\"Hlmiy F1\" data-test-target=\"review-rating\"><span class=\"ui_bubble_rating bubble_50\"></span></div>\n",
            "<div class=\"Hlmiy F1\" data-test-target=\"review-rating\"><span class=\"ui_bubble_rating bubble_50\"></span></div>\n",
            "<div class=\"Hlmiy F1\" data-test-target=\"review-rating\"><span class=\"ui_bubble_rating bubble_50\"></span></div>\n",
            "https://www.tripadvisor.es/Hotel_Review-g1154799-d9092664-Reviews-or175-Live_Aqua_Urban_Resort_Monterrey-San_Pedro_Garza_Garcia_Monterrey_Northern_Mexico.html#REVIEWS\n",
            "Visite el hotel el año pasado, pase dos noches ahi y todo muy cómodo, la cama es lo mejor del mundo, sumamente cómoda y perfecta para descansar, aparte las cortinas bloquean toda la luz y puedes dormir sin molestias, las instalaciones en general son muy agradables. El gym es muy cómodo y con una excelente vista.\n",
            "Me quedé en el hotel para festejar mi aniversario y fue una excelente experiencia, los cuartos estén muy bien cuidados el servicio excelente, el spa es uno de los mejores que he visitado, y el restaurante en el piso 18 tiene tanto excelente servicio como comida espectacular\n",
            "En mi último viaje a México, durante el desarrollo del Workshop I LOVE EUROPE, nos alojamos en este moderno hotel, que según me dijeron fue renovado y que posee excelentes salones para realizar convenciones o reuniones. Muy buen servicio, muy bien ubicado.\n",
            "Estuve con un grupo de personas hospedandome en estet hotel, todo lo que pueda decir es poco comparado con la grata expeciencia que me llevé. Cuidan cada uno de los detalles desde la recepción hasta las estancia en tu habitación.  Las habitaciones son amplias y con una vista muy padre de la ciudad, ya sea hacia el cerro de la silla o hacia chipinque.  No es nada barato, pero vale la pena lo que pagas por lo que obtienes\n",
            "Pésima sabores extraños que al menos mi paladar no los aprueba  Un pollo con miel malísimo a parte con sangre crudo  Un rissoto luminosa de buen sabor pero totalmente crudo  Y una carne asada con guacamole y frijol díganle a un regio eso e imaginamos de todo y vienen encima de una piedra volcánica la carne encima de una mancha de frijoles y unas chispas de guacamole  Fatal lastima de lugar\n",
            "<div class=\"Hlmiy F1\" data-test-target=\"review-rating\"><span class=\"ui_bubble_rating bubble_50\"></span></div>\n",
            "<div class=\"Hlmiy F1\" data-test-target=\"review-rating\"><span class=\"ui_bubble_rating bubble_50\"></span></div>\n",
            "<div class=\"Hlmiy F1\" data-test-target=\"review-rating\"><span class=\"ui_bubble_rating bubble_50\"></span></div>\n",
            "<div class=\"Hlmiy F1\" data-test-target=\"review-rating\"><span class=\"ui_bubble_rating bubble_50\"></span></div>\n",
            "<div class=\"Hlmiy F1\" data-test-target=\"review-rating\"><span class=\"ui_bubble_rating bubble_10\"></span></div>\n",
            "https://www.tripadvisor.es/Hotel_Review-g1154799-d9092664-Reviews-or180-Live_Aqua_Urban_Resort_Monterrey-San_Pedro_Garza_Garcia_Monterrey_Northern_Mexico.html#REVIEWS\n",
            "Regresamos a casa contentos por las atenciones que recibimos por el personal Live Aqua. Por la calidad de las instalaciones, alimentos y servicios seguramente nos hospedamos con ellos en nuestra próxima vista a Monterrey.\n",
            "Hicimos una reservación garantizada para el 23 de mayo y sólo nos dieron una.   La escusa que nos dieron fue que había cupo lleno.  No pudieron conseguirnos cuarto ni en otro hotel.  Tuvimos que compartir cuarto.   Quisimos quejarnos con el Gerente y no fue posible, siempre en juntas y en una ocasión esperamos más de media hora y nunca llegó.l Sólo nos decían \"Perdón, no podemos hacer nada\" Solicité una compensación pero nada se nos ofreció por el disgusto y la incomodidad..\n",
            "Excelentes sus instalaciones y servicio del personal, el precio si es caro. La ubicación es muy Buena ya que se encuentra en San Pedro. Los alimentos son Buenos aunque el costo es independiente a tu estancia...También tienen servicio de spa por lo cual uno puede disfrutar de una excelente estancia  dentro  del hotel.  No vi alberca, ni gym, creo que recepción debería de informar eso.\n",
            "Esta muy bueno el hotel aunque puede mejorar el servicio de bar y restaurante ya que le falta un poco.  Queda dentro del Fiesta Americana en los pisos 18 para arriba y aunque es más caro a veces la diferencia vale la pena ya que si se reserva con tiempo no es tanta.  Por otro lado cuando  la diferencia de precio es mucha prefiero quedarme en las habitaciones del Fiesta Americana que también está bastante bien.  Creo que es el mejor hotel de Monterrey.\n",
            "Un lugar agradable para descansar y retomar energías, El Live Aqua es de los hoteles con las mejores habitaciones que he visitado, las camas muy confortables junto con tina en el baño para hacer tu descanso mas agradable.\n",
            "<div class=\"Hlmiy F1\" data-test-target=\"review-rating\"><span class=\"ui_bubble_rating bubble_50\"></span></div>\n",
            "<div class=\"Hlmiy F1\" data-test-target=\"review-rating\"><span class=\"ui_bubble_rating bubble_10\"></span></div>\n",
            "<div class=\"Hlmiy F1\" data-test-target=\"review-rating\"><span class=\"ui_bubble_rating bubble_50\"></span></div>\n",
            "<div class=\"Hlmiy F1\" data-test-target=\"review-rating\"><span class=\"ui_bubble_rating bubble_40\"></span></div>\n",
            "<div class=\"Hlmiy F1\" data-test-target=\"review-rating\"><span class=\"ui_bubble_rating bubble_50\"></span></div>\n",
            "https://www.tripadvisor.es/Hotel_Review-g1154799-d9092664-Reviews-or185-Live_Aqua_Urban_Resort_Monterrey-San_Pedro_Garza_Garcia_Monterrey_Northern_Mexico.html#REVIEWS\n",
            "Fui a cenar con mi esposo y nos encantó la comida, excelente lugar y muy buena atención, nos toco también ir el 14 de febrero y salimos encantados, se nos aserco el encargado de la cocina Kevin y nos preguntó respecto a los alimentos lo cual fue muy amable, no dejaremos de ir y recomendar el lugar \n",
            "Fui a cenar al restaurant de el live aqua despues de el trabajo y deje un maletín para que sea guardado en el lobby en ese momento no recordaba que tenia un sobre con dinero guardado en el maletín y al llegar a mi casa me encontre que se había extraviado parte de el dinero, al contactar por teléfono y en persona a personal de el live aqua iban a revisar las cámaras y contactarme hasta la fecha no he escuchado de ellos y no he podido contactarlos en verdad un situación muy estresante.\n",
            "Desayune con mi familia en su restaurante de piso 18 el cual me pareció fenomenal, el Chef Tony nos atendio en todo momento y recomendo los mejores platillos segun los gustos de cada uno de nosotros, la calidad de alimentos es sobresaliente y el montaje de los platillos es divino. La unica recomendación seria la temperatura de Café, sugiero complementar la experiencia con French Press las cuales mantendrian una frescura y temperatura idonea para el mismo. El ambiente sobrio - elegante, los meseros muy atentos, la cocina abierta y la experiencia con el chef marcaron la diferencia en neustra visita. \n",
            "No tenían mi reservación, me cobraron doble, el sistema de reservaciones está muy mal conectado con las señoritas que están en el mostrador . Mi habitación siendo tan linda, estaba sucia y faltaban amenities.\n",
            "El Live Aqua es un lugar espectacular para dormir y descansar. Además de que el restaurante es buenísimo, me pareció espectacular que el gimnasio esté disponible las 24 hrs. Además, en la mañana se ve el Cerro de la Silla de una forma espectacular (ver foto).\n",
            "<div class=\"Hlmiy F1\" data-test-target=\"review-rating\"><span class=\"ui_bubble_rating bubble_50\"></span></div>\n",
            "<div class=\"Hlmiy F1\" data-test-target=\"review-rating\"><span class=\"ui_bubble_rating bubble_10\"></span></div>\n",
            "<div class=\"Hlmiy F1\" data-test-target=\"review-rating\"><span class=\"ui_bubble_rating bubble_50\"></span></div>\n",
            "<div class=\"Hlmiy F1\" data-test-target=\"review-rating\"><span class=\"ui_bubble_rating bubble_20\"></span></div>\n",
            "<div class=\"Hlmiy F1\" data-test-target=\"review-rating\"><span class=\"ui_bubble_rating bubble_50\"></span></div>\n",
            "https://www.tripadvisor.es/Hotel_Review-g1154799-d9092664-Reviews-or190-Live_Aqua_Urban_Resort_Monterrey-San_Pedro_Garza_Garcia_Monterrey_Northern_Mexico.html#REVIEWS\n",
            "El diseño y ambiente del hotel son excelentes. Tuvimos algunos detalles que el staff supo manejar muy bien: Al hacer el check-in, nuestra habitación no estaba lista. Estuvo lista hasta las 3:40 p.m. Para compensar esto, nos dieron una bebida alcohólica gratis y late check-out, a las 2:00 p.m. Fuimos a desyunar al restaurante (super bien que te dejan ordenar del menú de desayuno aunque pasen de las 12:00 p.m.). Pedí una mimosa y se tardaron muchísimo en traerla, pero luego no nos la cobraron y se disculparon.  Creo que aunque estos detalles podían haber sido evitados, el staff está capacitado para que el cliente quede contento.  Me volvería a quedar aquí\n",
            "lo visite con mi esposa y las recamaras estan de lujo, desde las camas hasta el baño. me enfriaron una botella de champaña que lleve ...las vistas impresionantes. todo de primer nivel. Una recepcion aparte y lo mismo el restaurat.\n",
            "En realidad esperaba más, no solo por el precio si no por ser la marca de extra lujo de posadas. Si tiene detalles muy buenos pero básicos que no se cumplen. Hay mucho ruido de tuberías, goteras en el baño, olor muy desagradable, sabanas rotas, etc... cosas que son básicas para un hotel de esta categoría. \n",
            "Uno de los mejores hoteles en los que he estado; cuidan cada detalle, desde decoración, seguridad, colores, ambientación; me sorprendió mucho que me preguntaran sobre alguna alergia que tuviera, normalmente no hacen caso al respecto otros hoteles, pero aquí estuvieron al pendiente en todo momento, en el restaurante  ya sabían lo que no podía comer y me sugirieron algunas alternativas (la chef muy amable), hasta en el bar, cuando pedí una bebida me pidieron mi número de habitación, les salió de inmediato mi alergia (crónica por cierto) y el mesero fue corriendo para decirme que no podía servirme la bebida que pedí pues su preparación contenía el químico al que soy alérgico; todas las áreas extremadamente limpias, cada detalle es perfecto para estar con tu pareja, así que…\n",
            "Lo recomiendo bastante ya que es muy lujoso el restaurante excelentes platillos con muy buena presentación  y sus habitaciones de primera y sin olvidar el spa cuando vengan a Monterrey les recomiendo que se hospeden en este lugar\n",
            "<div class=\"Hlmiy F1\" data-test-target=\"review-rating\"><span class=\"ui_bubble_rating bubble_50\"></span></div>\n",
            "<div class=\"Hlmiy F1\" data-test-target=\"review-rating\"><span class=\"ui_bubble_rating bubble_50\"></span></div>\n",
            "<div class=\"Hlmiy F1\" data-test-target=\"review-rating\"><span class=\"ui_bubble_rating bubble_30\"></span></div>\n",
            "<div class=\"Hlmiy F1\" data-test-target=\"review-rating\"><span class=\"ui_bubble_rating bubble_50\"></span></div>\n",
            "<div class=\"Hlmiy F1\" data-test-target=\"review-rating\"><span class=\"ui_bubble_rating bubble_50\"></span></div>\n",
            "https://www.tripadvisor.es/Hotel_Review-g1154799-d9092664-Reviews-or195-Live_Aqua_Urban_Resort_Monterrey-San_Pedro_Garza_Garcia_Monterrey_Northern_Mexico.html#REVIEWS\n",
            "es una experiencia unica, te hacen sentir como en tu casa, tiene todo lo que se necesita para estar en el mejor lugar, sus areas son impecables y sus habitaciones tiene una gran calidad con lo mejor de lo mejor\n",
            "Excelente hotel, servicio, lujo, calidad de todo. Estupendo spa, gimnasio. Comida increible. Todo el personal muy amable. Los cuartos son excelentes, muy buena vista. Ideal para salidas románticas. Aunque no es barato, vale cada peso porque te hacen sentir como rey y es 100% garatía de satisfacción. El bar esta ideal por la vista que tiene, con muy buena variedad de licores, tés y botana. Ambiente agradable, la música no tan alta y puedes platicar agusto. Recomendado para pasar unos días de vacaciones o una escapada en pareja. Recomiendo cenar en el restaurant con platillos gourmet de autor. Fiesta americana siempre se ha caracterizado por su servicio y comida y creo que ahora le hicieron honor a esto. El buffette de desayuno esta pro edio, no es de lo mejor pero cumple…\n",
            "Habitaciones, calidad, TODO, cada uno de los detalles del hotel hacen que tengas una experiencia memorable, el spa está increíble, les recomiendo que vayan una hora antes de su cita en el spa para que disfruten de las áreas húmedas 👌🏼\n",
            "Llegar a este hotel fue ver el alto nivel que se puede manejar en México, el diseño increíble, los servicio y enamorado de la alberca. El precio es alto pero el servicio, atención por igual es alto, recibes lo que pagas totalmente. Fue una escapada urbana el quedarnos aquí, y lo valio.\n",
            "Todo muy bien, un poco de iluminación de la avenida al hotel, pero la atención , las habitaciones excelente, el personal muy atento,me gustó mucho, él Spa maravilloso. Uno de los hoteles más modernos de Monterrey...Felicidades!!!!!!\n",
            "<div class=\"Hlmiy F1\" data-test-target=\"review-rating\"><span class=\"ui_bubble_rating bubble_50\"></span></div>\n",
            "<div class=\"Hlmiy F1\" data-test-target=\"review-rating\"><span class=\"ui_bubble_rating bubble_50\"></span></div>\n",
            "<div class=\"Hlmiy F1\" data-test-target=\"review-rating\"><span class=\"ui_bubble_rating bubble_50\"></span></div>\n",
            "<div class=\"Hlmiy F1\" data-test-target=\"review-rating\"><span class=\"ui_bubble_rating bubble_50\"></span></div>\n",
            "<div class=\"Hlmiy F1\" data-test-target=\"review-rating\"><span class=\"ui_bubble_rating bubble_50\"></span></div>\n",
            "https://www.tripadvisor.es/Hotel_Review-g1154799-d9092664-Reviews-or200-Live_Aqua_Urban_Resort_Monterrey-San_Pedro_Garza_Garcia_Monterrey_Northern_Mexico.html#REVIEWS\n",
            "Creo que es el mejor hotel de Monterrey, el servicio es excelente, la vista, las habitaciones y todos los espacios del hotel, ¡hasta los baños! Sin duda lo recomiendo y espero estar nuevamente por allá.\n",
            "Un lugar de ensueño, con excelente atención, decoración impresionante, platillos simplemente delisiosos, todo en sincronía y lo mejor es su gente! desde hora mi lugar favorito para comer, pasarla bien, disfrutar con mi familia y amigos\n",
            "No sé si llegue a 200 caracteres, pero me gustaría decir que este hotel es sinónimo de excelencia. Lujo, atención, detalles, buen gusto, ubicación, alimentos. Tiene todo para pasar unos días de estancia excelentes, ya sea por motivos de trabajo o de placer.\n",
            "El Live Aqua es sencillamente el mejor hotel Non plus ultra del Sector Valle. El diseño , la calidad en el servicio y su nivel avanzado de equipamiento hace que un huesped se sienta mejor que en su propia casa...Es todo un \"Experience\" ,   Adicionalmente el Restaurante esta fabuloso. Totalmente recomendable el Live Aqua Monterrey Valle\n",
            "Ha sido hasta el momento el mejor hotel en que me (nos) hemos hospedado del grupo Posadas, la decoración excelente inigualable y con una comodidad en el descanso. Pero sobre todo el en servicio. Todo el personal esta para servir al cliente ( nosotros) y esperamos volver muy pronto por allá ha disfrutar de la hospitalidad de Monterrey.\n",
            "<div class=\"Hlmiy F1\" data-test-target=\"review-rating\"><span class=\"ui_bubble_rating bubble_50\"></span></div>\n",
            "<div class=\"Hlmiy F1\" data-test-target=\"review-rating\"><span class=\"ui_bubble_rating bubble_50\"></span></div>\n",
            "<div class=\"Hlmiy F1\" data-test-target=\"review-rating\"><span class=\"ui_bubble_rating bubble_50\"></span></div>\n",
            "<div class=\"Hlmiy F1\" data-test-target=\"review-rating\"><span class=\"ui_bubble_rating bubble_50\"></span></div>\n",
            "<div class=\"Hlmiy F1\" data-test-target=\"review-rating\"><span class=\"ui_bubble_rating bubble_50\"></span></div>\n",
            "https://www.tripadvisor.es/Hotel_Review-g1154799-d9092664-Reviews-or205-Live_Aqua_Urban_Resort_Monterrey-San_Pedro_Garza_Garcia_Monterrey_Northern_Mexico.html#REVIEWS\n",
            "Totalmente nuevo y súper exclusivo. En verdad es una gran experiencia con mucho detalle y amenidades que lo hacen realmente agradables.  Lo más destacado su gimnasio, el spa y principalmente el esmero de su personal.\n",
            "El día de ayer visite este nuevo hotel en Monterrey, y quede impresionada, las habitaciones y en si todo el hotel está increíble, definitivamente el hotel con más diseño en Monterrey. La comida del restaurante muy buena y la atención excelente.\n",
            "A solo tres meses de haberse inaugurado este hotel nos hospedamos mi esposa y yo para atender una boda en Monterrey. Como es costumbre de esa cadena de Fiesta Americana el trato súper personalizado, las habitaciones preciosas y muy cómodas. 100% recomendable para parejas.\n",
            "Con los ojos cerrados lo recomiendo !!! La habitación impecable, bellísima con vista al cerro de la silla, la gente que te recibe muy amable, necesitamos dejar la habitación más tarde y no tuvieron problema permitirnos salir más tarde, definitivamente regresaría \n",
            "Mi novia cumplió años el 10 de septiembre y decidí festejarla en el restaurante ubicado en el piso 18 del Live Aqua Monterrey Valle. Le expliqué al personal que quería prepararle algo especial, me preguntaron si tenía algún requisito para la ocasión (pétalos, velas, decoración)... ¡y el resultado fue extraordinario! El capitán y el mesero me apoyaron en la decoración y dejaron todo listo para cuando llegáramos a cenar, hasta yo mismo resulté sorprendido.  Los precios están a la altura de su servicio: gran servicio, precios similares a los de un restaurante de lujo. Gran sabor y muy buenas recomendaciones de los meseros, tanto para las entradas, el vino y el plato fuerte.  Luego disfrutamos del bar que está a un lado y la vista preciosa que se aprecia durante la noche de todo San…\n",
            "<div class=\"Hlmiy F1\" data-test-target=\"review-rating\"><span class=\"ui_bubble_rating bubble_50\"></span></div>\n",
            "<div class=\"Hlmiy F1\" data-test-target=\"review-rating\"><span class=\"ui_bubble_rating bubble_50\"></span></div>\n",
            "<div class=\"Hlmiy F1\" data-test-target=\"review-rating\"><span class=\"ui_bubble_rating bubble_50\"></span></div>\n",
            "<div class=\"Hlmiy F1\" data-test-target=\"review-rating\"><span class=\"ui_bubble_rating bubble_50\"></span></div>\n",
            "<div class=\"Hlmiy F1\" data-test-target=\"review-rating\"><span class=\"ui_bubble_rating bubble_50\"></span></div>\n",
            "https://www.tripadvisor.es/Hotel_Review-g1154799-d9092664-Reviews-or210-Live_Aqua_Urban_Resort_Monterrey-San_Pedro_Garza_Garcia_Monterrey_Northern_Mexico.html#REVIEWS\n",
            "Magnifico !!!! Servicio, instalaciones, spa, restaurante !!!! Felicidades por estar en todos los detalles. Un lugar que Monterrey necesitaba. Regresare frecuentemente. La cocina del piso 18 estupenda. El SPA es buenisimo !!! En fin todo\n",
            "Es toda una experiencia la excelente atención e instalaciones del hotel.  Las habitaciones tienen una decoración excepcional así como todo el hotel. Nos quedamos aquí para celebrar nuestro aniversario y   no dejaron de sorprendernos con los detalles y atenciones.   El spa es sin duda un \"must\" en el hotel, así como las amenidades, jacuzzi, sauna, regaderas, etc. Es un hotel para descansar y sentirte consentido con mucha clase y lujo, Lo recomiendo ampliamente!.   \n",
            "Este sabado fuimos a desayunar al restaurant del hotel live aqua monterrey que se encuentra en valle oriente, el hotel esta construido de concreto aparente , su decoracion es agradable. Tiene un restaurant en el cuarto piso y otro en el 18, decidimos ir al ultimo. El restaurant es de regular tamaño y los platillos vienen bien presentados, sin embargo es caro comparado con el promedio de la zona, los huevos aquadictinos , yo les quitaria el nopal creo q estarian mejor con algun lomo canadiense o simplemente jamon aunque es cuestion de gustos, la salsa holandesa deliciosa, los huevos san petrinos , son huevos estrellados con salsa y chicharron buenos tambien. El pan esta exquisito un brioche tostado de muy buen sabor, y ni que decir de las mermeladas de fresa, maracuya, y guayaba…\n",
            "Estuve de viaje con mis amigos, desde que llegamos al hotel nos recibieron con la mejor atención!! La habitación es muy grande y muy moderna, todos los detalles te hacen sentir como en casa y la vista que tiene ufff sin palabras! Tienen un Chef excelente,  el restaurante es de primera y el ambiente en el bar es de lo mejor de Monterrey y el servicio es espectacular! Sin duda a Monterrey ya le hacía falta un hotel de esta categoría! Espero regresar pronto.\n",
            "No pudo ser mejor el escenario para celebrar nuestro aniversario, el lugar es simplemente espectacular, la comida es de autor, exquisita, y el servicio con una calidez y un trato único. Mi recomendación toda la carta y precios justos y accesibles. Espero pronto conocer las habitaciones \n",
            "<div class=\"Hlmiy F1\" data-test-target=\"review-rating\"><span class=\"ui_bubble_rating bubble_50\"></span></div>\n",
            "<div class=\"Hlmiy F1\" data-test-target=\"review-rating\"><span class=\"ui_bubble_rating bubble_50\"></span></div>\n",
            "<div class=\"Hlmiy F1\" data-test-target=\"review-rating\"><span class=\"ui_bubble_rating bubble_50\"></span></div>\n",
            "<div class=\"Hlmiy F1\" data-test-target=\"review-rating\"><span class=\"ui_bubble_rating bubble_50\"></span></div>\n",
            "<div class=\"Hlmiy F1\" data-test-target=\"review-rating\"><span class=\"ui_bubble_rating bubble_50\"></span></div>\n",
            "https://www.tripadvisor.es/Hotel_Review-g1154799-d9092664-Reviews-or215-Live_Aqua_Urban_Resort_Monterrey-San_Pedro_Garza_Garcia_Monterrey_Northern_Mexico.html#REVIEWS\n",
            "Sin problemas el mejor hotel en Monterrey, faltaba abrieran hoteles de esta calidad en la ciudad. Desde las áreas públicas, las habitaciones de lujo, la comida y sobretodo la actitud de todo el personal, hacen de este hotel el mejor de Monterrey. Recomiendo mucho visitar el bar que en la noche tiene excelente ambiente con vista a la zona Valle. Sin pensarlo me quedo aquí la próxima visita. Muchas Felicidades a Grupo Posadas!!!\n",
            "Las instalaciones, servicio y calidez de su personal son de lo mejor, el estilo urbano te envuelve para olvidarte que estás de trabajo, la ubicación excelente, cuentan con un restaurante de primera donde la pizza de cabrito es la opción número uno\n",
            "Excelente hotel, la atención del personal es increíble así como sus instalaciones. Tiene detalles únicos así como una Vista espectacular de la zona Valle. La comida es muy rica y diferente a lo que acostumbramos. Será el nuevo Favorito en Monterrey Valle!! \n",
            "Excelente hotel,  poder disfrutar de un delicioso SPA , poder llegar a  tu  habitación  y tener una  tina  de baño de ensueño , solo es posible en este  hotel maravilloso de  Grupos Posadas.   gracias a todo el personal que  me regalo una sonrisa siempre y  me lleno de  un servicio impecable .  No dejen de visitar el  gimnasio que  tiene un vista  maravillosa.\n",
            "La decoración del Hotel es muy elegante, las vistas que tienen tanto en su restaurante como en el lobby bar increíbles. El servicio durante la estancia impecable, te reciben como si fuera tu casa, las habitaciones muy cómodas y elegantes para disfrutar tu estancia en la ciudad a gusto. La comida  y los cócteles deliciosos . No cabe duda que es uno de los mejores Hoteles en Monterrey.\n",
            "<div class=\"Hlmiy F1\" data-test-target=\"review-rating\"><span class=\"ui_bubble_rating bubble_50\"></span></div>\n",
            "<div class=\"Hlmiy F1\" data-test-target=\"review-rating\"><span class=\"ui_bubble_rating bubble_50\"></span></div>\n",
            "<div class=\"Hlmiy F1\" data-test-target=\"review-rating\"><span class=\"ui_bubble_rating bubble_50\"></span></div>\n",
            "<div class=\"Hlmiy F1\" data-test-target=\"review-rating\"><span class=\"ui_bubble_rating bubble_50\"></span></div>\n",
            "<div class=\"Hlmiy F1\" data-test-target=\"review-rating\"><span class=\"ui_bubble_rating bubble_50\"></span></div>\n",
            "https://www.tripadvisor.es/Hotel_Review-g1154799-d9092664-Reviews-or220-Live_Aqua_Urban_Resort_Monterrey-San_Pedro_Garza_Garcia_Monterrey_Northern_Mexico.html#REVIEWS\n",
            "Pasé el fin de semana en el hotel y quede fascinada con la decoración, el servicio y la elegancia, las habitaciones súper cómodas;  además de su deliciosa \"pizza de cabrito. Definitivamente un lugar que no puedes dejar de visitar.\n",
            "Excelente hotel , me atrevería a decir que son las mejores habitaciones en hoteles de Cd en Mexico, una vista espectacular, una decoración increíble y elegante, la comida deliciosa.  En especial la cama es increíble para descansar !!!   Habitaciones muy amplias, muy iluminadas  Los nuevos cocteles del bar esta deliciosos !!! \n",
            "Un hotel muy bonito, lujoso, el personal es super amable. Las habitaciones son muy acogedoras y tienen todo lo necesario. Esta ubicado en una muy buena zona, tienes cerca centro comercial y variedad en restaurantes.\n",
            "Después de pasar 2 noches en el hotel quede impresionado por el hotel. Es un producto con una decoración sofisticada de muy buen gusto y algo de lo que no había en la ciudad. El gym muy bueno con un instructor buenísimo la vista sensacional de todo el valle. El spa de lo mejor muy parecido al del mismo hotel en CDMX  La comida digna de resaltar no deber perder la oportunidad de cenar ahí y toma una copa  El personal muy cálido y muy profesional definitivamente la mejor opción en Mty  \n",
            "Aunque muy nuevo, y el equipo aun se está capacitando, no hay reemplazo para la buena actitud y disposición del equipo del hotel para hacerte pasar un excelente tiempo. El Spa y el restaurante son de primer nivel, y tienen varios detalles a lo largo de la estancia que lo hacen único.\n",
            "<div class=\"Hlmiy F1\" data-test-target=\"review-rating\"><span class=\"ui_bubble_rating bubble_50\"></span></div>\n",
            "<div class=\"Hlmiy F1\" data-test-target=\"review-rating\"><span class=\"ui_bubble_rating bubble_50\"></span></div>\n",
            "<div class=\"Hlmiy F1\" data-test-target=\"review-rating\"><span class=\"ui_bubble_rating bubble_50\"></span></div>\n",
            "<div class=\"Hlmiy F1\" data-test-target=\"review-rating\"><span class=\"ui_bubble_rating bubble_50\"></span></div>\n",
            "<div class=\"Hlmiy F1\" data-test-target=\"review-rating\"><span class=\"ui_bubble_rating bubble_50\"></span></div>\n"
          ]
        }
      ],
      "source": [
        "reviews = []\n",
        "stars =[]\n",
        "\n",
        "numpages = int( max_or_num / reviews_x_pages )                    # puede tardar varios minutos si son muchos registros a extraer.\n",
        "\n",
        "for link in links[0:numpages]:\n",
        "  print(link)\n",
        "\n",
        "  headers = {'User-Agent':'Mozilla/5.0 (Windows NT 10.0; WOW64) AppleWebKit/537.36 (KHTML, like Gecko) Chrome/83.0.4103.97 Safari/537.36' }\n",
        "  html2 = requests.get(link, headers=headers)\n",
        "  #print(html2.status_code)\n",
        "\n",
        "  sleep(randint(1,5))   # se incluyen intervalos de sleep para que no se estén haciendo llamadas de manera continua a la página\n",
        "                        # y que al detectar esta actividad continua, se pueda detectar como una actividad sospechosa por el servidor\n",
        "                        # y nos pueda bloquear de manera automática por ello.\n",
        "  bsobj2 = soup(html2.content,'lxml')   # objeto de la librería BeautifulSoup para llevar a cabo nuestra tarea.\n",
        "\n",
        "  # Extraemos los comentarios de cualquiera de las siguientes dos formas:\n",
        "  # Incluimos algunos Print solo para visualizar la manera en que se lleva a cabo el proceso:\n",
        "\n",
        "  #for review in bsobj2.findAll('span', class_='QewHA'):       # Forma 1:  Estamos en \"span\", Observa el guión-bajo al final de \"class_\"\n",
        "  for review in bsobj2.findAll('span', {'class' : 'QewHA'}):   # Forma 2\n",
        "      print(review.text)\n",
        "      reviews.append(review.text.strip())\n",
        "\n",
        "  sleep(randint(1,5))\n",
        "  bsobj3 = soup(html2.content,'lxml')\n",
        "\n",
        "  # Extraigamos también las calificaciones (estrellas):\n",
        "  # Observa que las calificaciones están en unidades de 10, 20, 30, 40, 50.\n",
        "  # En particular en este caso haremos la extracción de todo el string donde se encuentra la\n",
        "  # calificación al hotel por parte del usuario y a partir de ahí mediante regex puedes\n",
        "  # fácilmente realizar la extracción de la calificación:\n",
        "  for cal in bsobj3.findAll('div', {'class' : 'Hlmiy'}):\n",
        "    print(cal)\n",
        "    #  Aquí puedes incluir tu regex para extraer solo la calificación numérica.\n",
        "    stars.append(cal)"
      ]
    },
    {
      "cell_type": "markdown",
      "source": [
        "Cantidades:"
      ],
      "metadata": {
        "id": "q1Bv7MOxjz0j"
      }
    },
    {
      "cell_type": "code",
      "execution_count": 6,
      "metadata": {
        "colab": {
          "base_uri": "https://localhost:8080/"
        },
        "id": "Sx4m2q42I6XE",
        "outputId": "16d1e311-7473-42d3-b5ef-3c98fcc4416e"
      },
      "outputs": [
        {
          "output_type": "stream",
          "name": "stdout",
          "text": [
            "Cantidad de comentarios extraídos: 225\n",
            "Cantidad de claificaciones: 225\n"
          ]
        }
      ],
      "source": [
        "print('Cantidad de comentarios extraídos:', len(reviews))\n",
        "print('Cantidad de claificaciones:', len(stars))"
      ]
    },
    {
      "cell_type": "markdown",
      "source": [
        "Ratings:"
      ],
      "metadata": {
        "id": "ykH45kX7j267"
      }
    },
    {
      "cell_type": "code",
      "execution_count": 7,
      "metadata": {
        "colab": {
          "base_uri": "https://localhost:8080/"
        },
        "id": "OHgiZHqnhtQj",
        "outputId": "41ab485f-749c-4102-d905-51efb8a875b7"
      },
      "outputs": [
        {
          "output_type": "stream",
          "name": "stdout",
          "text": [
            "[5, 5, 5, 5, 3, 5, 5, 5, 1, 1, 5, 5, 5, 3, 4, 5, 5, 5, 2, 5, 5, 5, 1, 2, 2, 5, 1, 3, 5, 2, 5, 1, 1, 5, 5, 3, 5, 5, 5, 2, 5, 1, 4, 5, 5, 5, 5, 4, 5, 1, 5, 5, 5, 5, 2, 5, 1, 5, 5, 5, 4, 5, 5, 5, 5, 5, 5, 1, 5, 5, 4, 5, 4, 4, 5, 5, 5, 5, 2, 5, 2, 5, 4, 5, 5, 5, 5, 1, 5, 5, 4, 5, 5, 5, 5, 5, 5, 5, 5, 4, 5, 5, 4, 5, 5, 5, 5, 5, 5, 5, 5, 5, 4, 5, 5, 5, 5, 2, 5, 5, 5, 5, 5, 5, 4, 5, 5, 5, 5, 5, 5, 5, 5, 5, 1, 5, 5, 5, 5, 4, 5, 5, 4, 5, 5, 5, 5, 5, 4, 4, 4, 4, 5, 5, 4, 5, 5, 5, 5, 5, 5, 4, 2, 5, 5, 3, 4, 5, 5, 5, 3, 4, 5, 5, 5, 5, 5, 5, 5, 1, 5, 1, 5, 4, 5, 5, 1, 5, 2, 5, 5, 5, 3, 5, 5, 5, 5, 5, 5, 5, 5, 5, 5, 5, 5, 5, 5, 5, 5, 5, 5, 5, 5, 5, 5, 5, 5, 5, 5, 5, 5, 5, 5, 5, 5]\n"
          ]
        }
      ],
      "source": [
        "from bs4 import BeautifulSoup\n",
        "\n",
        "# Assuming the variable stars contains the list of HTML elements\n",
        "\n",
        "ratings = []\n",
        "for star in stars:\n",
        "    soup = BeautifulSoup(str(star), 'html.parser')\n",
        "    rating_class = soup.find('span', class_='ui_bubble_rating')['class'][-1]\n",
        "    rating = int(rating_class.split('_')[-1]) / 10\n",
        "    ratings.append(rating)\n",
        "\n",
        "\n",
        "ratings = [int(rating) for rating in ratings]\n",
        "\n",
        "print(ratings)"
      ]
    },
    {
      "cell_type": "markdown",
      "source": [
        "## **Pregunta 2**"
      ],
      "metadata": {
        "id": "h55VgJ09j8j0"
      }
    },
    {
      "cell_type": "markdown",
      "source": [
        "Para considerarlo como un problema binario, convierte las calificaciones a valores de 0 (comentario negativo) y 1 (comentario positivo)."
      ],
      "metadata": {
        "id": "QWedTZ0ykCq7"
      }
    },
    {
      "cell_type": "markdown",
      "source": [
        "### **Inciso A**"
      ],
      "metadata": {
        "id": "BMKATEwgkStF"
      }
    },
    {
      "cell_type": "markdown",
      "source": [
        "En particular indica cómo considerarás las calificaciones entre 3 y 4, como 3.5, por ejemplo. Justifica la decisión tomada."
      ],
      "metadata": {
        "id": "UdYTFiFukWu7"
      }
    },
    {
      "cell_type": "markdown",
      "metadata": {
        "id": "wUb5HbdjIsaw"
      },
      "source": [
        "Comenzamos observando su distribución:"
      ]
    },
    {
      "cell_type": "code",
      "execution_count": 8,
      "metadata": {
        "colab": {
          "base_uri": "https://localhost:8080/",
          "height": 559
        },
        "id": "PhkT2v0ChtQj",
        "outputId": "241e0dc9-35da-4589-9c5d-343aee95ee6e"
      },
      "outputs": [
        {
          "output_type": "display_data",
          "data": {
            "text/plain": [
              "<Figure size 640x480 with 1 Axes>"
            ],
            "image/png": "[encoded data removed]"
          },
          "metadata": {}
        },
        {
          "output_type": "stream",
          "name": "stdout",
          "text": [
            "Rating 5: 168 occurrences\n",
            "Rating 3: 7 occurrences\n",
            "Rating 1: 15 occurrences\n",
            "Rating 4: 24 occurrences\n",
            "Rating 2: 11 occurrences\n"
          ]
        }
      ],
      "source": [
        "import numpy as np\n",
        "import matplotlib.pyplot as plt\n",
        "from collections import Counter\n",
        "import matplotlib.pyplot as plt\n",
        "\n",
        "# Convert the int values to strings\n",
        "ratings = [str(rating) for rating in ratings]\n",
        "\n",
        "# Extract the rating values from the 'ratings' list\n",
        "rating_values = [int(re.search(r'\\d+', rating).group()) for rating in ratings]\n",
        "\n",
        "# Define the bin edges\n",
        "bin_edges = [1, 2, 3, 4, 5, 6]\n",
        "\n",
        "# Plot the histogram\n",
        "plt.hist(rating_values, bins=bin_edges, edgecolor='black')\n",
        "\n",
        "# Customize the plot\n",
        "plt.title('Calificaciones')\n",
        "plt.xlabel('Rating')\n",
        "plt.ylabel('Frecuencia')\n",
        "\n",
        "# Show the plot\n",
        "plt.show()\n",
        "\n",
        "# Count the frequency of each rating value\n",
        "rating_frequency = Counter(rating_values)\n",
        "\n",
        "# Display the frequency of each rating value\n",
        "for rating, frequency in rating_frequency.items():\n",
        "    print(f\"Rating {rating}: {frequency} occurrences\")"
      ]
    },
    {
      "cell_type": "markdown",
      "source": [
        "**R:** En este caso todas las calificaciones son enteras, por lo que en realidad tenemos solamente un rango de números enteros (1,2,3,4,5). Revisando abajo la gráfica de frecuencia, podemos ver que el dataset está desbalanceado, muy cargado hacia los comentarios con calificación 5, seguidos por 4. Derivado de lo mismo, se decide que los comentarios negativos serán del rango 1-3 mientras que los datos positivos serán del rango 4-5."
      ],
      "metadata": {
        "id": "8adNa0COkbb8"
      }
    },
    {
      "cell_type": "markdown",
      "source": [
        "### **Inciso B**"
      ],
      "metadata": {
        "id": "Vdb-K7cWkfUT"
      }
    },
    {
      "cell_type": "markdown",
      "source": [
        "Indica la proporción de comentarios positivos y negativos que tienes ahora.\n",
        "\n"
      ],
      "metadata": {
        "id": "RjrK4u0RkhmL"
      }
    },
    {
      "cell_type": "markdown",
      "metadata": {
        "id": "8R3sfSkmkt5U"
      },
      "source": [
        "En esta parte se crea una nueva lista llamada valoración, con la cual marcamos los registros ya sea con 0 si su calificación es entre 1-3, o los marcamos con 1 si su calificación va entre 4-5:"
      ]
    },
    {
      "cell_type": "code",
      "execution_count": 9,
      "metadata": {
        "id": "RfKevsu0htQk"
      },
      "outputs": [],
      "source": [
        "# Create a new variable \"valoracion\" based on \"ratings\"\n",
        "valoracion = []\n",
        "\n",
        "for rating in ratings:\n",
        "    if rating == '4' or rating == '5':\n",
        "        valoracion.append(1)\n",
        "    elif rating == '1' or rating == '2' or rating == '3':\n",
        "        valoracion.append(0)\n",
        "    else:\n",
        "        valoracion.append(None)"
      ]
    },
    {
      "cell_type": "code",
      "execution_count": 10,
      "metadata": {
        "colab": {
          "base_uri": "https://localhost:8080/"
        },
        "id": "MAVfLE7ehtQk",
        "outputId": "d2790279-53f2-46f4-a803-d8970c7b2fbe"
      },
      "outputs": [
        {
          "output_type": "stream",
          "name": "stdout",
          "text": [
            "[1, 1, 1, 1, 0, 1, 1, 1, 0, 0, 1, 1, 1, 0, 1, 1, 1, 1, 0, 1, 1, 1, 0, 0, 0, 1, 0, 0, 1, 0, 1, 0, 0, 1, 1, 0, 1, 1, 1, 0, 1, 0, 1, 1, 1, 1, 1, 1, 1, 0, 1, 1, 1, 1, 0, 1, 0, 1, 1, 1, 1, 1, 1, 1, 1, 1, 1, 0, 1, 1, 1, 1, 1, 1, 1, 1, 1, 1, 0, 1, 0, 1, 1, 1, 1, 1, 1, 0, 1, 1, 1, 1, 1, 1, 1, 1, 1, 1, 1, 1, 1, 1, 1, 1, 1, 1, 1, 1, 1, 1, 1, 1, 1, 1, 1, 1, 1, 0, 1, 1, 1, 1, 1, 1, 1, 1, 1, 1, 1, 1, 1, 1, 1, 1, 0, 1, 1, 1, 1, 1, 1, 1, 1, 1, 1, 1, 1, 1, 1, 1, 1, 1, 1, 1, 1, 1, 1, 1, 1, 1, 1, 1, 0, 1, 1, 0, 1, 1, 1, 1, 0, 1, 1, 1, 1, 1, 1, 1, 1, 0, 1, 0, 1, 1, 1, 1, 0, 1, 0, 1, 1, 1, 0, 1, 1, 1, 1, 1, 1, 1, 1, 1, 1, 1, 1, 1, 1, 1, 1, 1, 1, 1, 1, 1, 1, 1, 1, 1, 1, 1, 1, 1, 1, 1, 1]\n"
          ]
        }
      ],
      "source": [
        "print(valoracion)"
      ]
    },
    {
      "cell_type": "markdown",
      "metadata": {
        "id": "M5Mwl5NBkt5V"
      },
      "source": [
        "Finalmente hacemos una gráfica de frecuencias para ver cuántos comentarios negativos y positivos tenemos."
      ]
    },
    {
      "cell_type": "code",
      "execution_count": 11,
      "metadata": {
        "colab": {
          "base_uri": "https://localhost:8080/",
          "height": 524
        },
        "id": "E5YarNIlhtQk",
        "outputId": "53c44436-30ef-485b-e9f0-8728448fbff2"
      },
      "outputs": [
        {
          "output_type": "display_data",
          "data": {
            "text/plain": [
              "<Figure size 640x480 with 1 Axes>"
            ],
            "image/png": "[encoded data removed]"
          },
          "metadata": {}
        },
        {
          "output_type": "stream",
          "name": "stdout",
          "text": [
            "Valoracion 0: 33 occurrences\n",
            "Valoracion 1: 192 occurrences\n",
            "Valoracion None: 0 occurrences\n"
          ]
        }
      ],
      "source": [
        "# Frequency analysis for \"valoracion\"\n",
        "valoracion_counts = {str(0): 0, str(1): 0, 'None': 0}\n",
        "\n",
        "# Count the occurrences of each value in \"valoracion\"\n",
        "for value in valoracion:\n",
        "    if value is None:\n",
        "        valoracion_counts['None'] += 1\n",
        "    else:\n",
        "        valoracion_counts[str(value)] += 1\n",
        "\n",
        "# Plotting the graph\n",
        "plt.bar(valoracion_counts.keys(), valoracion_counts.values())\n",
        "plt.xlabel('Valoracion')\n",
        "plt.ylabel('Frequency')\n",
        "plt.title('Frequency Analysis - Valoracion')\n",
        "plt.show()\n",
        "\n",
        "# Frequency in text\n",
        "for value, count in valoracion_counts.items():\n",
        "    print(f\"Valoracion {value}: {count} occurrences\")"
      ]
    },
    {
      "cell_type": "markdown",
      "source": [
        "**R:** 33 Negativos - 192 Positivos"
      ],
      "metadata": {
        "id": "KFsMXqQYklzd"
      }
    },
    {
      "cell_type": "markdown",
      "source": [
        "## **Pregunta 3**"
      ],
      "metadata": {
        "id": "xwygZTqWk61T"
      }
    },
    {
      "cell_type": "markdown",
      "source": [
        "Selecciona y aplica un modelo Transformer generador de texto en español de la plataforma de HuggingFace para “balancear” los porcentajes de comentarios positivos y negativos.\n",
        "\n",
        "Indica la cantidad de datos sintéticos que vas a generar, en particular contesta las siguientes preguntas:"
      ],
      "metadata": {
        "id": "SIQGxPOJk-IF"
      }
    },
    {
      "cell_type": "markdown",
      "metadata": {
        "id": "U0xa1hkmGalj"
      },
      "source": [
        "\n",
        "\n",
        "\n",
        "\n",
        "**a.** ¿Vas a generar solo datos de la clase negativa minoritaria o de ambas clases? ¿Por qué?\n",
        "\n",
        "**R:** Se generan solamente calificaciones sintéticas negativas para balancear lo más posible la cantidad de comentarios negativos con positivos.\n",
        "\n",
        "\n",
        "**b.** ¿Qué porcentaje de nuevo balanceo de clases vas a generar? ¿Por qué? NOTA: Recuerda que no siempre es lo mejor balancearlos al 50% cada clase, porque si el conjunto original está demasiado desbalanceado y los datos sintéticos generados son de muy buena calidad, los resultados obtenidos al final podrían ser bastante desastrosos.\n",
        "\n",
        "**R:** El porcentaje de reequilibrio de clases nuevas a generar debe elegirse con cuidado, teniendo en cuenta la distribución de clases inicial y la calidad de los datos sintéticos. Puede que no siempre sea ideal equilibrar las clases exactamente en un 50 % cada una, especialmente si el conjunto de datos original está muy desequilibrado como es en este caso.. Un enfoque razonable sería generar suficientes datos sintéticos para acercar a la clase minoritaria a la clase mayoritaria sin igualarlas por completo, por lo que proponemos una distribución 60 positivos-40 negativos.\n"
      ]
    },
    {
      "cell_type": "markdown",
      "metadata": {
        "id": "q7a49ljvkt5W"
      },
      "source": [
        "En este punto crearemos un dataframe en donde podamos tener juntas las tres columnas: el comentario, el rating original de 1-5 y su valoración entre 0-1."
      ]
    },
    {
      "cell_type": "code",
      "execution_count": 12,
      "metadata": {
        "colab": {
          "base_uri": "https://localhost:8080/"
        },
        "id": "ZJPlCuPHhtQl",
        "outputId": "1e9b6316-fa04-44c7-e88c-da7639263424"
      },
      "outputs": [
        {
          "output_type": "stream",
          "name": "stdout",
          "text": [
            "    ratings valoracion                                            reviews\n",
            "0         5          1  Primeramente, les puedo compartir que mi espos...\n",
            "1         5          1  Para disfrutar de la ciudad de Monterrey, con ...\n",
            "2         5          1  Siempre procuro quedarme en este hotel ya sea ...\n",
            "3         5          1  Fue una experiencia de lujo, el staff siempre ...\n",
            "4         3          0  La calidad de los servicios, la variedad del m...\n",
            "..      ...        ...                                                ...\n",
            "220       5          1  Pasé el fin de semana en el hotel y quede fasc...\n",
            "221       5          1  Excelente hotel , me atrevería a decir que son...\n",
            "222       5          1  Un hotel muy bonito, lujoso, el personal es su...\n",
            "223       5          1  Después de pasar 2 noches en el hotel quede im...\n",
            "224       5          1  Aunque muy nuevo, y el equipo aun se está capa...\n",
            "\n",
            "[225 rows x 3 columns]\n"
          ]
        }
      ],
      "source": [
        "# Create a dictionary with the data\n",
        "data = {\n",
        "    'ratings': ratings,\n",
        "    'valoracion': valoracion,\n",
        "    'reviews': reviews\n",
        "}\n",
        "\n",
        "# Create the DataFrame\n",
        "df = pd.DataFrame(data)\n",
        "\n",
        "df['ratings'] = pd.Categorical(df['ratings'])\n",
        "df['valoracion'] = pd.Categorical(df['valoracion'])\n",
        "\n",
        "# Display the DataFrame\n",
        "print(df)"
      ]
    },
    {
      "cell_type": "markdown",
      "metadata": {
        "id": "VE3_cAAVkt5X"
      },
      "source": [
        "En esta parte comenzamos a separar la información en dos listas. La primera de ellas contendrá todos los comentarios cuya valoración sea 1. La segunda lista incluirá todos los comentarios cuya valoración sea 0."
      ]
    },
    {
      "cell_type": "code",
      "execution_count": 13,
      "metadata": {
        "colab": {
          "base_uri": "https://localhost:8080/"
        },
        "id": "1wy3TCrghtQl",
        "outputId": "5411fbf3-c86e-4389-90c7-aae6e71b47e9"
      },
      "outputs": [
        {
          "output_type": "stream",
          "name": "stdout",
          "text": [
            "192\n",
            "33\n"
          ]
        }
      ],
      "source": [
        "# Create an empty list for positive comments\n",
        "positive_comments = []\n",
        "\n",
        "# Create an empty list for negative comments\n",
        "negative_comments = []\n",
        "\n",
        "# Iterate over each row in the DataFrame\n",
        "for index, row in df.iterrows():\n",
        "    # Check if valoracion is equal to 1\n",
        "    if row['valoracion'] == 1:\n",
        "        positive_comments.append(row['reviews'])\n",
        "    # Check if valoracion is equal to 0\n",
        "    elif row['valoracion'] == 0:\n",
        "        negative_comments.append(row['reviews'])\n",
        "\n",
        "# Confirm the lenght of each list.\n",
        "print(len(positive_comments))\n",
        "print(len(negative_comments))"
      ]
    },
    {
      "cell_type": "markdown",
      "metadata": {
        "id": "I897l5a1kt5X"
      },
      "source": [
        "Ya que tenemos los comentarios separados en lista, creamos un dataframe para cada uno de ellos, agregando nuevamente la columna de ratings. Para la lista de positivas los dejamos con rating valor a 1 y para la lista negativa la dejamos con rating valor a 0. Finalmente concatenamos ambos dataframe y creamos uno que vamos a llamar unbalanced_dataset, que trae solamente los comentarios originales de TripAdvisor."
      ]
    },
    {
      "cell_type": "code",
      "execution_count": 14,
      "metadata": {
        "id": "WbZvJhF3xwcb"
      },
      "outputs": [],
      "source": [
        "# Create a DataFrame\n",
        "df_positive_unbalanced = pd.DataFrame({'comments': positive_comments, 'ratings': 1})\n",
        "df_negative_unbalanced = pd.DataFrame({'comments': negative_comments, 'ratings': 0})\n",
        "\n",
        "unbalanced_dataset = pd.concat([df_positive_unbalanced, df_negative_unbalanced], ignore_index=True)"
      ]
    },
    {
      "cell_type": "code",
      "execution_count": 17,
      "metadata": {
        "id": "hcIDrL7fnVpn",
        "outputId": "203b01ee-65b4-43b9-daa6-ab64f7e420b6",
        "colab": {
          "base_uri": "https://localhost:8080/"
        }
      },
      "outputs": [
        {
          "output_type": "stream",
          "name": "stdout",
          "text": [
            "Looking in indexes: https://pypi.org/simple, https://us-python.pkg.dev/colab-wheels/public/simple/\n",
            "Requirement already satisfied: torch in /usr/local/lib/python3.10/dist-packages (2.0.1+cu118)\n",
            "Requirement already satisfied: filelock in /usr/local/lib/python3.10/dist-packages (from torch) (3.12.2)\n",
            "Requirement already satisfied: typing-extensions in /usr/local/lib/python3.10/dist-packages (from torch) (4.6.3)\n",
            "Requirement already satisfied: sympy in /usr/local/lib/python3.10/dist-packages (from torch) (1.11.1)\n",
            "Requirement already satisfied: networkx in /usr/local/lib/python3.10/dist-packages (from torch) (3.1)\n",
            "Requirement already satisfied: jinja2 in /usr/local/lib/python3.10/dist-packages (from torch) (3.1.2)\n",
            "Requirement already satisfied: triton==2.0.0 in /usr/local/lib/python3.10/dist-packages (from torch) (2.0.0)\n",
            "Requirement already satisfied: cmake in /usr/local/lib/python3.10/dist-packages (from triton==2.0.0->torch) (3.25.2)\n",
            "Requirement already satisfied: lit in /usr/local/lib/python3.10/dist-packages (from triton==2.0.0->torch) (16.0.6)\n",
            "Requirement already satisfied: MarkupSafe>=2.0 in /usr/local/lib/python3.10/dist-packages (from jinja2->torch) (2.1.3)\n",
            "Requirement already satisfied: mpmath>=0.19 in /usr/local/lib/python3.10/dist-packages (from sympy->torch) (1.3.0)\n",
            "Looking in indexes: https://pypi.org/simple, https://us-python.pkg.dev/colab-wheels/public/simple/\n",
            "Collecting transformers\n",
            "  Downloading transformers-4.30.2-py3-none-any.whl (7.2 MB)\n",
            "\u001b[2K     \u001b[90m━━━━━━━━━━━━━━━━━━━━━━━━━━━━━━━━━━━━━━━━\u001b[0m \u001b[32m7.2/7.2 MB\u001b[0m \u001b[31m71.2 MB/s\u001b[0m eta \u001b[36m0:00:00\u001b[0m\n",
            "\u001b[?25hRequirement already satisfied: filelock in /usr/local/lib/python3.10/dist-packages (from transformers) (3.12.2)\n",
            "Collecting huggingface-hub<1.0,>=0.14.1 (from transformers)\n",
            "  Downloading huggingface_hub-0.15.1-py3-none-any.whl (236 kB)\n",
            "\u001b[2K     \u001b[90m━━━━━━━━━━━━━━━━━━━━━━━━━━━━━━━━━━━━━━\u001b[0m \u001b[32m236.8/236.8 kB\u001b[0m \u001b[31m32.3 MB/s\u001b[0m eta \u001b[36m0:00:00\u001b[0m\n",
            "\u001b[?25hRequirement already satisfied: numpy>=1.17 in /usr/local/lib/python3.10/dist-packages (from transformers) (1.22.4)\n",
            "Requirement already satisfied: packaging>=20.0 in /usr/local/lib/python3.10/dist-packages (from transformers) (23.1)\n",
            "Requirement already satisfied: pyyaml>=5.1 in /usr/local/lib/python3.10/dist-packages (from transformers) (6.0)\n",
            "Requirement already satisfied: regex!=2019.12.17 in /usr/local/lib/python3.10/dist-packages (from transformers) (2022.10.31)\n",
            "Requirement already satisfied: requests in /usr/local/lib/python3.10/dist-packages (from transformers) (2.27.1)\n",
            "Collecting tokenizers!=0.11.3,<0.14,>=0.11.1 (from transformers)\n",
            "  Downloading tokenizers-0.13.3-cp310-cp310-manylinux_2_17_x86_64.manylinux2014_x86_64.whl (7.8 MB)\n",
            "\u001b[2K     \u001b[90m━━━━━━━━━━━━━━━━━━━━━━━━━━━━━━━━━━━━━━━━\u001b[0m \u001b[32m7.8/7.8 MB\u001b[0m \u001b[31m89.7 MB/s\u001b[0m eta \u001b[36m0:00:00\u001b[0m\n",
            "\u001b[?25hCollecting safetensors>=0.3.1 (from transformers)\n",
            "  Downloading safetensors-0.3.1-cp310-cp310-manylinux_2_17_x86_64.manylinux2014_x86_64.whl (1.3 MB)\n",
            "\u001b[2K     \u001b[90m━━━━━━━━━━━━━━━━━━━━━━━━━━━━━━━━━━━━━━━━\u001b[0m \u001b[32m1.3/1.3 MB\u001b[0m \u001b[31m65.1 MB/s\u001b[0m eta \u001b[36m0:00:00\u001b[0m\n",
            "\u001b[?25hRequirement already satisfied: tqdm>=4.27 in /usr/local/lib/python3.10/dist-packages (from transformers) (4.65.0)\n",
            "Requirement already satisfied: fsspec in /usr/local/lib/python3.10/dist-packages (from huggingface-hub<1.0,>=0.14.1->transformers) (2023.6.0)\n",
            "Requirement already satisfied: typing-extensions>=3.7.4.3 in /usr/local/lib/python3.10/dist-packages (from huggingface-hub<1.0,>=0.14.1->transformers) (4.6.3)\n",
            "Requirement already satisfied: urllib3<1.27,>=1.21.1 in /usr/local/lib/python3.10/dist-packages (from requests->transformers) (1.26.16)\n",
            "Requirement already satisfied: certifi>=2017.4.17 in /usr/local/lib/python3.10/dist-packages (from requests->transformers) (2023.5.7)\n",
            "Requirement already satisfied: charset-normalizer~=2.0.0 in /usr/local/lib/python3.10/dist-packages (from requests->transformers) (2.0.12)\n",
            "Requirement already satisfied: idna<4,>=2.5 in /usr/local/lib/python3.10/dist-packages (from requests->transformers) (3.4)\n",
            "Installing collected packages: tokenizers, safetensors, huggingface-hub, transformers\n",
            "Successfully installed huggingface-hub-0.15.1 safetensors-0.3.1 tokenizers-0.13.3 transformers-4.30.2\n"
          ]
        }
      ],
      "source": [
        "#!pip install torch\n",
        "#!pip install transformers"
      ]
    },
    {
      "cell_type": "code",
      "execution_count": 18,
      "metadata": {
        "id": "UgdPCMaqhtQl",
        "colab": {
          "base_uri": "https://localhost:8080/"
        },
        "outputId": "6f51aeb9-f3c5-470e-c423-5dccfefbc783"
      },
      "outputs": [
        {
          "output_type": "execute_result",
          "data": {
            "text/plain": [
              "True"
            ]
          },
          "metadata": {},
          "execution_count": 18
        }
      ],
      "source": [
        "import torch\n",
        "\n",
        "from transformers import T5ForConditionalGeneration, T5Tokenizer\n",
        "torch.cuda.is_available()"
      ]
    },
    {
      "cell_type": "markdown",
      "metadata": {
        "id": "8DA42nrSkt5Z"
      },
      "source": [
        "A continuación escogemos el porcentaje de distribución de clases, en este caso, 60-40."
      ]
    },
    {
      "cell_type": "code",
      "execution_count": 19,
      "metadata": {
        "id": "hX_ec0YBhtQm",
        "colab": {
          "base_uri": "https://localhost:8080/"
        },
        "outputId": "18acdfc3-3e22-4354-caf9-dc90f5291620"
      },
      "outputs": [
        {
          "output_type": "stream",
          "name": "stdout",
          "text": [
            "95\n"
          ]
        }
      ],
      "source": [
        "positive_count = len(positive_comments)\n",
        "negative_count = len(negative_comments)\n",
        "desired_ratio = 0.6  # Desired ratio: 60% positive, 40% negative\n",
        "synthetic_samples_needed = int((positive_count/desired_ratio)-(positive_count + negative_count))\n",
        "print(synthetic_samples_needed)"
      ]
    },
    {
      "cell_type": "markdown",
      "source": [
        "Donde observamos que ocupamos generar 95 datos sintéticos para la clase negativa."
      ],
      "metadata": {
        "id": "aEeASwfclaFM"
      }
    },
    {
      "cell_type": "code",
      "source": [
        "#!pip install xformers"
      ],
      "metadata": {
        "id": "FZA93SxkXnKe",
        "outputId": "27817f84-03d8-4ff2-86fe-ef7118139c89",
        "colab": {
          "base_uri": "https://localhost:8080/"
        }
      },
      "execution_count": 20,
      "outputs": [
        {
          "output_type": "stream",
          "name": "stdout",
          "text": [
            "Looking in indexes: https://pypi.org/simple, https://us-python.pkg.dev/colab-wheels/public/simple/\n",
            "Collecting xformers\n",
            "  Downloading xformers-0.0.20-cp310-cp310-manylinux2014_x86_64.whl (109.1 MB)\n",
            "\u001b[2K     \u001b[90m━━━━━━━━━━━━━━━━━━━━━━━━━━━━━━━━━━━━━━━\u001b[0m \u001b[32m109.1/109.1 MB\u001b[0m \u001b[31m7.6 MB/s\u001b[0m eta \u001b[36m0:00:00\u001b[0m\n",
            "\u001b[?25hRequirement already satisfied: numpy in /usr/local/lib/python3.10/dist-packages (from xformers) (1.22.4)\n",
            "Collecting pyre-extensions==0.0.29 (from xformers)\n",
            "  Downloading pyre_extensions-0.0.29-py3-none-any.whl (12 kB)\n",
            "Requirement already satisfied: torch==2.0.1 in /usr/local/lib/python3.10/dist-packages (from xformers) (2.0.1+cu118)\n",
            "Collecting typing-inspect (from pyre-extensions==0.0.29->xformers)\n",
            "  Downloading typing_inspect-0.9.0-py3-none-any.whl (8.8 kB)\n",
            "Requirement already satisfied: typing-extensions in /usr/local/lib/python3.10/dist-packages (from pyre-extensions==0.0.29->xformers) (4.6.3)\n",
            "Requirement already satisfied: filelock in /usr/local/lib/python3.10/dist-packages (from torch==2.0.1->xformers) (3.12.2)\n",
            "Requirement already satisfied: sympy in /usr/local/lib/python3.10/dist-packages (from torch==2.0.1->xformers) (1.11.1)\n",
            "Requirement already satisfied: networkx in /usr/local/lib/python3.10/dist-packages (from torch==2.0.1->xformers) (3.1)\n",
            "Requirement already satisfied: jinja2 in /usr/local/lib/python3.10/dist-packages (from torch==2.0.1->xformers) (3.1.2)\n",
            "Requirement already satisfied: triton==2.0.0 in /usr/local/lib/python3.10/dist-packages (from torch==2.0.1->xformers) (2.0.0)\n",
            "Requirement already satisfied: cmake in /usr/local/lib/python3.10/dist-packages (from triton==2.0.0->torch==2.0.1->xformers) (3.25.2)\n",
            "Requirement already satisfied: lit in /usr/local/lib/python3.10/dist-packages (from triton==2.0.0->torch==2.0.1->xformers) (16.0.6)\n",
            "Requirement already satisfied: MarkupSafe>=2.0 in /usr/local/lib/python3.10/dist-packages (from jinja2->torch==2.0.1->xformers) (2.1.3)\n",
            "Requirement already satisfied: mpmath>=0.19 in /usr/local/lib/python3.10/dist-packages (from sympy->torch==2.0.1->xformers) (1.3.0)\n",
            "Collecting mypy-extensions>=0.3.0 (from typing-inspect->pyre-extensions==0.0.29->xformers)\n",
            "  Downloading mypy_extensions-1.0.0-py3-none-any.whl (4.7 kB)\n",
            "Installing collected packages: mypy-extensions, typing-inspect, pyre-extensions, xformers\n",
            "Successfully installed mypy-extensions-1.0.0 pyre-extensions-0.0.29 typing-inspect-0.9.0 xformers-0.0.20\n"
          ]
        }
      ]
    },
    {
      "cell_type": "markdown",
      "source": [
        "Observamos 5 textos generados de ejemplo:"
      ],
      "metadata": {
        "id": "uz9iJwWLlnM_"
      }
    },
    {
      "cell_type": "code",
      "source": [
        "from transformers import AutoTokenizer, AutoModelForCausalLM, pipeline, set_seed\n",
        "tokenizer = AutoTokenizer.from_pretrained(\"PlanTL-GOB-ES/gpt2-base-bne\")\n",
        "model = AutoModelForCausalLM.from_pretrained(\"PlanTL-GOB-ES/gpt2-base-bne\")\n",
        "generator = pipeline('text-generation', tokenizer=tokenizer, model=model)\n",
        "set_seed(42)\n",
        "generator(\"Este hotel no me gusta por\", num_return_sequences=5)"
      ],
      "metadata": {
        "colab": {
          "base_uri": "https://localhost:8080/",
          "height": 217,
          "referenced_widgets": [
            "875609b4175849ba8032003a96021b09",
            "75050dd5758041899766df758d80ece7",
            "1055680e24f4437f8164c18787d40e0b",
            "c103ed7d9f0246d19fd763918db103c3",
            "bab2c974b1054c7eb8d109b28429adba",
            "78a8b09d98bc49fe9866d88a905c7dc2",
            "3e8b4cdcb3fc47319a473901c386343c",
            "fa5bb2a649294fbebc5f83f21695d843",
            "28b8a3034837452682826b478912d55a",
            "a8f84794e7264e288a31e2476a3bbafb",
            "7b87e1130f6749eb89cf1e7bf5873586",
            "e65d460df5ce4ad7b83986127781d9c8",
            "f97fcd2f1b43460ba3cc0efed5d33195",
            "7f5b01ca8c684fe58399dd06f9b24b0f",
            "0ecfa9e43d5a43dcb1a8b813d2d7537d",
            "1971148fbf6a487f92c2b80c633275df",
            "c36c5d8314454de2b7debd5fa0e48a88",
            "6b326615ba8f486cb26a4731d5ab662f",
            "a5710f364811410589a3f049a2dac65d",
            "e9a0b082bdb243a1a5aab189bde8aa57",
            "b4cc1da3f5904059aa64378fb6070309",
            "cb92702402c34c41a28b2cad6abcd20e",
            "de0cca4c98d842c5a3489752a2d19785",
            "f389ba02aaa74929b33074ab1e5c63d5",
            "d3c356bdb510465398a9dabb7827c883",
            "95d26556e411468d9b4b712de3365d7a",
            "ff6228afdb20433ca36f9703666771d8",
            "96af4e168e494f7ba6f898ae3a7cba39",
            "0ae6ba3ea1ff4f5f8bd3c493cf297667",
            "4f8b37510e7c4c928ca21ea87208240c",
            "1b90a63184e349818d1763fcdb27daf4",
            "94531ea3cd1b40c58c31c3ee48f67748",
            "a9b1600af9314c089e535a90ae752590"
          ]
        },
        "id": "8qwR5uzbT1LK",
        "outputId": "5c1df5b6-5439-4738-e7e2-becfede1b974"
      },
      "execution_count": 21,
      "outputs": [
        {
          "output_type": "display_data",
          "data": {
            "text/plain": [
              "Downloading (…)lve/main/config.json:   0%|          | 0.00/681 [00:00<?, ?B/s]"
            ],
            "application/vnd.jupyter.widget-view+json": {
              "version_major": 2,
              "version_minor": 0,
              "model_id": "875609b4175849ba8032003a96021b09"
            }
          },
          "metadata": {}
        },
        {
          "output_type": "display_data",
          "data": {
            "text/plain": [
              "Downloading (…)/main/tokenizer.json:   0%|          | 0.00/1.46M [00:00<?, ?B/s]"
            ],
            "application/vnd.jupyter.widget-view+json": {
              "version_major": 2,
              "version_minor": 0,
              "model_id": "e65d460df5ce4ad7b83986127781d9c8"
            }
          },
          "metadata": {}
        },
        {
          "output_type": "stream",
          "name": "stderr",
          "text": [
            "Special tokens have been added in the vocabulary, make sure the associated word embeddings are fine-tuned or trained.\n"
          ]
        },
        {
          "output_type": "display_data",
          "data": {
            "text/plain": [
              "Downloading pytorch_model.bin:   0%|          | 0.00/499M [00:00<?, ?B/s]"
            ],
            "application/vnd.jupyter.widget-view+json": {
              "version_major": 2,
              "version_minor": 0,
              "model_id": "de0cca4c98d842c5a3489752a2d19785"
            }
          },
          "metadata": {}
        },
        {
          "output_type": "execute_result",
          "data": {
            "text/plain": [
              "[{'generated_text': 'Este hotel no me gusta por la ubicación, pero si por su restaurante. '},\n",
              " {'generated_text': 'Este hotel no me gusta por el aspecto urbano por lo que no es de lo recomendable y los precios son muy buenos. '},\n",
              " {'generated_text': 'Este hotel no me gusta por la cantidad excesiva de personas que vienen, por lo menos por mi madre pero no por eso. '},\n",
              " {'generated_text': 'Este hotel no me gusta por el ambiente de una sola planta y de la cocina y de las habitaciones. '},\n",
              " {'generated_text': 'Este hotel no me gusta por la ubicación y por estar aislado. '}]"
            ]
          },
          "metadata": {},
          "execution_count": 21
        }
      ]
    },
    {
      "cell_type": "markdown",
      "source": [
        "Generamos nuestros 95 datos sintéticos para la clase negativa:"
      ],
      "metadata": {
        "id": "lnunU0QklzYs"
      }
    },
    {
      "cell_type": "code",
      "source": [
        "synthetic_negative_comments = []\n",
        "for _ in range(synthetic_samples_needed):\n",
        "    # Generate synthetic negative comment using the text generator model\n",
        "    outputs = generator(\"Califique mal a este hotel porque\", num_return_sequences=1)\n",
        "\n",
        "    # Add synthetic comment to the list of negative comments\n",
        "    negative_comments.append(outputs[0][\"generated_text\"])\n",
        "    synthetic_negative_comments.append(outputs[0][\"generated_text\"])"
      ],
      "metadata": {
        "id": "Hy8CF0o6Vdbe"
      },
      "execution_count": 22,
      "outputs": []
    },
    {
      "cell_type": "markdown",
      "source": [
        "Confirmamos los ratios deseados de cada clase:"
      ],
      "metadata": {
        "id": "im1N_lyil5-s"
      }
    },
    {
      "cell_type": "code",
      "source": [
        "print('Positive Ratio:', len(positive_comments)/(len(positive_comments)+len(negative_comments)))\n",
        "print('Negative Ratio:', len(negative_comments)/(len(positive_comments)+len(negative_comments)))"
      ],
      "metadata": {
        "colab": {
          "base_uri": "https://localhost:8080/"
        },
        "id": "uTVQH1hhZhXk",
        "outputId": "647765aa-96c4-49a8-8f24-2abb3020e4b2"
      },
      "execution_count": 23,
      "outputs": [
        {
          "output_type": "stream",
          "name": "stdout",
          "text": [
            "Positive Ratio: 0.6\n",
            "Negative Ratio: 0.4\n"
          ]
        }
      ]
    },
    {
      "cell_type": "markdown",
      "metadata": {
        "id": "1KLUJprgkt5a"
      },
      "source": [
        "En esta parte realizamos nuevamente un dataframe para cada lista. En el caso de los positivos, la lista es la misma que la desbalanceada. En este caso, la lista negativa ya trae los comentarios sintéticos. Se crea un dataframe con la columna del comentario y la columna del rating respectivo."
      ]
    },
    {
      "cell_type": "code",
      "execution_count": 24,
      "metadata": {
        "colab": {
          "base_uri": "https://localhost:8080/"
        },
        "id": "Ab4vZbkthtQn",
        "outputId": "cea9354e-3667-4dd2-c3d8-ce622fb57683"
      },
      "outputs": [
        {
          "output_type": "stream",
          "name": "stdout",
          "text": [
            "                                            comments  ratings\n",
            "0  Primeramente, les puedo compartir que mi espos...        1\n",
            "1  Para disfrutar de la ciudad de Monterrey, con ...        1\n",
            "2  Siempre procuro quedarme en este hotel ya sea ...        1\n",
            "3  Fue una experiencia de lujo, el staff siempre ...        1\n",
            "4  muy buen servicio. continuen así. es garantia ...        1\n",
            "                                            comments  ratings\n",
            "0  La calidad de los servicios, la variedad del m...        0\n",
            "1  El servicio no fue malo, sin embargo las habit...        0\n",
            "2  Mala experiencia, no es nada barato, de echo e...        0\n",
            "3  El hotel destaca por su diseño y comodidad. Es...        0\n",
            "4  De todos los hoteles de la misma gama q he vis...        0\n"
          ]
        }
      ],
      "source": [
        "balanced_positive_comments = positive_comments\n",
        "balanced_negative_comments = negative_comments\n",
        "\n",
        "# Create a DataFrame\n",
        "df_positive = pd.DataFrame({'comments': balanced_positive_comments, 'ratings': 1})\n",
        "\n",
        "# Create a DataFrame\n",
        "df_negative = pd.DataFrame({'comments': balanced_negative_comments, 'ratings': 0})\n",
        "\n",
        "# Print the DataFrame\n",
        "print(df_positive.head())\n",
        "print(df_negative.head())"
      ]
    },
    {
      "cell_type": "markdown",
      "source": [
        "Finalmente revisamos brevemente ambos datasets, el balanceado y el desbalanceado."
      ],
      "metadata": {
        "id": "MVeu3eqTrvSr"
      }
    },
    {
      "cell_type": "code",
      "execution_count": 25,
      "metadata": {
        "colab": {
          "base_uri": "https://localhost:8080/"
        },
        "id": "gpcIsLTCu8OE",
        "outputId": "e9761ec2-95aa-47c5-ca08-4cdfdbc66008"
      },
      "outputs": [
        {
          "output_type": "stream",
          "name": "stdout",
          "text": [
            "Dataset balanceado 320\n",
            "Dataset no balanceado 225\n"
          ]
        }
      ],
      "source": [
        "balanced_dataset = pd.concat([df_positive, df_negative], ignore_index=True)\n",
        "\n",
        "print('Dataset balanceado',len(balanced_dataset))\n",
        "print('Dataset no balanceado', len(unbalanced_dataset))"
      ]
    },
    {
      "cell_type": "markdown",
      "source": [
        "## **Pregunta 4**"
      ],
      "metadata": {
        "id": "cfz83Cw4mFir"
      }
    },
    {
      "cell_type": "markdown",
      "metadata": {
        "id": "nktvLq73sC_b"
      },
      "source": [
        "Realiza una partición de los datos en entrenamiento, validación y prueba con los porcentajes que consideres adecuados."
      ]
    },
    {
      "cell_type": "markdown",
      "metadata": {
        "id": "pQiWaJT2kt5b"
      },
      "source": [
        "En esta parte hacemos la partición para el dataset balanceado."
      ]
    },
    {
      "cell_type": "code",
      "execution_count": 26,
      "metadata": {
        "colab": {
          "base_uri": "https://localhost:8080/"
        },
        "id": "ZW54g8jihtQn",
        "outputId": "843dcc93-f39c-4be7-9a6f-6bbd0b40c0f3"
      },
      "outputs": [
        {
          "output_type": "stream",
          "name": "stdout",
          "text": [
            "Training set size: 223\n",
            "Validation set size: 48\n",
            "Test set size: 49\n"
          ]
        }
      ],
      "source": [
        "from sklearn.model_selection import train_test_split\n",
        "\n",
        "# Split the balanced dataset into training, validation, and test sets\n",
        "train_ratio1 = 0.7  # Percentage of data for training\n",
        "val_ratio1 = 0.15  # Percentage of data for validation\n",
        "test_ratio1 = 0.15  # Percentage of data for testing\n",
        "\n",
        "# Split the data\n",
        "train_data1, remaining_data1 = train_test_split(balanced_dataset, test_size=(1 - train_ratio1), random_state=42)\n",
        "val_data1, test_data1 = train_test_split(remaining_data1, test_size=test_ratio1/(test_ratio1 + val_ratio1), random_state=42)\n",
        "\n",
        "# Print the sizes of the partitions\n",
        "print(\"Training set size:\", len(train_data1))\n",
        "print(\"Validation set size:\", len(val_data1))\n",
        "print(\"Test set size:\", len(test_data1))\n"
      ]
    },
    {
      "cell_type": "markdown",
      "metadata": {
        "id": "erYKBFSQkt5b"
      },
      "source": [
        "En esta parte hacemos la partición para el dataset desbalanceado."
      ]
    },
    {
      "cell_type": "code",
      "execution_count": 27,
      "metadata": {
        "colab": {
          "base_uri": "https://localhost:8080/"
        },
        "id": "Iiog6ID8yOmY",
        "outputId": "4bc88b2c-503e-4bc3-cb06-e8f7ee0ce6af"
      },
      "outputs": [
        {
          "output_type": "stream",
          "name": "stdout",
          "text": [
            "Training set size: 191\n",
            "Test set size: 34\n"
          ]
        }
      ],
      "source": [
        "# Split the balanced dataset into training, validation, and test sets\n",
        "train_ratio2 = 0.7  # Percentage of data for training\n",
        "val_ratio2 = 0.15  # Percentage of data for validation\n",
        "test_ratio2 = 0.15  # Percentage of data for testing\n",
        "\n",
        "# Split the data\n",
        "train_data2, test_data2 = train_test_split(unbalanced_dataset, test_size=test_ratio2, random_state=42)\n",
        "#val_data2, test_data2 = train_test_split(remaining_data2, test_size=test_ratio2/(test_ratio2 + val_ratio2), random_state=42)\n",
        "\n",
        "# Print the sizes of the partitions\n",
        "print(\"Training set size:\", len(train_data2))\n",
        "print(\"Test set size:\", len(test_data2))"
      ]
    },
    {
      "cell_type": "markdown",
      "source": [
        "## **Pregunta 5**"
      ],
      "metadata": {
        "id": "XqfuLbWtmMnj"
      }
    },
    {
      "cell_type": "markdown",
      "metadata": {
        "id": "T_YyHezZxK34"
      },
      "source": [
        "Mediante un Transformer que consideres adecuado para idioma español de la plataforma HuggingFace, aplica un modelo de clasificación binaria (análisis de sentimiento) para los datos originales, es decir, sin incluir los comentarios sintéticos. ¿Qué desempeño obtienes? NOTA: Justifica el procedimiento utilizado. Es decir, podrías utilizar un modelo Transformer de manera directa (out-of-box), en cuyo caso la evaluación la haces de manera directa sobre el conjunto entrenamiento+validación. O bien, usar un modelo Transformer con fine-tuning en cuyo caso entrenas con el conjunto de entrenamiento y validas con el de prueba.\n",
        "En cuanto al Transformer a utilizar, está “PlanTL-GOB-ES/gpt2-large-bne” de la versión de MarIA, pero puedes utilizar algún otro si lo consideras adecuado."
      ]
    },
    {
      "cell_type": "code",
      "source": [
        "#!pip install xformers"
      ],
      "metadata": {
        "id": "VsmJSOtRSnAp"
      },
      "execution_count": null,
      "outputs": []
    },
    {
      "cell_type": "markdown",
      "source": [
        "Utilizamos el modelo 'distilbert-base-multilingual-cased':"
      ],
      "metadata": {
        "id": "A4PgWDd5mXSb"
      }
    },
    {
      "cell_type": "code",
      "execution_count": 28,
      "metadata": {
        "colab": {
          "base_uri": "https://localhost:8080/",
          "height": 252,
          "referenced_widgets": [
            "7202c831f430484a9722fc9992830ba4",
            "227ab3c2db794a249162191189254621",
            "4eb9dcd909c44ccd8a566225dca0e00a",
            "11a51082b44a4e4aab141d656e5b542b",
            "1aeef00f5eff4e6c9727fd701aee0eb1",
            "fef14fea7592437d8de809fe8148049f",
            "a7c1605d92f4479fa2dcf72b51f24fbe",
            "249d331511904eb9ad726947e3f6ba95",
            "6224f49878db4d8e8dc8fe752dc6153f",
            "750ada43b9bc4c849f2670c8137ab572",
            "36bf43db883f4fa9af73e309641dd273",
            "4fb8b36ce9ba4c9097c2d75397540f37",
            "a0d9b917c3444cfdb9d64786512d64b3",
            "ed3c05d247804612b032b947330f2a6f",
            "33962d5924a74145995d43573ad08bf2",
            "0ee9e8dc4ca849aa8ee432ab4a64a82a",
            "f2ecfdf02e644784ae47d46daa7b4de9",
            "fdbd45e746294335a0aa11d72c8bb010",
            "6f6b55a8f13340319a849a42910e18f2",
            "f6c6001b7685463f948ffd7990e75247",
            "af1c25b89a9049f38d0a6f64102a32d1",
            "d10d5f0297284061946e59e8c917f296",
            "3e2998412a184244a9ecd8b21be8e6db",
            "9b8459c238b1495ca1803391d5d93a18",
            "9e7a7eb5c2c343519ca7396e9c184760",
            "42f215e07b574907af846a4c5eecf767",
            "bc4fb439663e4f2b984e53fe36091485",
            "e21fcb866d624dceb984afa186b2a897",
            "fa630f2a8ced4f9796c9aca5c1c1a6fc",
            "0ec457d292a54b39b05f6a45b173ef0e",
            "778d0e7f0260477db760192ce597c900",
            "d8f08f6356934b9eb2408047079b9389",
            "dfe2b35cb2de4dcbb2b72c4b4694f2e0",
            "2d7287c8ac6549408e6d59d97e0df430",
            "c142765677db4399b70070c815778142",
            "da45acd523e64e1da913fea2ae551700",
            "fde7f3292257459fa9d421720d714273",
            "cf5fa2ffcd9b45d0b9922c1ae3c14e7a",
            "063dc703c3634014825c4e964de1631d",
            "50a2e9b856024f96831e80f078c3097f",
            "05b36f0dcbe344309cefeae8a854f9c7",
            "abb637a12f684b3bbad77e5392b3525c",
            "a4becc66adf1402c97ece6f8ca2a795d",
            "a7b9cd83a586465b917d76070aa601ad"
          ]
        },
        "id": "QKE9mP0NxNWC",
        "outputId": "abfe2d95-d150-4d3a-a7ab-b7614afff11d"
      },
      "outputs": [
        {
          "output_type": "display_data",
          "data": {
            "text/plain": [
              "Downloading (…)solve/main/vocab.txt:   0%|          | 0.00/996k [00:00<?, ?B/s]"
            ],
            "application/vnd.jupyter.widget-view+json": {
              "version_major": 2,
              "version_minor": 0,
              "model_id": "7202c831f430484a9722fc9992830ba4"
            }
          },
          "metadata": {}
        },
        {
          "output_type": "display_data",
          "data": {
            "text/plain": [
              "Downloading (…)okenizer_config.json:   0%|          | 0.00/29.0 [00:00<?, ?B/s]"
            ],
            "application/vnd.jupyter.widget-view+json": {
              "version_major": 2,
              "version_minor": 0,
              "model_id": "4fb8b36ce9ba4c9097c2d75397540f37"
            }
          },
          "metadata": {}
        },
        {
          "output_type": "display_data",
          "data": {
            "text/plain": [
              "Downloading (…)lve/main/config.json:   0%|          | 0.00/466 [00:00<?, ?B/s]"
            ],
            "application/vnd.jupyter.widget-view+json": {
              "version_major": 2,
              "version_minor": 0,
              "model_id": "3e2998412a184244a9ecd8b21be8e6db"
            }
          },
          "metadata": {}
        },
        {
          "output_type": "display_data",
          "data": {
            "text/plain": [
              "Downloading model.safetensors:   0%|          | 0.00/542M [00:00<?, ?B/s]"
            ],
            "application/vnd.jupyter.widget-view+json": {
              "version_major": 2,
              "version_minor": 0,
              "model_id": "2d7287c8ac6549408e6d59d97e0df430"
            }
          },
          "metadata": {}
        },
        {
          "output_type": "stream",
          "name": "stderr",
          "text": [
            "Some weights of the PyTorch model were not used when initializing the TF 2.0 model TFDistilBertForSequenceClassification: ['vocab_layer_norm.bias', 'vocab_layer_norm.weight', 'vocab_transform.weight', 'vocab_projector.bias', 'vocab_transform.bias']\n",
            "- This IS expected if you are initializing TFDistilBertForSequenceClassification from a PyTorch model trained on another task or with another architecture (e.g. initializing a TFBertForSequenceClassification model from a BertForPreTraining model).\n",
            "- This IS NOT expected if you are initializing TFDistilBertForSequenceClassification from a PyTorch model that you expect to be exactly identical (e.g. initializing a TFBertForSequenceClassification model from a BertForSequenceClassification model).\n",
            "Some weights or buffers of the TF 2.0 model TFDistilBertForSequenceClassification were not initialized from the PyTorch model and are newly initialized: ['pre_classifier.weight', 'pre_classifier.bias', 'classifier.weight', 'classifier.bias']\n",
            "You should probably TRAIN this model on a down-stream task to be able to use it for predictions and inference.\n"
          ]
        }
      ],
      "source": [
        "from transformers import DistilBertTokenizer, TFDistilBertForSequenceClassification\n",
        "import tensorflow as tf\n",
        "\n",
        "# Load the tokenizer and model\n",
        "tokenizer = DistilBertTokenizer.from_pretrained('distilbert-base-multilingual-cased')\n",
        "model = TFDistilBertForSequenceClassification.from_pretrained('distilbert-base-multilingual-cased')\n",
        "\n",
        "texts = train_data2['comments'].tolist()  # Convert to list of strings\n",
        "\n",
        "# Encode the text data\n",
        "encoded_inputs = tokenizer(texts, padding=True, truncation=True, return_tensors='tf')\n",
        "\n",
        "# Make predictions\n",
        "outputs = model(encoded_inputs.input_ids, attention_mask=encoded_inputs.attention_mask)\n",
        "predicted_labels = tf.argmax(outputs.logits, axis=1).numpy()\n",
        "\n",
        "# Map predicted labels back to sentiment classes (positive/negative)\n",
        "sentiment_labels = ['0', '1']\n",
        "predicted_sentiments = [sentiment_labels[label] for label in predicted_labels]"
      ]
    },
    {
      "cell_type": "markdown",
      "source": [
        "En este parte del código transformamos en entero las predicciones y de esta forma comparamos los resultados en términos de accuracy contra los ratings actuales:"
      ],
      "metadata": {
        "id": "BFZw2dqw4k3v"
      }
    },
    {
      "cell_type": "code",
      "source": [
        "predicted_sentiments2 = [int(label) for label in predicted_sentiments]\n",
        "actual_labels = train_data2['ratings'].tolist()\n",
        "\n",
        "# Compare predicted labels with actual labels\n",
        "correct_predictions = sum(1 for pred, actual in zip(predicted_sentiments2, actual_labels) if pred == actual)\n",
        "total_predictions = len(actual_labels)\n",
        "\n",
        "accuracy = correct_predictions / total_predictions\n",
        "print(\"Accuracy: {:.2%}\".format(accuracy))"
      ],
      "metadata": {
        "colab": {
          "base_uri": "https://localhost:8080/"
        },
        "id": "oM4R6-in4h5z",
        "outputId": "d58ce0ea-a151-4764-a6c4-63502e7bdf6d"
      },
      "execution_count": 29,
      "outputs": [
        {
          "output_type": "stream",
          "name": "stdout",
          "text": [
            "Accuracy: 83.25%\n"
          ]
        }
      ]
    },
    {
      "cell_type": "markdown",
      "source": [
        "Graficamos su distribución de clases para sus predicciones:"
      ],
      "metadata": {
        "id": "o8OX7um8mgcc"
      }
    },
    {
      "cell_type": "code",
      "execution_count": 30,
      "metadata": {
        "colab": {
          "base_uri": "https://localhost:8080/",
          "height": 507
        },
        "id": "EKCrcqL635aW",
        "outputId": "02e5be5d-8da9-416f-ad2f-367872c78b6b"
      },
      "outputs": [
        {
          "output_type": "display_data",
          "data": {
            "text/plain": [
              "<Figure size 640x480 with 1 Axes>"
            ],
            "image/png": "[encoded data removed]"
          },
          "metadata": {}
        },
        {
          "output_type": "stream",
          "name": "stdout",
          "text": [
            "Valoracion Positive: 186 occurrences\n",
            "Valoracion Negative: 5 occurrences\n"
          ]
        }
      ],
      "source": [
        "# Frequency analysis for \"valoracion\"\n",
        "valoracion_counts = {'Positive': 0, 'Negative': 0}\n",
        "\n",
        "# Count the occurrences of 'Positive' and 'Negative' in \"predicted_sentiments\"\n",
        "for value in predicted_sentiments:\n",
        "    if value == '1':\n",
        "        valoracion_counts['Positive'] += 1\n",
        "    elif value == '0':\n",
        "        valoracion_counts['Negative'] += 1\n",
        "\n",
        "# Plotting the graph\n",
        "plt.bar(valoracion_counts.keys(), valoracion_counts.values())\n",
        "plt.xlabel('Valoracion')\n",
        "plt.ylabel('Frequency')\n",
        "plt.title('Frequency Analysis - Valoracion')\n",
        "plt.show()\n",
        "\n",
        "# Frequency in text\n",
        "for value, count in valoracion_counts.items():\n",
        "    print(f\"Valoracion {value}: {count} occurrences\")"
      ]
    },
    {
      "cell_type": "markdown",
      "source": [
        "Comparando con el inciso B de la pregunta 2, el modelo predice mayoritariamente hacia la clase positiva."
      ],
      "metadata": {
        "id": "paTruQurq4ib"
      }
    },
    {
      "cell_type": "markdown",
      "source": [
        "Probamos ahora con los datos de prueba para confirmar:"
      ],
      "metadata": {
        "id": "r-U6z724AgNx"
      }
    },
    {
      "cell_type": "code",
      "source": [
        "texts = test_data2['comments'].tolist()  # Convert to list of strings\n",
        "\n",
        "# Encode the text data\n",
        "encoded_inputs = tokenizer(texts, padding=True, truncation=True, return_tensors='tf')\n",
        "\n",
        "# Make predictions\n",
        "outputs = model(encoded_inputs.input_ids, attention_mask=encoded_inputs.attention_mask)\n",
        "predicted_labels = tf.argmax(outputs.logits, axis=1).numpy()\n",
        "\n",
        "# Map predicted labels back to sentiment classes (positive/negative)\n",
        "sentiment_labels = ['0', '1']\n",
        "predicted_sentiments = [sentiment_labels[label] for label in predicted_labels]"
      ],
      "metadata": {
        "id": "tKKNblOk_nBs"
      },
      "execution_count": 31,
      "outputs": []
    },
    {
      "cell_type": "markdown",
      "source": [
        "Generamos predicciones y obtenemos accuracy:"
      ],
      "metadata": {
        "id": "3itQznrQAl7o"
      }
    },
    {
      "cell_type": "code",
      "source": [
        "predicted_sentiments2 = [int(label) for label in predicted_sentiments]\n",
        "actual_labels = test_data2['ratings'].tolist()\n",
        "\n",
        "# Compare predicted labels with actual labels\n",
        "correct_predictions = sum(1 for pred, actual in zip(predicted_sentiments2, actual_labels) if pred == actual)\n",
        "total_predictions = len(actual_labels)\n",
        "\n",
        "accuracy = correct_predictions / total_predictions\n",
        "print(\"Accuracy: {:.2%}\".format(accuracy))"
      ],
      "metadata": {
        "colab": {
          "base_uri": "https://localhost:8080/"
        },
        "id": "C7v5Up-0_rRx",
        "outputId": "c615a1d5-f8e2-47e1-ef0e-202aa9ded96e"
      },
      "execution_count": 32,
      "outputs": [
        {
          "output_type": "stream",
          "name": "stdout",
          "text": [
            "Accuracy: 82.35%\n"
          ]
        }
      ]
    },
    {
      "cell_type": "markdown",
      "source": [
        "Visualizamos distribucion de clases en predicciones:"
      ],
      "metadata": {
        "id": "ntRWMskqApjY"
      }
    },
    {
      "cell_type": "code",
      "source": [
        "# Frequency analysis for \"valoracion\"\n",
        "valoracion_counts = {'Positive': 0, 'Negative': 0}\n",
        "\n",
        "# Count the occurrences of 'Positive' and 'Negative' in \"predicted_sentiments\"\n",
        "for value in predicted_sentiments:\n",
        "    if value == '1':\n",
        "        valoracion_counts['Positive'] += 1\n",
        "    elif value == '0':\n",
        "        valoracion_counts['Negative'] += 1\n",
        "\n",
        "# Plotting the graph\n",
        "plt.bar(valoracion_counts.keys(), valoracion_counts.values())\n",
        "plt.xlabel('Valoracion')\n",
        "plt.ylabel('Frequency')\n",
        "plt.title('Frequency Analysis - Valoracion')\n",
        "plt.show()\n",
        "\n",
        "# Frequency in text\n",
        "for value, count in valoracion_counts.items():\n",
        "    print(f\"Valoracion {value}: {count} occurrences\")"
      ],
      "metadata": {
        "colab": {
          "base_uri": "https://localhost:8080/",
          "height": 507
        },
        "id": "ohp3pclQ_tVK",
        "outputId": "3c488528-d12d-42b0-c8f0-a3c6800d3f5f"
      },
      "execution_count": 33,
      "outputs": [
        {
          "output_type": "display_data",
          "data": {
            "text/plain": [
              "<Figure size 640x480 with 1 Axes>"
            ],
            "image/png": "[encoded data removed]"
          },
          "metadata": {}
        },
        {
          "output_type": "stream",
          "name": "stdout",
          "text": [
            "Valoracion Positive: 34 occurrences\n",
            "Valoracion Negative: 0 occurrences\n"
          ]
        }
      ]
    },
    {
      "cell_type": "markdown",
      "source": [
        "Con lo que confirmamos que el modelo, aunque no está sobreentrenado, tiende a predecir para la clase positiva. Cuando si observamos los valores reales:"
      ],
      "metadata": {
        "id": "cSwjFniHAuaA"
      }
    },
    {
      "cell_type": "code",
      "source": [
        "print('Datos de entrenamiento:')\n",
        "print(pd.Series(train_data2['ratings'].tolist()).value_counts(),'\\n')\n",
        "print('Datos de prueba:')\n",
        "print(pd.Series(test_data2['ratings'].tolist()).value_counts())"
      ],
      "metadata": {
        "colab": {
          "base_uri": "https://localhost:8080/"
        },
        "id": "mGBdvwvIBAsR",
        "outputId": "1f9e17d4-f601-403f-c855-9ed01fb7b0c1"
      },
      "execution_count": 34,
      "outputs": [
        {
          "output_type": "stream",
          "name": "stdout",
          "text": [
            "Datos de entrenamiento:\n",
            "1    164\n",
            "0     27\n",
            "dtype: int64 \n",
            "\n",
            "Datos de prueba:\n",
            "1    28\n",
            "0     6\n",
            "dtype: int64\n"
          ]
        }
      ]
    },
    {
      "cell_type": "markdown",
      "source": [
        "Observamos que las clases aunque no balanceadas, no son en su totalidad 1."
      ],
      "metadata": {
        "id": "nOGWPFZ2BVDf"
      }
    },
    {
      "cell_type": "markdown",
      "source": [
        "## **Pregunta 6**"
      ],
      "metadata": {
        "id": "40vgpYSDmm-c"
      }
    },
    {
      "cell_type": "markdown",
      "metadata": {
        "id": "i6ZW5RPm478-"
      },
      "source": [
        "Ahora realiza el entrenamiento y evaluación de los conjuntos aumentados (reales más sintéticos). En este caso sí aplica un modelo con fine-tuning. ¿Por qué en este caso no se justificaría utilizar la técnica out-of-box para entrenar y evaluar directamente los datos con los comentarios sintéticos?\n"
      ]
    },
    {
      "cell_type": "markdown",
      "source": [
        "**R:** Los datos sintéticos se utilizan para entrenar con datos balanceados al modelo. Sin embargo, todos nuestros datos sintéticos parten del mismo texto de \"Califique mal a este hotel porque\". Por lo que es muy probable que el modelo out-of-box no se prediga bien teniendo en considerable parte de los datos, los datos sintéticos que son muy similares. Su accuracy va a disminuir si no se aplica fine-tuning. En un modelo de fine-tuning es que este proceso está diseñado para aprovechar y adaptar modelos de aprendizaje automático existentes, como modelos pre-entrenados, a tareas y conjuntos de datos específicos. El objetivo del fine-tuning es ajustar y especializar el modelo ya entrenado en una tarea específica, en lugar de introducir técnicas novedosas durante ese proceso.\n",
        "\n",
        "El fine-tuning se basa en la transferencia de conocimiento aprendido previamente por un modelo pre-entrenado en una gran cantidad de datos. Esto se logra ajustando los pesos y parámetros del modelo pre-entrenado utilizando datos más específicos o de dominio objetivo. Al hacer esto, el modelo pre-entrenado se adapta a la tarea particular para la cual se está realizando el fine-tuning, mejorando su rendimiento y eficacia.\n",
        "\n",
        "Introducir técnicas \"out-of-the-box\" durante el fine-tuning podría complicar el proceso y dificultar la transferencia de conocimientos. Además, las técnicas \"out-of-the-box\" suelen requerir configuraciones y ajustes específicos, y podrían no ser compatibles directamente con el modelo pre-entrenado o la tarea de fine-tuning en cuestión."
      ],
      "metadata": {
        "id": "4SQzFWzmnlrc"
      }
    },
    {
      "cell_type": "markdown",
      "source": [
        "Aplicamos fine-tuning:"
      ],
      "metadata": {
        "id": "aYQ-hbX6rK0s"
      }
    },
    {
      "cell_type": "code",
      "execution_count": 35,
      "metadata": {
        "colab": {
          "base_uri": "https://localhost:8080/"
        },
        "id": "RiWNkgqA49CK",
        "outputId": "a23c6052-de97-4e39-c00e-9901263e82cb"
      },
      "outputs": [
        {
          "output_type": "stream",
          "name": "stderr",
          "text": [
            "Some weights of the PyTorch model were not used when initializing the TF 2.0 model TFDistilBertForSequenceClassification: ['vocab_layer_norm.bias', 'vocab_layer_norm.weight', 'vocab_transform.weight', 'vocab_projector.bias', 'vocab_transform.bias']\n",
            "- This IS expected if you are initializing TFDistilBertForSequenceClassification from a PyTorch model trained on another task or with another architecture (e.g. initializing a TFBertForSequenceClassification model from a BertForPreTraining model).\n",
            "- This IS NOT expected if you are initializing TFDistilBertForSequenceClassification from a PyTorch model that you expect to be exactly identical (e.g. initializing a TFBertForSequenceClassification model from a BertForSequenceClassification model).\n",
            "Some weights or buffers of the TF 2.0 model TFDistilBertForSequenceClassification were not initialized from the PyTorch model and are newly initialized: ['pre_classifier.weight', 'pre_classifier.bias', 'classifier.weight', 'classifier.bias']\n",
            "You should probably TRAIN this model on a down-stream task to be able to use it for predictions and inference.\n"
          ]
        },
        {
          "output_type": "stream",
          "name": "stdout",
          "text": [
            "Epoch 1/5\n",
            "14/14 [==============================] - 36s 613ms/step - loss: 0.6561 - accuracy: 0.6188 - val_loss: 0.5973 - val_accuracy: 0.8125\n",
            "Epoch 2/5\n",
            "14/14 [==============================] - 6s 421ms/step - loss: 0.4983 - accuracy: 0.8834 - val_loss: 0.3947 - val_accuracy: 0.8542\n",
            "Epoch 3/5\n",
            "14/14 [==============================] - 6s 438ms/step - loss: 0.3115 - accuracy: 0.9148 - val_loss: 0.2940 - val_accuracy: 0.8542\n",
            "Epoch 4/5\n",
            "14/14 [==============================] - 6s 459ms/step - loss: 0.2165 - accuracy: 0.9148 - val_loss: 0.2505 - val_accuracy: 0.8750\n",
            "Epoch 5/5\n",
            "14/14 [==============================] - 6s 454ms/step - loss: 0.1502 - accuracy: 0.9462 - val_loss: 0.2190 - val_accuracy: 0.8750\n",
            "4/4 [==============================] - 2s 89ms/step - loss: 0.2735 - accuracy: 0.8980\n",
            "Test Loss: 0.2735294699668884, Test Accuracy: 0.8979591727256775\n"
          ]
        }
      ],
      "source": [
        "from sklearn.model_selection import train_test_split\n",
        "from transformers import DistilBertTokenizer, TFDistilBertForSequenceClassification\n",
        "import tensorflow as tf\n",
        "\n",
        "# Set batch size, learning rate, and number of epochs\n",
        "batch_size = 16\n",
        "learning_rate = 1e-5\n",
        "num_epochs = 5\n",
        "\n",
        "# Load the tokenizer and model\n",
        "tokenizer = DistilBertTokenizer.from_pretrained('distilbert-base-multilingual-cased')\n",
        "model2 = TFDistilBertForSequenceClassification.from_pretrained('distilbert-base-multilingual-cased', num_labels=2)\n",
        "\n",
        "# Encode the text data\n",
        "train_encodings = tokenizer(train_data1['comments'].tolist(), truncation=True, padding=True)\n",
        "val_encodings = tokenizer(val_data1['comments'].tolist(), truncation=True, padding=True)\n",
        "test_encodings = tokenizer(test_data1['comments'].tolist(), truncation=True, padding=True)\n",
        "\n",
        "# Convert the labels to TensorFlow tensors\n",
        "train_labels = tf.convert_to_tensor(train_data1['ratings'].tolist())\n",
        "val_labels = tf.convert_to_tensor(val_data1['ratings'].tolist())\n",
        "test_labels = tf.convert_to_tensor(test_data1['ratings'].tolist())\n",
        "\n",
        "# Create TensorFlow datasets\n",
        "train_dataset = tf.data.Dataset.from_tensor_slices((dict(train_encodings), train_labels)).shuffle(len(train_data1['comments'])).batch(batch_size)\n",
        "val_dataset = tf.data.Dataset.from_tensor_slices((dict(val_encodings), val_labels)).batch(batch_size)\n",
        "test_dataset = tf.data.Dataset.from_tensor_slices((dict(test_encodings), test_labels)).batch(batch_size)\n",
        "\n",
        "# Fine-tune the model\n",
        "optimizer = tf.keras.optimizers.Adam(learning_rate=learning_rate)\n",
        "loss = tf.keras.losses.SparseCategoricalCrossentropy(from_logits=True)\n",
        "model2.compile(optimizer=optimizer, loss=loss, metrics=['accuracy'])\n",
        "model2.fit(train_dataset, validation_data=val_dataset, epochs=num_epochs)\n",
        "\n",
        "# Evaluate the model on the test set\n",
        "test_loss2, test_accuracy2 = model2.evaluate(test_dataset)\n",
        "print(f\"Test Loss: {test_loss2}, Test Accuracy: {test_accuracy2}\")"
      ]
    },
    {
      "cell_type": "markdown",
      "source": [
        "Y observamos que en accuracy para validación obtuvimos un 89.80%, mientras que para prueba un 89.79%. Lo que nos dice que nuestro modelo no está sobreentrenado."
      ],
      "metadata": {
        "id": "oJ3menfSDqhO"
      }
    },
    {
      "cell_type": "markdown",
      "source": [
        "Generamos predicciones para ver distribución de clases, y confirmamos el accuracy en prueba:"
      ],
      "metadata": {
        "id": "HOsaDoTErVbU"
      }
    },
    {
      "cell_type": "code",
      "source": [
        "# Predictions for test data\n",
        "outputs_test = model2.predict(test_dataset)\n",
        "predictions2_test = tf.argmax(outputs_test.logits, axis=1).numpy().tolist()\n",
        "\n",
        "# Actual values from test data\n",
        "actual_labels = test_labels.numpy().tolist()\n",
        "\n",
        "# Compare predicted labels with actual labels\n",
        "correct_predictions = sum(1 for pred, actual in zip(predictions2_test, actual_labels) if pred == actual)\n",
        "total_predictions = len(actual_labels)\n",
        "\n",
        "# Confirmation of test accuracy\n",
        "accuracy = correct_predictions / total_predictions\n",
        "print(\"Accuracy: {:.2%}\".format(accuracy))"
      ],
      "metadata": {
        "colab": {
          "base_uri": "https://localhost:8080/"
        },
        "id": "32k7dwTQiKe0",
        "outputId": "a75c7ccd-bff8-4a66-8abb-68f57d80165c"
      },
      "execution_count": 36,
      "outputs": [
        {
          "output_type": "stream",
          "name": "stdout",
          "text": [
            "4/4 [==============================] - 3s 103ms/step\n",
            "Accuracy: 89.80%\n"
          ]
        }
      ]
    },
    {
      "cell_type": "markdown",
      "source": [
        "Observamos la distribución de clases:"
      ],
      "metadata": {
        "id": "nMdBJtvOrU9z"
      }
    },
    {
      "cell_type": "code",
      "source": [
        "# Frequency analysis for \"valoracion\"\n",
        "valoracion_counts = {'Positive': 0, 'Negative': 0}\n",
        "\n",
        "# Count the occurrences of 'Positive' and 'Negative' in \"predicted_sentiments\"\n",
        "for value in predictions2_test:\n",
        "    if value == 1:\n",
        "        valoracion_counts['Positive'] += 1\n",
        "    elif value == 0:\n",
        "        valoracion_counts['Negative'] += 1\n",
        "\n",
        "# Plotting the graph\n",
        "plt.bar(valoracion_counts.keys(), valoracion_counts.values())\n",
        "plt.xlabel('Valoracion')\n",
        "plt.ylabel('Frequency')\n",
        "plt.title('Frequency Analysis - Valoracion')\n",
        "plt.show()\n",
        "\n",
        "# Frequency in text\n",
        "for value, count in valoracion_counts.items():\n",
        "    print(f\"Valoracion {value}: {count} occurrences\")"
      ],
      "metadata": {
        "colab": {
          "base_uri": "https://localhost:8080/",
          "height": 507
        },
        "id": "YPNoP8NEilk9",
        "outputId": "d4ca6f0c-a28e-4fa6-a919-c148839bd789"
      },
      "execution_count": 37,
      "outputs": [
        {
          "output_type": "display_data",
          "data": {
            "text/plain": [
              "<Figure size 640x480 with 1 Axes>"
            ],
            "image/png": "[encoded data removed]"
          },
          "metadata": {}
        },
        {
          "output_type": "stream",
          "name": "stdout",
          "text": [
            "Valoracion Positive: 38 occurrences\n",
            "Valoracion Negative: 11 occurrences\n"
          ]
        }
      ]
    },
    {
      "cell_type": "markdown",
      "source": [
        "## **Pregunta 7**"
      ],
      "metadata": {
        "id": "0UgI-pnqtv1c"
      }
    },
    {
      "cell_type": "markdown",
      "metadata": {
        "id": "lnjWeFpw6lNg"
      },
      "source": [
        "Compara los resultados e incluye tus comentarios. En particular, indica si consideras que los comentarios sintéticos fueron de ayuda en este caso."
      ]
    },
    {
      "cell_type": "markdown",
      "source": [
        "**R:** Se decidió aplicar el modelo 'distilbert-base-multilingual-cased' para la pregunta 5 y 6. En la 5 se aplicó el modelo sin fine-tuning y se obtuvo un accuracy de 83.25% en datos de entrenamiento, y 82.35% en prueba. Lo que nos dice que el modelo no está sobreentrenado. Sin embargo, al ver la distribución de clases de las predicciones, es claro que tiende a predecir hacia la clase positiva.\n",
        "\n",
        "\n",
        "Aplicando los datos sintéticos y fine-tunning en la pregunta 6, se obtuvo un accuracy en validación del 89.80% y 89.79% en prueba. Lo que nos dice que el modelo no está sobreentrenado. Además, observando la distribución de clases para datos de prueba, se observan 36 valores de la clase positiva, y 13 de la negativa. Y si observamos la distribución real de clases de los datos de prueba:"
      ],
      "metadata": {
        "id": "ykFTdaE3rln7"
      }
    },
    {
      "cell_type": "code",
      "source": [
        "pd.Series(test_labels.numpy().tolist()).value_counts()"
      ],
      "metadata": {
        "colab": {
          "base_uri": "https://localhost:8080/"
        },
        "id": "cnRs2czFtMOk",
        "outputId": "b8ff1e23-1fa7-40e9-ed04-8d8f34abedeb"
      },
      "execution_count": 38,
      "outputs": [
        {
          "output_type": "execute_result",
          "data": {
            "text/plain": [
              "1    33\n",
              "0    16\n",
              "dtype: int64"
            ]
          },
          "metadata": {},
          "execution_count": 38
        }
      ]
    },
    {
      "cell_type": "markdown",
      "source": [
        "Podemos observar que, aunque no fue un accuracy del 100%, la distribución de clases sigue siendo similar. Lo cual nos dice que no tiende a predecir a la clase mayoritaria. Por lo que se concluye que aplicar comentarios sintéticos fueron de gran ayuda para balancear clases, y obtener un modelo con mejores resultados."
      ],
      "metadata": {
        "id": "MRlJ8W75tNXk"
      }
    },
    {
      "cell_type": "markdown",
      "source": [
        "### **Conclusiones**\n",
        "\n",
        "En conclusión, los nuevos modelos de lenguaje, como GPT, representan un avance significativo en la generación de texto automático. Estos modelos ofrecen una amplia gama de aplicaciones que pueden mejorar la eficiencia y la precisión en el procesamiento de lenguaje natural. Al utilizar herramientas como GPT dentro de nuestras prácticas, hemos presenciado un enriquecimiento notable en nuestro panorama general de los modelos de procesamiento de lenguaje natural.\n",
        "\n",
        "Uno de los aspectos más destacados de GPT-2 es su capacidad para generar comentarios que se ajustan de manera impresionante al contexto que buscamos. Esta capacidad ad hoc ha demostrado ser beneficiosa para mejorar la precisión y los resultados finales de nuestro modelo. Al contar con una generación de texto más precisa y coherente, hemos obtenido un mayor nivel de exactitud en nuestras tareas de clasificación y procesamiento de texto.\n",
        "\n",
        "Es fascinante cómo la combinación de diferentes técnicas, como el entrenamiento pre-entrenado y el fine-tuning, ha contribuido al desarrollo de modelos de IA más poderosos. Estas técnicas han permitido aprovechar el conocimiento y la experiencia previa del modelo pre-entrenado, y adaptarlo a tareas específicas para lograr resultados sobresalientes. El hecho de poder conjuntar todas estas técnicas demuestra el gran potencial que tienen los modelos de IA en la actualidad.\n",
        "\n",
        "A medida que continuamos avanzando en el campo de la IA y los modelos de lenguaje, es emocionante pensar en las posibilidades futuras. Con el rápido progreso y la continua investigación en esta área, podemos esperar que los modelos de lenguaje evolucionen aún más, brindando aplicaciones aún más poderosas y precisas. Estamos presenciando un cambio significativo en cómo interactuamos con el lenguaje y cómo los sistemas automáticos pueden comprender y generar texto de manera cada vez más sofisticada.\n",
        "\n",
        "En resumen, los modelos de clasificación basados en BERT, junto con otros modelos de lenguaje como GPT-2, están revolucionando la forma en que interactuamos con el procesamiento de lenguaje natural. Estos avances nos abren nuevas oportunidades en campos como la generación de texto automático, la traducción, la clasificación de texto y muchas otras aplicaciones. A medida que sigamos explorando y refinando estos modelos, podemos esperar que continúen sorprendiéndonos con su capacidad para comprender y generar lenguaje de manera cada vez más precisa y relevante."
      ],
      "metadata": {
        "id": "_ZX6XZr166Da"
      }
    },
    {
      "cell_type": "markdown",
      "source": [
        "## **Referencias:**"
      ],
      "metadata": {
        "id": "_3qDF3l7t3ML"
      }
    },
    {
      "cell_type": "markdown",
      "source": [
        "* Falcón Morales, L. E. (2023). Ejercicios Complementarios Web Scraping Tripadvisor semana 10 . Maestría en Inteligencia Artificial Aplicada. ITESM.\n",
        "* Falcón Morales, L. E. (2023). Video 1/3 : Modelo Transformer BERT: [VIDEO]. Maestría en Inteligencia Artificial Aplicada. ITESM.\n",
        "\n",
        "* Falcón Morales, L. E. (2023). Video 2/3 : Métricas y bases de datos en NLP: [VIDEO]. Maestría en Inteligencia Artificial Aplicada. ITESM.\n",
        "\n",
        "* Falcón Morales, L. E. (2023). Video 3/3 : Ejemplos en JupyterNotebook: [VIDEO]. Maestría en Inteligencia Artificial Aplicada. ITESM.\n",
        "* Gutiérrez, A., Armengol, J., Pàmies, M., Llop, J., Silveira, J., Pio, C., . . . Villegas, M. (2022). GPT2-base (gpt2-base-bne) trained with data from the National Library of Spain (BNE). Obtenido de Hugging Face: https://huggingface.co/PlanTL-GOB-ES/gpt2-base-bne\n",
        "\n",
        "* OpenAI. (2019). Language Models are Unsupervised Multitask Learners [PDF]. Recuperado de https://cdn.openai.com/better-language-models/language_models_are_unsupervised_multitask_learners.pdf\n",
        "* Pascual, F. (2022). Getting Started with Sentiment Analysis using Python. Retrieved from Hugging Face: https://huggingface.co/blog/sentiment-analysis-python\n",
        "* Radford, A., Wu, J., Child, R., Luan, D., Amodei, D., & Sutskever, I. (2018). Improving Language Understanding by Generative Pre-training [PDF]. Recuperado de https://cdn.openai.com/better-language-models/language_models_are_unsupervised_multitask_learners.pdf\n",
        "* Sanh, V., Debut, L., Chaumond, J., & Wolf, T. (2019). DistilBERT, a distilled version of BERT: smaller, faster, cheaper and lighter. Obtenido de Hugging Face: https://huggingface.co/distilbert-base-multilingual-cased\n",
        "\n"
      ],
      "metadata": {
        "id": "FB4eY91dt5_7"
      }
    }
  ],
  "metadata": {
    "accelerator": "GPU",
    "colab": {
      "gpuType": "T4",
      "provenance": [],
      "include_colab_link": true
    },
    "kernelspec": {
      "display_name": "Python 3",
      "name": "python3"
    },
    "language_info": {
      "codemirror_mode": {
        "name": "ipython",
        "version": 3
      },
      "file_extension": ".py",
      "mimetype": "text/x-python",
      "name": "python",
      "nbconvert_exporter": "python",
      "pygments_lexer": "ipython3",
      "version": "3.10.9"
    },
    "widgets": {
      "application/vnd.jupyter.widget-state+json": {
        "875609b4175849ba8032003a96021b09": {
          "model_module": "@jupyter-widgets/controls",
          "model_name": "HBoxModel",
          "model_module_version": "1.5.0",
          "state": {
            "_dom_classes": [],
            "_model_module": "@jupyter-widgets/controls",
            "_model_module_version": "1.5.0",
            "_model_name": "HBoxModel",
            "_view_count": null,
            "_view_module": "@jupyter-widgets/controls",
            "_view_module_version": "1.5.0",
            "_view_name": "HBoxView",
            "box_style": "",
            "children": [
              "IPY_MODEL_75050dd5758041899766df758d80ece7",
              "IPY_MODEL_1055680e24f4437f8164c18787d40e0b",
              "IPY_MODEL_c103ed7d9f0246d19fd763918db103c3"
            ],
            "layout": "IPY_MODEL_bab2c974b1054c7eb8d109b28429adba"
          }
        },
        "75050dd5758041899766df758d80ece7": {
          "model_module": "@jupyter-widgets/controls",
          "model_name": "HTMLModel",
          "model_module_version": "1.5.0",
          "state": {
            "_dom_classes": [],
            "_model_module": "@jupyter-widgets/controls",
            "_model_module_version": "1.5.0",
            "_model_name": "HTMLModel",
            "_view_count": null,
            "_view_module": "@jupyter-widgets/controls",
            "_view_module_version": "1.5.0",
            "_view_name": "HTMLView",
            "description": "",
            "description_tooltip": null,
            "layout": "IPY_MODEL_78a8b09d98bc49fe9866d88a905c7dc2",
            "placeholder": "​",
            "style": "IPY_MODEL_3e8b4cdcb3fc47319a473901c386343c",
            "value": "Downloading (…)lve/main/config.json: 100%"
          }
        },
        "1055680e24f4437f8164c18787d40e0b": {
          "model_module": "@jupyter-widgets/controls",
          "model_name": "FloatProgressModel",
          "model_module_version": "1.5.0",
          "state": {
            "_dom_classes": [],
            "_model_module": "@jupyter-widgets/controls",
            "_model_module_version": "1.5.0",
            "_model_name": "FloatProgressModel",
            "_view_count": null,
            "_view_module": "@jupyter-widgets/controls",
            "_view_module_version": "1.5.0",
            "_view_name": "ProgressView",
            "bar_style": "success",
            "description": "",
            "description_tooltip": null,
            "layout": "IPY_MODEL_fa5bb2a649294fbebc5f83f21695d843",
            "max": 681,
            "min": 0,
            "orientation": "horizontal",
            "style": "IPY_MODEL_28b8a3034837452682826b478912d55a",
            "value": 681
          }
        },
        "c103ed7d9f0246d19fd763918db103c3": {
          "model_module": "@jupyter-widgets/controls",
          "model_name": "HTMLModel",
          "model_module_version": "1.5.0",
          "state": {
            "_dom_classes": [],
            "_model_module": "@jupyter-widgets/controls",
            "_model_module_version": "1.5.0",
            "_model_name": "HTMLModel",
            "_view_count": null,
            "_view_module": "@jupyter-widgets/controls",
            "_view_module_version": "1.5.0",
            "_view_name": "HTMLView",
            "description": "",
            "description_tooltip": null,
            "layout": "IPY_MODEL_a8f84794e7264e288a31e2476a3bbafb",
            "placeholder": "​",
            "style": "IPY_MODEL_7b87e1130f6749eb89cf1e7bf5873586",
            "value": " 681/681 [00:00&lt;00:00, 23.2kB/s]"
          }
        },
        "bab2c974b1054c7eb8d109b28429adba": {
          "model_module": "@jupyter-widgets/base",
          "model_name": "LayoutModel",
          "model_module_version": "1.2.0",
          "state": {
            "_model_module": "@jupyter-widgets/base",
            "_model_module_version": "1.2.0",
            "_model_name": "LayoutModel",
            "_view_count": null,
            "_view_module": "@jupyter-widgets/base",
            "_view_module_version": "1.2.0",
            "_view_name": "LayoutView",
            "align_content": null,
            "align_items": null,
            "align_self": null,
            "border": null,
            "bottom": null,
            "display": null,
            "flex": null,
            "flex_flow": null,
            "grid_area": null,
            "grid_auto_columns": null,
            "grid_auto_flow": null,
            "grid_auto_rows": null,
            "grid_column": null,
            "grid_gap": null,
            "grid_row": null,
            "grid_template_areas": null,
            "grid_template_columns": null,
            "grid_template_rows": null,
            "height": null,
            "justify_content": null,
            "justify_items": null,
            "left": null,
            "margin": null,
            "max_height": null,
            "max_width": null,
            "min_height": null,
            "min_width": null,
            "object_fit": null,
            "object_position": null,
            "order": null,
            "overflow": null,
            "overflow_x": null,
            "overflow_y": null,
            "padding": null,
            "right": null,
            "top": null,
            "visibility": null,
            "width": null
          }
        },
        "78a8b09d98bc49fe9866d88a905c7dc2": {
          "model_module": "@jupyter-widgets/base",
          "model_name": "LayoutModel",
          "model_module_version": "1.2.0",
          "state": {
            "_model_module": "@jupyter-widgets/base",
            "_model_module_version": "1.2.0",
            "_model_name": "LayoutModel",
            "_view_count": null,
            "_view_module": "@jupyter-widgets/base",
            "_view_module_version": "1.2.0",
            "_view_name": "LayoutView",
            "align_content": null,
            "align_items": null,
            "align_self": null,
            "border": null,
            "bottom": null,
            "display": null,
            "flex": null,
            "flex_flow": null,
            "grid_area": null,
            "grid_auto_columns": null,
            "grid_auto_flow": null,
            "grid_auto_rows": null,
            "grid_column": null,
            "grid_gap": null,
            "grid_row": null,
            "grid_template_areas": null,
            "grid_template_columns": null,
            "grid_template_rows": null,
            "height": null,
            "justify_content": null,
            "justify_items": null,
            "left": null,
            "margin": null,
            "max_height": null,
            "max_width": null,
            "min_height": null,
            "min_width": null,
            "object_fit": null,
            "object_position": null,
            "order": null,
            "overflow": null,
            "overflow_x": null,
            "overflow_y": null,
            "padding": null,
            "right": null,
            "top": null,
            "visibility": null,
            "width": null
          }
        },
        "3e8b4cdcb3fc47319a473901c386343c": {
          "model_module": "@jupyter-widgets/controls",
          "model_name": "DescriptionStyleModel",
          "model_module_version": "1.5.0",
          "state": {
            "_model_module": "@jupyter-widgets/controls",
            "_model_module_version": "1.5.0",
            "_model_name": "DescriptionStyleModel",
            "_view_count": null,
            "_view_module": "@jupyter-widgets/base",
            "_view_module_version": "1.2.0",
            "_view_name": "StyleView",
            "description_width": ""
          }
        },
        "fa5bb2a649294fbebc5f83f21695d843": {
          "model_module": "@jupyter-widgets/base",
          "model_name": "LayoutModel",
          "model_module_version": "1.2.0",
          "state": {
            "_model_module": "@jupyter-widgets/base",
            "_model_module_version": "1.2.0",
            "_model_name": "LayoutModel",
            "_view_count": null,
            "_view_module": "@jupyter-widgets/base",
            "_view_module_version": "1.2.0",
            "_view_name": "LayoutView",
            "align_content": null,
            "align_items": null,
            "align_self": null,
            "border": null,
            "bottom": null,
            "display": null,
            "flex": null,
            "flex_flow": null,
            "grid_area": null,
            "grid_auto_columns": null,
            "grid_auto_flow": null,
            "grid_auto_rows": null,
            "grid_column": null,
            "grid_gap": null,
            "grid_row": null,
            "grid_template_areas": null,
            "grid_template_columns": null,
            "grid_template_rows": null,
            "height": null,
            "justify_content": null,
            "justify_items": null,
            "left": null,
            "margin": null,
            "max_height": null,
            "max_width": null,
            "min_height": null,
            "min_width": null,
            "object_fit": null,
            "object_position": null,
            "order": null,
            "overflow": null,
            "overflow_x": null,
            "overflow_y": null,
            "padding": null,
            "right": null,
            "top": null,
            "visibility": null,
            "width": null
          }
        },
        "28b8a3034837452682826b478912d55a": {
          "model_module": "@jupyter-widgets/controls",
          "model_name": "ProgressStyleModel",
          "model_module_version": "1.5.0",
          "state": {
            "_model_module": "@jupyter-widgets/controls",
            "_model_module_version": "1.5.0",
            "_model_name": "ProgressStyleModel",
            "_view_count": null,
            "_view_module": "@jupyter-widgets/base",
            "_view_module_version": "1.2.0",
            "_view_name": "StyleView",
            "bar_color": null,
            "description_width": ""
          }
        },
        "a8f84794e7264e288a31e2476a3bbafb": {
          "model_module": "@jupyter-widgets/base",
          "model_name": "LayoutModel",
          "model_module_version": "1.2.0",
          "state": {
            "_model_module": "@jupyter-widgets/base",
            "_model_module_version": "1.2.0",
            "_model_name": "LayoutModel",
            "_view_count": null,
            "_view_module": "@jupyter-widgets/base",
            "_view_module_version": "1.2.0",
            "_view_name": "LayoutView",
            "align_content": null,
            "align_items": null,
            "align_self": null,
            "border": null,
            "bottom": null,
            "display": null,
            "flex": null,
            "flex_flow": null,
            "grid_area": null,
            "grid_auto_columns": null,
            "grid_auto_flow": null,
            "grid_auto_rows": null,
            "grid_column": null,
            "grid_gap": null,
            "grid_row": null,
            "grid_template_areas": null,
            "grid_template_columns": null,
            "grid_template_rows": null,
            "height": null,
            "justify_content": null,
            "justify_items": null,
            "left": null,
            "margin": null,
            "max_height": null,
            "max_width": null,
            "min_height": null,
            "min_width": null,
            "object_fit": null,
            "object_position": null,
            "order": null,
            "overflow": null,
            "overflow_x": null,
            "overflow_y": null,
            "padding": null,
            "right": null,
            "top": null,
            "visibility": null,
            "width": null
          }
        },
        "7b87e1130f6749eb89cf1e7bf5873586": {
          "model_module": "@jupyter-widgets/controls",
          "model_name": "DescriptionStyleModel",
          "model_module_version": "1.5.0",
          "state": {
            "_model_module": "@jupyter-widgets/controls",
            "_model_module_version": "1.5.0",
            "_model_name": "DescriptionStyleModel",
            "_view_count": null,
            "_view_module": "@jupyter-widgets/base",
            "_view_module_version": "1.2.0",
            "_view_name": "StyleView",
            "description_width": ""
          }
        },
        "e65d460df5ce4ad7b83986127781d9c8": {
          "model_module": "@jupyter-widgets/controls",
          "model_name": "HBoxModel",
          "model_module_version": "1.5.0",
          "state": {
            "_dom_classes": [],
            "_model_module": "@jupyter-widgets/controls",
            "_model_module_version": "1.5.0",
            "_model_name": "HBoxModel",
            "_view_count": null,
            "_view_module": "@jupyter-widgets/controls",
            "_view_module_version": "1.5.0",
            "_view_name": "HBoxView",
            "box_style": "",
            "children": [
              "IPY_MODEL_f97fcd2f1b43460ba3cc0efed5d33195",
              "IPY_MODEL_7f5b01ca8c684fe58399dd06f9b24b0f",
              "IPY_MODEL_0ecfa9e43d5a43dcb1a8b813d2d7537d"
            ],
            "layout": "IPY_MODEL_1971148fbf6a487f92c2b80c633275df"
          }
        },
        "f97fcd2f1b43460ba3cc0efed5d33195": {
          "model_module": "@jupyter-widgets/controls",
          "model_name": "HTMLModel",
          "model_module_version": "1.5.0",
          "state": {
            "_dom_classes": [],
            "_model_module": "@jupyter-widgets/controls",
            "_model_module_version": "1.5.0",
            "_model_name": "HTMLModel",
            "_view_count": null,
            "_view_module": "@jupyter-widgets/controls",
            "_view_module_version": "1.5.0",
            "_view_name": "HTMLView",
            "description": "",
            "description_tooltip": null,
            "layout": "IPY_MODEL_c36c5d8314454de2b7debd5fa0e48a88",
            "placeholder": "​",
            "style": "IPY_MODEL_6b326615ba8f486cb26a4731d5ab662f",
            "value": "Downloading (…)/main/tokenizer.json: 100%"
          }
        },
        "7f5b01ca8c684fe58399dd06f9b24b0f": {
          "model_module": "@jupyter-widgets/controls",
          "model_name": "FloatProgressModel",
          "model_module_version": "1.5.0",
          "state": {
            "_dom_classes": [],
            "_model_module": "@jupyter-widgets/controls",
            "_model_module_version": "1.5.0",
            "_model_name": "FloatProgressModel",
            "_view_count": null,
            "_view_module": "@jupyter-widgets/controls",
            "_view_module_version": "1.5.0",
            "_view_name": "ProgressView",
            "bar_style": "success",
            "description": "",
            "description_tooltip": null,
            "layout": "IPY_MODEL_a5710f364811410589a3f049a2dac65d",
            "max": 1461461,
            "min": 0,
            "orientation": "horizontal",
            "style": "IPY_MODEL_e9a0b082bdb243a1a5aab189bde8aa57",
            "value": 1461461
          }
        },
        "0ecfa9e43d5a43dcb1a8b813d2d7537d": {
          "model_module": "@jupyter-widgets/controls",
          "model_name": "HTMLModel",
          "model_module_version": "1.5.0",
          "state": {
            "_dom_classes": [],
            "_model_module": "@jupyter-widgets/controls",
            "_model_module_version": "1.5.0",
            "_model_name": "HTMLModel",
            "_view_count": null,
            "_view_module": "@jupyter-widgets/controls",
            "_view_module_version": "1.5.0",
            "_view_name": "HTMLView",
            "description": "",
            "description_tooltip": null,
            "layout": "IPY_MODEL_b4cc1da3f5904059aa64378fb6070309",
            "placeholder": "​",
            "style": "IPY_MODEL_cb92702402c34c41a28b2cad6abcd20e",
            "value": " 1.46M/1.46M [00:00&lt;00:00, 3.11MB/s]"
          }
        },
        "1971148fbf6a487f92c2b80c633275df": {
          "model_module": "@jupyter-widgets/base",
          "model_name": "LayoutModel",
          "model_module_version": "1.2.0",
          "state": {
            "_model_module": "@jupyter-widgets/base",
            "_model_module_version": "1.2.0",
            "_model_name": "LayoutModel",
            "_view_count": null,
            "_view_module": "@jupyter-widgets/base",
            "_view_module_version": "1.2.0",
            "_view_name": "LayoutView",
            "align_content": null,
            "align_items": null,
            "align_self": null,
            "border": null,
            "bottom": null,
            "display": null,
            "flex": null,
            "flex_flow": null,
            "grid_area": null,
            "grid_auto_columns": null,
            "grid_auto_flow": null,
            "grid_auto_rows": null,
            "grid_column": null,
            "grid_gap": null,
            "grid_row": null,
            "grid_template_areas": null,
            "grid_template_columns": null,
            "grid_template_rows": null,
            "height": null,
            "justify_content": null,
            "justify_items": null,
            "left": null,
            "margin": null,
            "max_height": null,
            "max_width": null,
            "min_height": null,
            "min_width": null,
            "object_fit": null,
            "object_position": null,
            "order": null,
            "overflow": null,
            "overflow_x": null,
            "overflow_y": null,
            "padding": null,
            "right": null,
            "top": null,
            "visibility": null,
            "width": null
          }
        },
        "c36c5d8314454de2b7debd5fa0e48a88": {
          "model_module": "@jupyter-widgets/base",
          "model_name": "LayoutModel",
          "model_module_version": "1.2.0",
          "state": {
            "_model_module": "@jupyter-widgets/base",
            "_model_module_version": "1.2.0",
            "_model_name": "LayoutModel",
            "_view_count": null,
            "_view_module": "@jupyter-widgets/base",
            "_view_module_version": "1.2.0",
            "_view_name": "LayoutView",
            "align_content": null,
            "align_items": null,
            "align_self": null,
            "border": null,
            "bottom": null,
            "display": null,
            "flex": null,
            "flex_flow": null,
            "grid_area": null,
            "grid_auto_columns": null,
            "grid_auto_flow": null,
            "grid_auto_rows": null,
            "grid_column": null,
            "grid_gap": null,
            "grid_row": null,
            "grid_template_areas": null,
            "grid_template_columns": null,
            "grid_template_rows": null,
            "height": null,
            "justify_content": null,
            "justify_items": null,
            "left": null,
            "margin": null,
            "max_height": null,
            "max_width": null,
            "min_height": null,
            "min_width": null,
            "object_fit": null,
            "object_position": null,
            "order": null,
            "overflow": null,
            "overflow_x": null,
            "overflow_y": null,
            "padding": null,
            "right": null,
            "top": null,
            "visibility": null,
            "width": null
          }
        },
        "6b326615ba8f486cb26a4731d5ab662f": {
          "model_module": "@jupyter-widgets/controls",
          "model_name": "DescriptionStyleModel",
          "model_module_version": "1.5.0",
          "state": {
            "_model_module": "@jupyter-widgets/controls",
            "_model_module_version": "1.5.0",
            "_model_name": "DescriptionStyleModel",
            "_view_count": null,
            "_view_module": "@jupyter-widgets/base",
            "_view_module_version": "1.2.0",
            "_view_name": "StyleView",
            "description_width": ""
          }
        },
        "a5710f364811410589a3f049a2dac65d": {
          "model_module": "@jupyter-widgets/base",
          "model_name": "LayoutModel",
          "model_module_version": "1.2.0",
          "state": {
            "_model_module": "@jupyter-widgets/base",
            "_model_module_version": "1.2.0",
            "_model_name": "LayoutModel",
            "_view_count": null,
            "_view_module": "@jupyter-widgets/base",
            "_view_module_version": "1.2.0",
            "_view_name": "LayoutView",
            "align_content": null,
            "align_items": null,
            "align_self": null,
            "border": null,
            "bottom": null,
            "display": null,
            "flex": null,
            "flex_flow": null,
            "grid_area": null,
            "grid_auto_columns": null,
            "grid_auto_flow": null,
            "grid_auto_rows": null,
            "grid_column": null,
            "grid_gap": null,
            "grid_row": null,
            "grid_template_areas": null,
            "grid_template_columns": null,
            "grid_template_rows": null,
            "height": null,
            "justify_content": null,
            "justify_items": null,
            "left": null,
            "margin": null,
            "max_height": null,
            "max_width": null,
            "min_height": null,
            "min_width": null,
            "object_fit": null,
            "object_position": null,
            "order": null,
            "overflow": null,
            "overflow_x": null,
            "overflow_y": null,
            "padding": null,
            "right": null,
            "top": null,
            "visibility": null,
            "width": null
          }
        },
        "e9a0b082bdb243a1a5aab189bde8aa57": {
          "model_module": "@jupyter-widgets/controls",
          "model_name": "ProgressStyleModel",
          "model_module_version": "1.5.0",
          "state": {
            "_model_module": "@jupyter-widgets/controls",
            "_model_module_version": "1.5.0",
            "_model_name": "ProgressStyleModel",
            "_view_count": null,
            "_view_module": "@jupyter-widgets/base",
            "_view_module_version": "1.2.0",
            "_view_name": "StyleView",
            "bar_color": null,
            "description_width": ""
          }
        },
        "b4cc1da3f5904059aa64378fb6070309": {
          "model_module": "@jupyter-widgets/base",
          "model_name": "LayoutModel",
          "model_module_version": "1.2.0",
          "state": {
            "_model_module": "@jupyter-widgets/base",
            "_model_module_version": "1.2.0",
            "_model_name": "LayoutModel",
            "_view_count": null,
            "_view_module": "@jupyter-widgets/base",
            "_view_module_version": "1.2.0",
            "_view_name": "LayoutView",
            "align_content": null,
            "align_items": null,
            "align_self": null,
            "border": null,
            "bottom": null,
            "display": null,
            "flex": null,
            "flex_flow": null,
            "grid_area": null,
            "grid_auto_columns": null,
            "grid_auto_flow": null,
            "grid_auto_rows": null,
            "grid_column": null,
            "grid_gap": null,
            "grid_row": null,
            "grid_template_areas": null,
            "grid_template_columns": null,
            "grid_template_rows": null,
            "height": null,
            "justify_content": null,
            "justify_items": null,
            "left": null,
            "margin": null,
            "max_height": null,
            "max_width": null,
            "min_height": null,
            "min_width": null,
            "object_fit": null,
            "object_position": null,
            "order": null,
            "overflow": null,
            "overflow_x": null,
            "overflow_y": null,
            "padding": null,
            "right": null,
            "top": null,
            "visibility": null,
            "width": null
          }
        },
        "cb92702402c34c41a28b2cad6abcd20e": {
          "model_module": "@jupyter-widgets/controls",
          "model_name": "DescriptionStyleModel",
          "model_module_version": "1.5.0",
          "state": {
            "_model_module": "@jupyter-widgets/controls",
            "_model_module_version": "1.5.0",
            "_model_name": "DescriptionStyleModel",
            "_view_count": null,
            "_view_module": "@jupyter-widgets/base",
            "_view_module_version": "1.2.0",
            "_view_name": "StyleView",
            "description_width": ""
          }
        },
        "de0cca4c98d842c5a3489752a2d19785": {
          "model_module": "@jupyter-widgets/controls",
          "model_name": "HBoxModel",
          "model_module_version": "1.5.0",
          "state": {
            "_dom_classes": [],
            "_model_module": "@jupyter-widgets/controls",
            "_model_module_version": "1.5.0",
            "_model_name": "HBoxModel",
            "_view_count": null,
            "_view_module": "@jupyter-widgets/controls",
            "_view_module_version": "1.5.0",
            "_view_name": "HBoxView",
            "box_style": "",
            "children": [
              "IPY_MODEL_f389ba02aaa74929b33074ab1e5c63d5",
              "IPY_MODEL_d3c356bdb510465398a9dabb7827c883",
              "IPY_MODEL_95d26556e411468d9b4b712de3365d7a"
            ],
            "layout": "IPY_MODEL_ff6228afdb20433ca36f9703666771d8"
          }
        },
        "f389ba02aaa74929b33074ab1e5c63d5": {
          "model_module": "@jupyter-widgets/controls",
          "model_name": "HTMLModel",
          "model_module_version": "1.5.0",
          "state": {
            "_dom_classes": [],
            "_model_module": "@jupyter-widgets/controls",
            "_model_module_version": "1.5.0",
            "_model_name": "HTMLModel",
            "_view_count": null,
            "_view_module": "@jupyter-widgets/controls",
            "_view_module_version": "1.5.0",
            "_view_name": "HTMLView",
            "description": "",
            "description_tooltip": null,
            "layout": "IPY_MODEL_96af4e168e494f7ba6f898ae3a7cba39",
            "placeholder": "​",
            "style": "IPY_MODEL_0ae6ba3ea1ff4f5f8bd3c493cf297667",
            "value": "Downloading pytorch_model.bin: 100%"
          }
        },
        "d3c356bdb510465398a9dabb7827c883": {
          "model_module": "@jupyter-widgets/controls",
          "model_name": "FloatProgressModel",
          "model_module_version": "1.5.0",
          "state": {
            "_dom_classes": [],
            "_model_module": "@jupyter-widgets/controls",
            "_model_module_version": "1.5.0",
            "_model_name": "FloatProgressModel",
            "_view_count": null,
            "_view_module": "@jupyter-widgets/controls",
            "_view_module_version": "1.5.0",
            "_view_name": "ProgressView",
            "bar_style": "success",
            "description": "",
            "description_tooltip": null,
            "layout": "IPY_MODEL_4f8b37510e7c4c928ca21ea87208240c",
            "max": 499377131,
            "min": 0,
            "orientation": "horizontal",
            "style": "IPY_MODEL_1b90a63184e349818d1763fcdb27daf4",
            "value": 499377131
          }
        },
        "95d26556e411468d9b4b712de3365d7a": {
          "model_module": "@jupyter-widgets/controls",
          "model_name": "HTMLModel",
          "model_module_version": "1.5.0",
          "state": {
            "_dom_classes": [],
            "_model_module": "@jupyter-widgets/controls",
            "_model_module_version": "1.5.0",
            "_model_name": "HTMLModel",
            "_view_count": null,
            "_view_module": "@jupyter-widgets/controls",
            "_view_module_version": "1.5.0",
            "_view_name": "HTMLView",
            "description": "",
            "description_tooltip": null,
            "layout": "IPY_MODEL_94531ea3cd1b40c58c31c3ee48f67748",
            "placeholder": "​",
            "style": "IPY_MODEL_a9b1600af9314c089e535a90ae752590",
            "value": " 499M/499M [00:05&lt;00:00, 44.3MB/s]"
          }
        },
        "ff6228afdb20433ca36f9703666771d8": {
          "model_module": "@jupyter-widgets/base",
          "model_name": "LayoutModel",
          "model_module_version": "1.2.0",
          "state": {
            "_model_module": "@jupyter-widgets/base",
            "_model_module_version": "1.2.0",
            "_model_name": "LayoutModel",
            "_view_count": null,
            "_view_module": "@jupyter-widgets/base",
            "_view_module_version": "1.2.0",
            "_view_name": "LayoutView",
            "align_content": null,
            "align_items": null,
            "align_self": null,
            "border": null,
            "bottom": null,
            "display": null,
            "flex": null,
            "flex_flow": null,
            "grid_area": null,
            "grid_auto_columns": null,
            "grid_auto_flow": null,
            "grid_auto_rows": null,
            "grid_column": null,
            "grid_gap": null,
            "grid_row": null,
            "grid_template_areas": null,
            "grid_template_columns": null,
            "grid_template_rows": null,
            "height": null,
            "justify_content": null,
            "justify_items": null,
            "left": null,
            "margin": null,
            "max_height": null,
            "max_width": null,
            "min_height": null,
            "min_width": null,
            "object_fit": null,
            "object_position": null,
            "order": null,
            "overflow": null,
            "overflow_x": null,
            "overflow_y": null,
            "padding": null,
            "right": null,
            "top": null,
            "visibility": null,
            "width": null
          }
        },
        "96af4e168e494f7ba6f898ae3a7cba39": {
          "model_module": "@jupyter-widgets/base",
          "model_name": "LayoutModel",
          "model_module_version": "1.2.0",
          "state": {
            "_model_module": "@jupyter-widgets/base",
            "_model_module_version": "1.2.0",
            "_model_name": "LayoutModel",
            "_view_count": null,
            "_view_module": "@jupyter-widgets/base",
            "_view_module_version": "1.2.0",
            "_view_name": "LayoutView",
            "align_content": null,
            "align_items": null,
            "align_self": null,
            "border": null,
            "bottom": null,
            "display": null,
            "flex": null,
            "flex_flow": null,
            "grid_area": null,
            "grid_auto_columns": null,
            "grid_auto_flow": null,
            "grid_auto_rows": null,
            "grid_column": null,
            "grid_gap": null,
            "grid_row": null,
            "grid_template_areas": null,
            "grid_template_columns": null,
            "grid_template_rows": null,
            "height": null,
            "justify_content": null,
            "justify_items": null,
            "left": null,
            "margin": null,
            "max_height": null,
            "max_width": null,
            "min_height": null,
            "min_width": null,
            "object_fit": null,
            "object_position": null,
            "order": null,
            "overflow": null,
            "overflow_x": null,
            "overflow_y": null,
            "padding": null,
            "right": null,
            "top": null,
            "visibility": null,
            "width": null
          }
        },
        "0ae6ba3ea1ff4f5f8bd3c493cf297667": {
          "model_module": "@jupyter-widgets/controls",
          "model_name": "DescriptionStyleModel",
          "model_module_version": "1.5.0",
          "state": {
            "_model_module": "@jupyter-widgets/controls",
            "_model_module_version": "1.5.0",
            "_model_name": "DescriptionStyleModel",
            "_view_count": null,
            "_view_module": "@jupyter-widgets/base",
            "_view_module_version": "1.2.0",
            "_view_name": "StyleView",
            "description_width": ""
          }
        },
        "4f8b37510e7c4c928ca21ea87208240c": {
          "model_module": "@jupyter-widgets/base",
          "model_name": "LayoutModel",
          "model_module_version": "1.2.0",
          "state": {
            "_model_module": "@jupyter-widgets/base",
            "_model_module_version": "1.2.0",
            "_model_name": "LayoutModel",
            "_view_count": null,
            "_view_module": "@jupyter-widgets/base",
            "_view_module_version": "1.2.0",
            "_view_name": "LayoutView",
            "align_content": null,
            "align_items": null,
            "align_self": null,
            "border": null,
            "bottom": null,
            "display": null,
            "flex": null,
            "flex_flow": null,
            "grid_area": null,
            "grid_auto_columns": null,
            "grid_auto_flow": null,
            "grid_auto_rows": null,
            "grid_column": null,
            "grid_gap": null,
            "grid_row": null,
            "grid_template_areas": null,
            "grid_template_columns": null,
            "grid_template_rows": null,
            "height": null,
            "justify_content": null,
            "justify_items": null,
            "left": null,
            "margin": null,
            "max_height": null,
            "max_width": null,
            "min_height": null,
            "min_width": null,
            "object_fit": null,
            "object_position": null,
            "order": null,
            "overflow": null,
            "overflow_x": null,
            "overflow_y": null,
            "padding": null,
            "right": null,
            "top": null,
            "visibility": null,
            "width": null
          }
        },
        "1b90a63184e349818d1763fcdb27daf4": {
          "model_module": "@jupyter-widgets/controls",
          "model_name": "ProgressStyleModel",
          "model_module_version": "1.5.0",
          "state": {
            "_model_module": "@jupyter-widgets/controls",
            "_model_module_version": "1.5.0",
            "_model_name": "ProgressStyleModel",
            "_view_count": null,
            "_view_module": "@jupyter-widgets/base",
            "_view_module_version": "1.2.0",
            "_view_name": "StyleView",
            "bar_color": null,
            "description_width": ""
          }
        },
        "94531ea3cd1b40c58c31c3ee48f67748": {
          "model_module": "@jupyter-widgets/base",
          "model_name": "LayoutModel",
          "model_module_version": "1.2.0",
          "state": {
            "_model_module": "@jupyter-widgets/base",
            "_model_module_version": "1.2.0",
            "_model_name": "LayoutModel",
            "_view_count": null,
            "_view_module": "@jupyter-widgets/base",
            "_view_module_version": "1.2.0",
            "_view_name": "LayoutView",
            "align_content": null,
            "align_items": null,
            "align_self": null,
            "border": null,
            "bottom": null,
            "display": null,
            "flex": null,
            "flex_flow": null,
            "grid_area": null,
            "grid_auto_columns": null,
            "grid_auto_flow": null,
            "grid_auto_rows": null,
            "grid_column": null,
            "grid_gap": null,
            "grid_row": null,
            "grid_template_areas": null,
            "grid_template_columns": null,
            "grid_template_rows": null,
            "height": null,
            "justify_content": null,
            "justify_items": null,
            "left": null,
            "margin": null,
            "max_height": null,
            "max_width": null,
            "min_height": null,
            "min_width": null,
            "object_fit": null,
            "object_position": null,
            "order": null,
            "overflow": null,
            "overflow_x": null,
            "overflow_y": null,
            "padding": null,
            "right": null,
            "top": null,
            "visibility": null,
            "width": null
          }
        },
        "a9b1600af9314c089e535a90ae752590": {
          "model_module": "@jupyter-widgets/controls",
          "model_name": "DescriptionStyleModel",
          "model_module_version": "1.5.0",
          "state": {
            "_model_module": "@jupyter-widgets/controls",
            "_model_module_version": "1.5.0",
            "_model_name": "DescriptionStyleModel",
            "_view_count": null,
            "_view_module": "@jupyter-widgets/base",
            "_view_module_version": "1.2.0",
            "_view_name": "StyleView",
            "description_width": ""
          }
        },
        "7202c831f430484a9722fc9992830ba4": {
          "model_module": "@jupyter-widgets/controls",
          "model_name": "HBoxModel",
          "model_module_version": "1.5.0",
          "state": {
            "_dom_classes": [],
            "_model_module": "@jupyter-widgets/controls",
            "_model_module_version": "1.5.0",
            "_model_name": "HBoxModel",
            "_view_count": null,
            "_view_module": "@jupyter-widgets/controls",
            "_view_module_version": "1.5.0",
            "_view_name": "HBoxView",
            "box_style": "",
            "children": [
              "IPY_MODEL_227ab3c2db794a249162191189254621",
              "IPY_MODEL_4eb9dcd909c44ccd8a566225dca0e00a",
              "IPY_MODEL_11a51082b44a4e4aab141d656e5b542b"
            ],
            "layout": "IPY_MODEL_1aeef00f5eff4e6c9727fd701aee0eb1"
          }
        },
        "227ab3c2db794a249162191189254621": {
          "model_module": "@jupyter-widgets/controls",
          "model_name": "HTMLModel",
          "model_module_version": "1.5.0",
          "state": {
            "_dom_classes": [],
            "_model_module": "@jupyter-widgets/controls",
            "_model_module_version": "1.5.0",
            "_model_name": "HTMLModel",
            "_view_count": null,
            "_view_module": "@jupyter-widgets/controls",
            "_view_module_version": "1.5.0",
            "_view_name": "HTMLView",
            "description": "",
            "description_tooltip": null,
            "layout": "IPY_MODEL_fef14fea7592437d8de809fe8148049f",
            "placeholder": "​",
            "style": "IPY_MODEL_a7c1605d92f4479fa2dcf72b51f24fbe",
            "value": "Downloading (…)solve/main/vocab.txt: 100%"
          }
        },
        "4eb9dcd909c44ccd8a566225dca0e00a": {
          "model_module": "@jupyter-widgets/controls",
          "model_name": "FloatProgressModel",
          "model_module_version": "1.5.0",
          "state": {
            "_dom_classes": [],
            "_model_module": "@jupyter-widgets/controls",
            "_model_module_version": "1.5.0",
            "_model_name": "FloatProgressModel",
            "_view_count": null,
            "_view_module": "@jupyter-widgets/controls",
            "_view_module_version": "1.5.0",
            "_view_name": "ProgressView",
            "bar_style": "success",
            "description": "",
            "description_tooltip": null,
            "layout": "IPY_MODEL_249d331511904eb9ad726947e3f6ba95",
            "max": 995526,
            "min": 0,
            "orientation": "horizontal",
            "style": "IPY_MODEL_6224f49878db4d8e8dc8fe752dc6153f",
            "value": 995526
          }
        },
        "11a51082b44a4e4aab141d656e5b542b": {
          "model_module": "@jupyter-widgets/controls",
          "model_name": "HTMLModel",
          "model_module_version": "1.5.0",
          "state": {
            "_dom_classes": [],
            "_model_module": "@jupyter-widgets/controls",
            "_model_module_version": "1.5.0",
            "_model_name": "HTMLModel",
            "_view_count": null,
            "_view_module": "@jupyter-widgets/controls",
            "_view_module_version": "1.5.0",
            "_view_name": "HTMLView",
            "description": "",
            "description_tooltip": null,
            "layout": "IPY_MODEL_750ada43b9bc4c849f2670c8137ab572",
            "placeholder": "​",
            "style": "IPY_MODEL_36bf43db883f4fa9af73e309641dd273",
            "value": " 996k/996k [00:00&lt;00:00, 4.14MB/s]"
          }
        },
        "1aeef00f5eff4e6c9727fd701aee0eb1": {
          "model_module": "@jupyter-widgets/base",
          "model_name": "LayoutModel",
          "model_module_version": "1.2.0",
          "state": {
            "_model_module": "@jupyter-widgets/base",
            "_model_module_version": "1.2.0",
            "_model_name": "LayoutModel",
            "_view_count": null,
            "_view_module": "@jupyter-widgets/base",
            "_view_module_version": "1.2.0",
            "_view_name": "LayoutView",
            "align_content": null,
            "align_items": null,
            "align_self": null,
            "border": null,
            "bottom": null,
            "display": null,
            "flex": null,
            "flex_flow": null,
            "grid_area": null,
            "grid_auto_columns": null,
            "grid_auto_flow": null,
            "grid_auto_rows": null,
            "grid_column": null,
            "grid_gap": null,
            "grid_row": null,
            "grid_template_areas": null,
            "grid_template_columns": null,
            "grid_template_rows": null,
            "height": null,
            "justify_content": null,
            "justify_items": null,
            "left": null,
            "margin": null,
            "max_height": null,
            "max_width": null,
            "min_height": null,
            "min_width": null,
            "object_fit": null,
            "object_position": null,
            "order": null,
            "overflow": null,
            "overflow_x": null,
            "overflow_y": null,
            "padding": null,
            "right": null,
            "top": null,
            "visibility": null,
            "width": null
          }
        },
        "fef14fea7592437d8de809fe8148049f": {
          "model_module": "@jupyter-widgets/base",
          "model_name": "LayoutModel",
          "model_module_version": "1.2.0",
          "state": {
            "_model_module": "@jupyter-widgets/base",
            "_model_module_version": "1.2.0",
            "_model_name": "LayoutModel",
            "_view_count": null,
            "_view_module": "@jupyter-widgets/base",
            "_view_module_version": "1.2.0",
            "_view_name": "LayoutView",
            "align_content": null,
            "align_items": null,
            "align_self": null,
            "border": null,
            "bottom": null,
            "display": null,
            "flex": null,
            "flex_flow": null,
            "grid_area": null,
            "grid_auto_columns": null,
            "grid_auto_flow": null,
            "grid_auto_rows": null,
            "grid_column": null,
            "grid_gap": null,
            "grid_row": null,
            "grid_template_areas": null,
            "grid_template_columns": null,
            "grid_template_rows": null,
            "height": null,
            "justify_content": null,
            "justify_items": null,
            "left": null,
            "margin": null,
            "max_height": null,
            "max_width": null,
            "min_height": null,
            "min_width": null,
            "object_fit": null,
            "object_position": null,
            "order": null,
            "overflow": null,
            "overflow_x": null,
            "overflow_y": null,
            "padding": null,
            "right": null,
            "top": null,
            "visibility": null,
            "width": null
          }
        },
        "a7c1605d92f4479fa2dcf72b51f24fbe": {
          "model_module": "@jupyter-widgets/controls",
          "model_name": "DescriptionStyleModel",
          "model_module_version": "1.5.0",
          "state": {
            "_model_module": "@jupyter-widgets/controls",
            "_model_module_version": "1.5.0",
            "_model_name": "DescriptionStyleModel",
            "_view_count": null,
            "_view_module": "@jupyter-widgets/base",
            "_view_module_version": "1.2.0",
            "_view_name": "StyleView",
            "description_width": ""
          }
        },
        "249d331511904eb9ad726947e3f6ba95": {
          "model_module": "@jupyter-widgets/base",
          "model_name": "LayoutModel",
          "model_module_version": "1.2.0",
          "state": {
            "_model_module": "@jupyter-widgets/base",
            "_model_module_version": "1.2.0",
            "_model_name": "LayoutModel",
            "_view_count": null,
            "_view_module": "@jupyter-widgets/base",
            "_view_module_version": "1.2.0",
            "_view_name": "LayoutView",
            "align_content": null,
            "align_items": null,
            "align_self": null,
            "border": null,
            "bottom": null,
            "display": null,
            "flex": null,
            "flex_flow": null,
            "grid_area": null,
            "grid_auto_columns": null,
            "grid_auto_flow": null,
            "grid_auto_rows": null,
            "grid_column": null,
            "grid_gap": null,
            "grid_row": null,
            "grid_template_areas": null,
            "grid_template_columns": null,
            "grid_template_rows": null,
            "height": null,
            "justify_content": null,
            "justify_items": null,
            "left": null,
            "margin": null,
            "max_height": null,
            "max_width": null,
            "min_height": null,
            "min_width": null,
            "object_fit": null,
            "object_position": null,
            "order": null,
            "overflow": null,
            "overflow_x": null,
            "overflow_y": null,
            "padding": null,
            "right": null,
            "top": null,
            "visibility": null,
            "width": null
          }
        },
        "6224f49878db4d8e8dc8fe752dc6153f": {
          "model_module": "@jupyter-widgets/controls",
          "model_name": "ProgressStyleModel",
          "model_module_version": "1.5.0",
          "state": {
            "_model_module": "@jupyter-widgets/controls",
            "_model_module_version": "1.5.0",
            "_model_name": "ProgressStyleModel",
            "_view_count": null,
            "_view_module": "@jupyter-widgets/base",
            "_view_module_version": "1.2.0",
            "_view_name": "StyleView",
            "bar_color": null,
            "description_width": ""
          }
        },
        "750ada43b9bc4c849f2670c8137ab572": {
          "model_module": "@jupyter-widgets/base",
          "model_name": "LayoutModel",
          "model_module_version": "1.2.0",
          "state": {
            "_model_module": "@jupyter-widgets/base",
            "_model_module_version": "1.2.0",
            "_model_name": "LayoutModel",
            "_view_count": null,
            "_view_module": "@jupyter-widgets/base",
            "_view_module_version": "1.2.0",
            "_view_name": "LayoutView",
            "align_content": null,
            "align_items": null,
            "align_self": null,
            "border": null,
            "bottom": null,
            "display": null,
            "flex": null,
            "flex_flow": null,
            "grid_area": null,
            "grid_auto_columns": null,
            "grid_auto_flow": null,
            "grid_auto_rows": null,
            "grid_column": null,
            "grid_gap": null,
            "grid_row": null,
            "grid_template_areas": null,
            "grid_template_columns": null,
            "grid_template_rows": null,
            "height": null,
            "justify_content": null,
            "justify_items": null,
            "left": null,
            "margin": null,
            "max_height": null,
            "max_width": null,
            "min_height": null,
            "min_width": null,
            "object_fit": null,
            "object_position": null,
            "order": null,
            "overflow": null,
            "overflow_x": null,
            "overflow_y": null,
            "padding": null,
            "right": null,
            "top": null,
            "visibility": null,
            "width": null
          }
        },
        "36bf43db883f4fa9af73e309641dd273": {
          "model_module": "@jupyter-widgets/controls",
          "model_name": "DescriptionStyleModel",
          "model_module_version": "1.5.0",
          "state": {
            "_model_module": "@jupyter-widgets/controls",
            "_model_module_version": "1.5.0",
            "_model_name": "DescriptionStyleModel",
            "_view_count": null,
            "_view_module": "@jupyter-widgets/base",
            "_view_module_version": "1.2.0",
            "_view_name": "StyleView",
            "description_width": ""
          }
        },
        "4fb8b36ce9ba4c9097c2d75397540f37": {
          "model_module": "@jupyter-widgets/controls",
          "model_name": "HBoxModel",
          "model_module_version": "1.5.0",
          "state": {
            "_dom_classes": [],
            "_model_module": "@jupyter-widgets/controls",
            "_model_module_version": "1.5.0",
            "_model_name": "HBoxModel",
            "_view_count": null,
            "_view_module": "@jupyter-widgets/controls",
            "_view_module_version": "1.5.0",
            "_view_name": "HBoxView",
            "box_style": "",
            "children": [
              "IPY_MODEL_a0d9b917c3444cfdb9d64786512d64b3",
              "IPY_MODEL_ed3c05d247804612b032b947330f2a6f",
              "IPY_MODEL_33962d5924a74145995d43573ad08bf2"
            ],
            "layout": "IPY_MODEL_0ee9e8dc4ca849aa8ee432ab4a64a82a"
          }
        },
        "a0d9b917c3444cfdb9d64786512d64b3": {
          "model_module": "@jupyter-widgets/controls",
          "model_name": "HTMLModel",
          "model_module_version": "1.5.0",
          "state": {
            "_dom_classes": [],
            "_model_module": "@jupyter-widgets/controls",
            "_model_module_version": "1.5.0",
            "_model_name": "HTMLModel",
            "_view_count": null,
            "_view_module": "@jupyter-widgets/controls",
            "_view_module_version": "1.5.0",
            "_view_name": "HTMLView",
            "description": "",
            "description_tooltip": null,
            "layout": "IPY_MODEL_f2ecfdf02e644784ae47d46daa7b4de9",
            "placeholder": "​",
            "style": "IPY_MODEL_fdbd45e746294335a0aa11d72c8bb010",
            "value": "Downloading (…)okenizer_config.json: 100%"
          }
        },
        "ed3c05d247804612b032b947330f2a6f": {
          "model_module": "@jupyter-widgets/controls",
          "model_name": "FloatProgressModel",
          "model_module_version": "1.5.0",
          "state": {
            "_dom_classes": [],
            "_model_module": "@jupyter-widgets/controls",
            "_model_module_version": "1.5.0",
            "_model_name": "FloatProgressModel",
            "_view_count": null,
            "_view_module": "@jupyter-widgets/controls",
            "_view_module_version": "1.5.0",
            "_view_name": "ProgressView",
            "bar_style": "success",
            "description": "",
            "description_tooltip": null,
            "layout": "IPY_MODEL_6f6b55a8f13340319a849a42910e18f2",
            "max": 29,
            "min": 0,
            "orientation": "horizontal",
            "style": "IPY_MODEL_f6c6001b7685463f948ffd7990e75247",
            "value": 29
          }
        },
        "33962d5924a74145995d43573ad08bf2": {
          "model_module": "@jupyter-widgets/controls",
          "model_name": "HTMLModel",
          "model_module_version": "1.5.0",
          "state": {
            "_dom_classes": [],
            "_model_module": "@jupyter-widgets/controls",
            "_model_module_version": "1.5.0",
            "_model_name": "HTMLModel",
            "_view_count": null,
            "_view_module": "@jupyter-widgets/controls",
            "_view_module_version": "1.5.0",
            "_view_name": "HTMLView",
            "description": "",
            "description_tooltip": null,
            "layout": "IPY_MODEL_af1c25b89a9049f38d0a6f64102a32d1",
            "placeholder": "​",
            "style": "IPY_MODEL_d10d5f0297284061946e59e8c917f296",
            "value": " 29.0/29.0 [00:00&lt;00:00, 2.01kB/s]"
          }
        },
        "0ee9e8dc4ca849aa8ee432ab4a64a82a": {
          "model_module": "@jupyter-widgets/base",
          "model_name": "LayoutModel",
          "model_module_version": "1.2.0",
          "state": {
            "_model_module": "@jupyter-widgets/base",
            "_model_module_version": "1.2.0",
            "_model_name": "LayoutModel",
            "_view_count": null,
            "_view_module": "@jupyter-widgets/base",
            "_view_module_version": "1.2.0",
            "_view_name": "LayoutView",
            "align_content": null,
            "align_items": null,
            "align_self": null,
            "border": null,
            "bottom": null,
            "display": null,
            "flex": null,
            "flex_flow": null,
            "grid_area": null,
            "grid_auto_columns": null,
            "grid_auto_flow": null,
            "grid_auto_rows": null,
            "grid_column": null,
            "grid_gap": null,
            "grid_row": null,
            "grid_template_areas": null,
            "grid_template_columns": null,
            "grid_template_rows": null,
            "height": null,
            "justify_content": null,
            "justify_items": null,
            "left": null,
            "margin": null,
            "max_height": null,
            "max_width": null,
            "min_height": null,
            "min_width": null,
            "object_fit": null,
            "object_position": null,
            "order": null,
            "overflow": null,
            "overflow_x": null,
            "overflow_y": null,
            "padding": null,
            "right": null,
            "top": null,
            "visibility": null,
            "width": null
          }
        },
        "f2ecfdf02e644784ae47d46daa7b4de9": {
          "model_module": "@jupyter-widgets/base",
          "model_name": "LayoutModel",
          "model_module_version": "1.2.0",
          "state": {
            "_model_module": "@jupyter-widgets/base",
            "_model_module_version": "1.2.0",
            "_model_name": "LayoutModel",
            "_view_count": null,
            "_view_module": "@jupyter-widgets/base",
            "_view_module_version": "1.2.0",
            "_view_name": "LayoutView",
            "align_content": null,
            "align_items": null,
            "align_self": null,
            "border": null,
            "bottom": null,
            "display": null,
            "flex": null,
            "flex_flow": null,
            "grid_area": null,
            "grid_auto_columns": null,
            "grid_auto_flow": null,
            "grid_auto_rows": null,
            "grid_column": null,
            "grid_gap": null,
            "grid_row": null,
            "grid_template_areas": null,
            "grid_template_columns": null,
            "grid_template_rows": null,
            "height": null,
            "justify_content": null,
            "justify_items": null,
            "left": null,
            "margin": null,
            "max_height": null,
            "max_width": null,
            "min_height": null,
            "min_width": null,
            "object_fit": null,
            "object_position": null,
            "order": null,
            "overflow": null,
            "overflow_x": null,
            "overflow_y": null,
            "padding": null,
            "right": null,
            "top": null,
            "visibility": null,
            "width": null
          }
        },
        "fdbd45e746294335a0aa11d72c8bb010": {
          "model_module": "@jupyter-widgets/controls",
          "model_name": "DescriptionStyleModel",
          "model_module_version": "1.5.0",
          "state": {
            "_model_module": "@jupyter-widgets/controls",
            "_model_module_version": "1.5.0",
            "_model_name": "DescriptionStyleModel",
            "_view_count": null,
            "_view_module": "@jupyter-widgets/base",
            "_view_module_version": "1.2.0",
            "_view_name": "StyleView",
            "description_width": ""
          }
        },
        "6f6b55a8f13340319a849a42910e18f2": {
          "model_module": "@jupyter-widgets/base",
          "model_name": "LayoutModel",
          "model_module_version": "1.2.0",
          "state": {
            "_model_module": "@jupyter-widgets/base",
            "_model_module_version": "1.2.0",
            "_model_name": "LayoutModel",
            "_view_count": null,
            "_view_module": "@jupyter-widgets/base",
            "_view_module_version": "1.2.0",
            "_view_name": "LayoutView",
            "align_content": null,
            "align_items": null,
            "align_self": null,
            "border": null,
            "bottom": null,
            "display": null,
            "flex": null,
            "flex_flow": null,
            "grid_area": null,
            "grid_auto_columns": null,
            "grid_auto_flow": null,
            "grid_auto_rows": null,
            "grid_column": null,
            "grid_gap": null,
            "grid_row": null,
            "grid_template_areas": null,
            "grid_template_columns": null,
            "grid_template_rows": null,
            "height": null,
            "justify_content": null,
            "justify_items": null,
            "left": null,
            "margin": null,
            "max_height": null,
            "max_width": null,
            "min_height": null,
            "min_width": null,
            "object_fit": null,
            "object_position": null,
            "order": null,
            "overflow": null,
            "overflow_x": null,
            "overflow_y": null,
            "padding": null,
            "right": null,
            "top": null,
            "visibility": null,
            "width": null
          }
        },
        "f6c6001b7685463f948ffd7990e75247": {
          "model_module": "@jupyter-widgets/controls",
          "model_name": "ProgressStyleModel",
          "model_module_version": "1.5.0",
          "state": {
            "_model_module": "@jupyter-widgets/controls",
            "_model_module_version": "1.5.0",
            "_model_name": "ProgressStyleModel",
            "_view_count": null,
            "_view_module": "@jupyter-widgets/base",
            "_view_module_version": "1.2.0",
            "_view_name": "StyleView",
            "bar_color": null,
            "description_width": ""
          }
        },
        "af1c25b89a9049f38d0a6f64102a32d1": {
          "model_module": "@jupyter-widgets/base",
          "model_name": "LayoutModel",
          "model_module_version": "1.2.0",
          "state": {
            "_model_module": "@jupyter-widgets/base",
            "_model_module_version": "1.2.0",
            "_model_name": "LayoutModel",
            "_view_count": null,
            "_view_module": "@jupyter-widgets/base",
            "_view_module_version": "1.2.0",
            "_view_name": "LayoutView",
            "align_content": null,
            "align_items": null,
            "align_self": null,
            "border": null,
            "bottom": null,
            "display": null,
            "flex": null,
            "flex_flow": null,
            "grid_area": null,
            "grid_auto_columns": null,
            "grid_auto_flow": null,
            "grid_auto_rows": null,
            "grid_column": null,
            "grid_gap": null,
            "grid_row": null,
            "grid_template_areas": null,
            "grid_template_columns": null,
            "grid_template_rows": null,
            "height": null,
            "justify_content": null,
            "justify_items": null,
            "left": null,
            "margin": null,
            "max_height": null,
            "max_width": null,
            "min_height": null,
            "min_width": null,
            "object_fit": null,
            "object_position": null,
            "order": null,
            "overflow": null,
            "overflow_x": null,
            "overflow_y": null,
            "padding": null,
            "right": null,
            "top": null,
            "visibility": null,
            "width": null
          }
        },
        "d10d5f0297284061946e59e8c917f296": {
          "model_module": "@jupyter-widgets/controls",
          "model_name": "DescriptionStyleModel",
          "model_module_version": "1.5.0",
          "state": {
            "_model_module": "@jupyter-widgets/controls",
            "_model_module_version": "1.5.0",
            "_model_name": "DescriptionStyleModel",
            "_view_count": null,
            "_view_module": "@jupyter-widgets/base",
            "_view_module_version": "1.2.0",
            "_view_name": "StyleView",
            "description_width": ""
          }
        },
        "3e2998412a184244a9ecd8b21be8e6db": {
          "model_module": "@jupyter-widgets/controls",
          "model_name": "HBoxModel",
          "model_module_version": "1.5.0",
          "state": {
            "_dom_classes": [],
            "_model_module": "@jupyter-widgets/controls",
            "_model_module_version": "1.5.0",
            "_model_name": "HBoxModel",
            "_view_count": null,
            "_view_module": "@jupyter-widgets/controls",
            "_view_module_version": "1.5.0",
            "_view_name": "HBoxView",
            "box_style": "",
            "children": [
              "IPY_MODEL_9b8459c238b1495ca1803391d5d93a18",
              "IPY_MODEL_9e7a7eb5c2c343519ca7396e9c184760",
              "IPY_MODEL_42f215e07b574907af846a4c5eecf767"
            ],
            "layout": "IPY_MODEL_bc4fb439663e4f2b984e53fe36091485"
          }
        },
        "9b8459c238b1495ca1803391d5d93a18": {
          "model_module": "@jupyter-widgets/controls",
          "model_name": "HTMLModel",
          "model_module_version": "1.5.0",
          "state": {
            "_dom_classes": [],
            "_model_module": "@jupyter-widgets/controls",
            "_model_module_version": "1.5.0",
            "_model_name": "HTMLModel",
            "_view_count": null,
            "_view_module": "@jupyter-widgets/controls",
            "_view_module_version": "1.5.0",
            "_view_name": "HTMLView",
            "description": "",
            "description_tooltip": null,
            "layout": "IPY_MODEL_e21fcb866d624dceb984afa186b2a897",
            "placeholder": "​",
            "style": "IPY_MODEL_fa630f2a8ced4f9796c9aca5c1c1a6fc",
            "value": "Downloading (…)lve/main/config.json: 100%"
          }
        },
        "9e7a7eb5c2c343519ca7396e9c184760": {
          "model_module": "@jupyter-widgets/controls",
          "model_name": "FloatProgressModel",
          "model_module_version": "1.5.0",
          "state": {
            "_dom_classes": [],
            "_model_module": "@jupyter-widgets/controls",
            "_model_module_version": "1.5.0",
            "_model_name": "FloatProgressModel",
            "_view_count": null,
            "_view_module": "@jupyter-widgets/controls",
            "_view_module_version": "1.5.0",
            "_view_name": "ProgressView",
            "bar_style": "success",
            "description": "",
            "description_tooltip": null,
            "layout": "IPY_MODEL_0ec457d292a54b39b05f6a45b173ef0e",
            "max": 466,
            "min": 0,
            "orientation": "horizontal",
            "style": "IPY_MODEL_778d0e7f0260477db760192ce597c900",
            "value": 466
          }
        },
        "42f215e07b574907af846a4c5eecf767": {
          "model_module": "@jupyter-widgets/controls",
          "model_name": "HTMLModel",
          "model_module_version": "1.5.0",
          "state": {
            "_dom_classes": [],
            "_model_module": "@jupyter-widgets/controls",
            "_model_module_version": "1.5.0",
            "_model_name": "HTMLModel",
            "_view_count": null,
            "_view_module": "@jupyter-widgets/controls",
            "_view_module_version": "1.5.0",
            "_view_name": "HTMLView",
            "description": "",
            "description_tooltip": null,
            "layout": "IPY_MODEL_d8f08f6356934b9eb2408047079b9389",
            "placeholder": "​",
            "style": "IPY_MODEL_dfe2b35cb2de4dcbb2b72c4b4694f2e0",
            "value": " 466/466 [00:00&lt;00:00, 31.8kB/s]"
          }
        },
        "bc4fb439663e4f2b984e53fe36091485": {
          "model_module": "@jupyter-widgets/base",
          "model_name": "LayoutModel",
          "model_module_version": "1.2.0",
          "state": {
            "_model_module": "@jupyter-widgets/base",
            "_model_module_version": "1.2.0",
            "_model_name": "LayoutModel",
            "_view_count": null,
            "_view_module": "@jupyter-widgets/base",
            "_view_module_version": "1.2.0",
            "_view_name": "LayoutView",
            "align_content": null,
            "align_items": null,
            "align_self": null,
            "border": null,
            "bottom": null,
            "display": null,
            "flex": null,
            "flex_flow": null,
            "grid_area": null,
            "grid_auto_columns": null,
            "grid_auto_flow": null,
            "grid_auto_rows": null,
            "grid_column": null,
            "grid_gap": null,
            "grid_row": null,
            "grid_template_areas": null,
            "grid_template_columns": null,
            "grid_template_rows": null,
            "height": null,
            "justify_content": null,
            "justify_items": null,
            "left": null,
            "margin": null,
            "max_height": null,
            "max_width": null,
            "min_height": null,
            "min_width": null,
            "object_fit": null,
            "object_position": null,
            "order": null,
            "overflow": null,
            "overflow_x": null,
            "overflow_y": null,
            "padding": null,
            "right": null,
            "top": null,
            "visibility": null,
            "width": null
          }
        },
        "e21fcb866d624dceb984afa186b2a897": {
          "model_module": "@jupyter-widgets/base",
          "model_name": "LayoutModel",
          "model_module_version": "1.2.0",
          "state": {
            "_model_module": "@jupyter-widgets/base",
            "_model_module_version": "1.2.0",
            "_model_name": "LayoutModel",
            "_view_count": null,
            "_view_module": "@jupyter-widgets/base",
            "_view_module_version": "1.2.0",
            "_view_name": "LayoutView",
            "align_content": null,
            "align_items": null,
            "align_self": null,
            "border": null,
            "bottom": null,
            "display": null,
            "flex": null,
            "flex_flow": null,
            "grid_area": null,
            "grid_auto_columns": null,
            "grid_auto_flow": null,
            "grid_auto_rows": null,
            "grid_column": null,
            "grid_gap": null,
            "grid_row": null,
            "grid_template_areas": null,
            "grid_template_columns": null,
            "grid_template_rows": null,
            "height": null,
            "justify_content": null,
            "justify_items": null,
            "left": null,
            "margin": null,
            "max_height": null,
            "max_width": null,
            "min_height": null,
            "min_width": null,
            "object_fit": null,
            "object_position": null,
            "order": null,
            "overflow": null,
            "overflow_x": null,
            "overflow_y": null,
            "padding": null,
            "right": null,
            "top": null,
            "visibility": null,
            "width": null
          }
        },
        "fa630f2a8ced4f9796c9aca5c1c1a6fc": {
          "model_module": "@jupyter-widgets/controls",
          "model_name": "DescriptionStyleModel",
          "model_module_version": "1.5.0",
          "state": {
            "_model_module": "@jupyter-widgets/controls",
            "_model_module_version": "1.5.0",
            "_model_name": "DescriptionStyleModel",
            "_view_count": null,
            "_view_module": "@jupyter-widgets/base",
            "_view_module_version": "1.2.0",
            "_view_name": "StyleView",
            "description_width": ""
          }
        },
        "0ec457d292a54b39b05f6a45b173ef0e": {
          "model_module": "@jupyter-widgets/base",
          "model_name": "LayoutModel",
          "model_module_version": "1.2.0",
          "state": {
            "_model_module": "@jupyter-widgets/base",
            "_model_module_version": "1.2.0",
            "_model_name": "LayoutModel",
            "_view_count": null,
            "_view_module": "@jupyter-widgets/base",
            "_view_module_version": "1.2.0",
            "_view_name": "LayoutView",
            "align_content": null,
            "align_items": null,
            "align_self": null,
            "border": null,
            "bottom": null,
            "display": null,
            "flex": null,
            "flex_flow": null,
            "grid_area": null,
            "grid_auto_columns": null,
            "grid_auto_flow": null,
            "grid_auto_rows": null,
            "grid_column": null,
            "grid_gap": null,
            "grid_row": null,
            "grid_template_areas": null,
            "grid_template_columns": null,
            "grid_template_rows": null,
            "height": null,
            "justify_content": null,
            "justify_items": null,
            "left": null,
            "margin": null,
            "max_height": null,
            "max_width": null,
            "min_height": null,
            "min_width": null,
            "object_fit": null,
            "object_position": null,
            "order": null,
            "overflow": null,
            "overflow_x": null,
            "overflow_y": null,
            "padding": null,
            "right": null,
            "top": null,
            "visibility": null,
            "width": null
          }
        },
        "778d0e7f0260477db760192ce597c900": {
          "model_module": "@jupyter-widgets/controls",
          "model_name": "ProgressStyleModel",
          "model_module_version": "1.5.0",
          "state": {
            "_model_module": "@jupyter-widgets/controls",
            "_model_module_version": "1.5.0",
            "_model_name": "ProgressStyleModel",
            "_view_count": null,
            "_view_module": "@jupyter-widgets/base",
            "_view_module_version": "1.2.0",
            "_view_name": "StyleView",
            "bar_color": null,
            "description_width": ""
          }
        },
        "d8f08f6356934b9eb2408047079b9389": {
          "model_module": "@jupyter-widgets/base",
          "model_name": "LayoutModel",
          "model_module_version": "1.2.0",
          "state": {
            "_model_module": "@jupyter-widgets/base",
            "_model_module_version": "1.2.0",
            "_model_name": "LayoutModel",
            "_view_count": null,
            "_view_module": "@jupyter-widgets/base",
            "_view_module_version": "1.2.0",
            "_view_name": "LayoutView",
            "align_content": null,
            "align_items": null,
            "align_self": null,
            "border": null,
            "bottom": null,
            "display": null,
            "flex": null,
            "flex_flow": null,
            "grid_area": null,
            "grid_auto_columns": null,
            "grid_auto_flow": null,
            "grid_auto_rows": null,
            "grid_column": null,
            "grid_gap": null,
            "grid_row": null,
            "grid_template_areas": null,
            "grid_template_columns": null,
            "grid_template_rows": null,
            "height": null,
            "justify_content": null,
            "justify_items": null,
            "left": null,
            "margin": null,
            "max_height": null,
            "max_width": null,
            "min_height": null,
            "min_width": null,
            "object_fit": null,
            "object_position": null,
            "order": null,
            "overflow": null,
            "overflow_x": null,
            "overflow_y": null,
            "padding": null,
            "right": null,
            "top": null,
            "visibility": null,
            "width": null
          }
        },
        "dfe2b35cb2de4dcbb2b72c4b4694f2e0": {
          "model_module": "@jupyter-widgets/controls",
          "model_name": "DescriptionStyleModel",
          "model_module_version": "1.5.0",
          "state": {
            "_model_module": "@jupyter-widgets/controls",
            "_model_module_version": "1.5.0",
            "_model_name": "DescriptionStyleModel",
            "_view_count": null,
            "_view_module": "@jupyter-widgets/base",
            "_view_module_version": "1.2.0",
            "_view_name": "StyleView",
            "description_width": ""
          }
        },
        "2d7287c8ac6549408e6d59d97e0df430": {
          "model_module": "@jupyter-widgets/controls",
          "model_name": "HBoxModel",
          "model_module_version": "1.5.0",
          "state": {
            "_dom_classes": [],
            "_model_module": "@jupyter-widgets/controls",
            "_model_module_version": "1.5.0",
            "_model_name": "HBoxModel",
            "_view_count": null,
            "_view_module": "@jupyter-widgets/controls",
            "_view_module_version": "1.5.0",
            "_view_name": "HBoxView",
            "box_style": "",
            "children": [
              "IPY_MODEL_c142765677db4399b70070c815778142",
              "IPY_MODEL_da45acd523e64e1da913fea2ae551700",
              "IPY_MODEL_fde7f3292257459fa9d421720d714273"
            ],
            "layout": "IPY_MODEL_cf5fa2ffcd9b45d0b9922c1ae3c14e7a"
          }
        },
        "c142765677db4399b70070c815778142": {
          "model_module": "@jupyter-widgets/controls",
          "model_name": "HTMLModel",
          "model_module_version": "1.5.0",
          "state": {
            "_dom_classes": [],
            "_model_module": "@jupyter-widgets/controls",
            "_model_module_version": "1.5.0",
            "_model_name": "HTMLModel",
            "_view_count": null,
            "_view_module": "@jupyter-widgets/controls",
            "_view_module_version": "1.5.0",
            "_view_name": "HTMLView",
            "description": "",
            "description_tooltip": null,
            "layout": "IPY_MODEL_063dc703c3634014825c4e964de1631d",
            "placeholder": "​",
            "style": "IPY_MODEL_50a2e9b856024f96831e80f078c3097f",
            "value": "Downloading model.safetensors: 100%"
          }
        },
        "da45acd523e64e1da913fea2ae551700": {
          "model_module": "@jupyter-widgets/controls",
          "model_name": "FloatProgressModel",
          "model_module_version": "1.5.0",
          "state": {
            "_dom_classes": [],
            "_model_module": "@jupyter-widgets/controls",
            "_model_module_version": "1.5.0",
            "_model_name": "FloatProgressModel",
            "_view_count": null,
            "_view_module": "@jupyter-widgets/controls",
            "_view_module_version": "1.5.0",
            "_view_name": "ProgressView",
            "bar_style": "success",
            "description": "",
            "description_tooltip": null,
            "layout": "IPY_MODEL_05b36f0dcbe344309cefeae8a854f9c7",
            "max": 541795680,
            "min": 0,
            "orientation": "horizontal",
            "style": "IPY_MODEL_abb637a12f684b3bbad77e5392b3525c",
            "value": 541795680
          }
        },
        "fde7f3292257459fa9d421720d714273": {
          "model_module": "@jupyter-widgets/controls",
          "model_name": "HTMLModel",
          "model_module_version": "1.5.0",
          "state": {
            "_dom_classes": [],
            "_model_module": "@jupyter-widgets/controls",
            "_model_module_version": "1.5.0",
            "_model_name": "HTMLModel",
            "_view_count": null,
            "_view_module": "@jupyter-widgets/controls",
            "_view_module_version": "1.5.0",
            "_view_name": "HTMLView",
            "description": "",
            "description_tooltip": null,
            "layout": "IPY_MODEL_a4becc66adf1402c97ece6f8ca2a795d",
            "placeholder": "​",
            "style": "IPY_MODEL_a7b9cd83a586465b917d76070aa601ad",
            "value": " 542M/542M [00:02&lt;00:00, 254MB/s]"
          }
        },
        "cf5fa2ffcd9b45d0b9922c1ae3c14e7a": {
          "model_module": "@jupyter-widgets/base",
          "model_name": "LayoutModel",
          "model_module_version": "1.2.0",
          "state": {
            "_model_module": "@jupyter-widgets/base",
            "_model_module_version": "1.2.0",
            "_model_name": "LayoutModel",
            "_view_count": null,
            "_view_module": "@jupyter-widgets/base",
            "_view_module_version": "1.2.0",
            "_view_name": "LayoutView",
            "align_content": null,
            "align_items": null,
            "align_self": null,
            "border": null,
            "bottom": null,
            "display": null,
            "flex": null,
            "flex_flow": null,
            "grid_area": null,
            "grid_auto_columns": null,
            "grid_auto_flow": null,
            "grid_auto_rows": null,
            "grid_column": null,
            "grid_gap": null,
            "grid_row": null,
            "grid_template_areas": null,
            "grid_template_columns": null,
            "grid_template_rows": null,
            "height": null,
            "justify_content": null,
            "justify_items": null,
            "left": null,
            "margin": null,
            "max_height": null,
            "max_width": null,
            "min_height": null,
            "min_width": null,
            "object_fit": null,
            "object_position": null,
            "order": null,
            "overflow": null,
            "overflow_x": null,
            "overflow_y": null,
            "padding": null,
            "right": null,
            "top": null,
            "visibility": null,
            "width": null
          }
        },
        "063dc703c3634014825c4e964de1631d": {
          "model_module": "@jupyter-widgets/base",
          "model_name": "LayoutModel",
          "model_module_version": "1.2.0",
          "state": {
            "_model_module": "@jupyter-widgets/base",
            "_model_module_version": "1.2.0",
            "_model_name": "LayoutModel",
            "_view_count": null,
            "_view_module": "@jupyter-widgets/base",
            "_view_module_version": "1.2.0",
            "_view_name": "LayoutView",
            "align_content": null,
            "align_items": null,
            "align_self": null,
            "border": null,
            "bottom": null,
            "display": null,
            "flex": null,
            "flex_flow": null,
            "grid_area": null,
            "grid_auto_columns": null,
            "grid_auto_flow": null,
            "grid_auto_rows": null,
            "grid_column": null,
            "grid_gap": null,
            "grid_row": null,
            "grid_template_areas": null,
            "grid_template_columns": null,
            "grid_template_rows": null,
            "height": null,
            "justify_content": null,
            "justify_items": null,
            "left": null,
            "margin": null,
            "max_height": null,
            "max_width": null,
            "min_height": null,
            "min_width": null,
            "object_fit": null,
            "object_position": null,
            "order": null,
            "overflow": null,
            "overflow_x": null,
            "overflow_y": null,
            "padding": null,
            "right": null,
            "top": null,
            "visibility": null,
            "width": null
          }
        },
        "50a2e9b856024f96831e80f078c3097f": {
          "model_module": "@jupyter-widgets/controls",
          "model_name": "DescriptionStyleModel",
          "model_module_version": "1.5.0",
          "state": {
            "_model_module": "@jupyter-widgets/controls",
            "_model_module_version": "1.5.0",
            "_model_name": "DescriptionStyleModel",
            "_view_count": null,
            "_view_module": "@jupyter-widgets/base",
            "_view_module_version": "1.2.0",
            "_view_name": "StyleView",
            "description_width": ""
          }
        },
        "05b36f0dcbe344309cefeae8a854f9c7": {
          "model_module": "@jupyter-widgets/base",
          "model_name": "LayoutModel",
          "model_module_version": "1.2.0",
          "state": {
            "_model_module": "@jupyter-widgets/base",
            "_model_module_version": "1.2.0",
            "_model_name": "LayoutModel",
            "_view_count": null,
            "_view_module": "@jupyter-widgets/base",
            "_view_module_version": "1.2.0",
            "_view_name": "LayoutView",
            "align_content": null,
            "align_items": null,
            "align_self": null,
            "border": null,
            "bottom": null,
            "display": null,
            "flex": null,
            "flex_flow": null,
            "grid_area": null,
            "grid_auto_columns": null,
            "grid_auto_flow": null,
            "grid_auto_rows": null,
            "grid_column": null,
            "grid_gap": null,
            "grid_row": null,
            "grid_template_areas": null,
            "grid_template_columns": null,
            "grid_template_rows": null,
            "height": null,
            "justify_content": null,
            "justify_items": null,
            "left": null,
            "margin": null,
            "max_height": null,
            "max_width": null,
            "min_height": null,
            "min_width": null,
            "object_fit": null,
            "object_position": null,
            "order": null,
            "overflow": null,
            "overflow_x": null,
            "overflow_y": null,
            "padding": null,
            "right": null,
            "top": null,
            "visibility": null,
            "width": null
          }
        },
        "abb637a12f684b3bbad77e5392b3525c": {
          "model_module": "@jupyter-widgets/controls",
          "model_name": "ProgressStyleModel",
          "model_module_version": "1.5.0",
          "state": {
            "_model_module": "@jupyter-widgets/controls",
            "_model_module_version": "1.5.0",
            "_model_name": "ProgressStyleModel",
            "_view_count": null,
            "_view_module": "@jupyter-widgets/base",
            "_view_module_version": "1.2.0",
            "_view_name": "StyleView",
            "bar_color": null,
            "description_width": ""
          }
        },
        "a4becc66adf1402c97ece6f8ca2a795d": {
          "model_module": "@jupyter-widgets/base",
          "model_name": "LayoutModel",
          "model_module_version": "1.2.0",
          "state": {
            "_model_module": "@jupyter-widgets/base",
            "_model_module_version": "1.2.0",
            "_model_name": "LayoutModel",
            "_view_count": null,
            "_view_module": "@jupyter-widgets/base",
            "_view_module_version": "1.2.0",
            "_view_name": "LayoutView",
            "align_content": null,
            "align_items": null,
            "align_self": null,
            "border": null,
            "bottom": null,
            "display": null,
            "flex": null,
            "flex_flow": null,
            "grid_area": null,
            "grid_auto_columns": null,
            "grid_auto_flow": null,
            "grid_auto_rows": null,
            "grid_column": null,
            "grid_gap": null,
            "grid_row": null,
            "grid_template_areas": null,
            "grid_template_columns": null,
            "grid_template_rows": null,
            "height": null,
            "justify_content": null,
            "justify_items": null,
            "left": null,
            "margin": null,
            "max_height": null,
            "max_width": null,
            "min_height": null,
            "min_width": null,
            "object_fit": null,
            "object_position": null,
            "order": null,
            "overflow": null,
            "overflow_x": null,
            "overflow_y": null,
            "padding": null,
            "right": null,
            "top": null,
            "visibility": null,
            "width": null
          }
        },
        "a7b9cd83a586465b917d76070aa601ad": {
          "model_module": "@jupyter-widgets/controls",
          "model_name": "DescriptionStyleModel",
          "model_module_version": "1.5.0",
          "state": {
            "_model_module": "@jupyter-widgets/controls",
            "_model_module_version": "1.5.0",
            "_model_name": "DescriptionStyleModel",
            "_view_count": null,
            "_view_module": "@jupyter-widgets/base",
            "_view_module_version": "1.2.0",
            "_view_name": "StyleView",
            "description_width": ""
          }
        }
      }
    }
  },
  "nbformat": 4,
  "nbformat_minor": 0
}